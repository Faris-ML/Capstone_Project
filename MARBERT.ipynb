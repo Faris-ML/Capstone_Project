{
  "cells": [
    {
      "cell_type": "code",
      "execution_count": null,
      "metadata": {
        "colab": {
          "base_uri": "https://localhost:8080/"
        },
        "id": "1s7BS-772P4q",
        "outputId": "838f0188-87d1-4771-af91-5ed054c8938f"
      },
      "outputs": [
        {
          "output_type": "stream",
          "name": "stdout",
          "text": [
            "Looking in indexes: https://pypi.org/simple, https://us-python.pkg.dev/colab-wheels/public/simple/\n",
            "Requirement already satisfied: transformers in /usr/local/lib/python3.8/dist-packages (4.26.1)\n",
            "Requirement already satisfied: tokenizers!=0.11.3,<0.14,>=0.11.1 in /usr/local/lib/python3.8/dist-packages (from transformers) (0.13.2)\n",
            "Requirement already satisfied: tqdm>=4.27 in /usr/local/lib/python3.8/dist-packages (from transformers) (4.64.1)\n",
            "Requirement already satisfied: packaging>=20.0 in /usr/local/lib/python3.8/dist-packages (from transformers) (23.0)\n",
            "Requirement already satisfied: filelock in /usr/local/lib/python3.8/dist-packages (from transformers) (3.9.0)\n",
            "Requirement already satisfied: numpy>=1.17 in /usr/local/lib/python3.8/dist-packages (from transformers) (1.22.4)\n",
            "Requirement already satisfied: requests in /usr/local/lib/python3.8/dist-packages (from transformers) (2.25.1)\n",
            "Requirement already satisfied: huggingface-hub<1.0,>=0.11.0 in /usr/local/lib/python3.8/dist-packages (from transformers) (0.12.1)\n",
            "Requirement already satisfied: regex!=2019.12.17 in /usr/local/lib/python3.8/dist-packages (from transformers) (2022.6.2)\n",
            "Requirement already satisfied: pyyaml>=5.1 in /usr/local/lib/python3.8/dist-packages (from transformers) (6.0)\n",
            "Requirement already satisfied: typing-extensions>=3.7.4.3 in /usr/local/lib/python3.8/dist-packages (from huggingface-hub<1.0,>=0.11.0->transformers) (4.5.0)\n",
            "Requirement already satisfied: certifi>=2017.4.17 in /usr/local/lib/python3.8/dist-packages (from requests->transformers) (2022.12.7)\n",
            "Requirement already satisfied: chardet<5,>=3.0.2 in /usr/local/lib/python3.8/dist-packages (from requests->transformers) (4.0.0)\n",
            "Requirement already satisfied: idna<3,>=2.5 in /usr/local/lib/python3.8/dist-packages (from requests->transformers) (2.10)\n",
            "Requirement already satisfied: urllib3<1.27,>=1.21.1 in /usr/local/lib/python3.8/dist-packages (from requests->transformers) (1.24.3)\n"
          ]
        }
      ],
      "source": [
        "!pip install transformers"
      ]
    },
    {
      "cell_type": "code",
      "source": [
        "!nvidia-smi"
      ],
      "metadata": {
        "colab": {
          "base_uri": "https://localhost:8080/"
        },
        "id": "y-3LHbQHIpal",
        "outputId": "9349e708-506c-4376-e060-7e5602d14bc7"
      },
      "execution_count": null,
      "outputs": [
        {
          "output_type": "stream",
          "name": "stdout",
          "text": [
            "NVIDIA-SMI has failed because it couldn't communicate with the NVIDIA driver. Make sure that the latest NVIDIA driver is installed and running.\n",
            "\n"
          ]
        }
      ]
    },
    {
      "cell_type": "code",
      "source": [
        "from google.colab import drive\n",
        "drive.mount('/content/drive')"
      ],
      "metadata": {
        "colab": {
          "base_uri": "https://localhost:8080/"
        },
        "id": "PA_41AXe0-3D",
        "outputId": "6f4fef5f-4659-48ea-a041-f4636a46ed62"
      },
      "execution_count": null,
      "outputs": [
        {
          "output_type": "stream",
          "name": "stdout",
          "text": [
            "Drive already mounted at /content/drive; to attempt to forcibly remount, call drive.mount(\"/content/drive\", force_remount=True).\n"
          ]
        }
      ]
    },
    {
      "cell_type": "code",
      "execution_count": null,
      "metadata": {
        "id": "CBwQkSmv8bp0"
      },
      "outputs": [],
      "source": [
        "import tensorflow as tf\n",
        "from transformers import AutoTokenizer,TFAutoModelForMaskedLM,TFAutoModelForSequenceClassification,TextClassificationPipeline\n",
        "import pandas as pd\n",
        "import numpy as np\n",
        "from tensorflow.keras import backend as K\n",
        "from sklearn.model_selection import train_test_split\n",
        "from sklearn.metrics import confusion_matrix,f1_score,classification_report,auc,roc_curve,RocCurveDisplay\n",
        "import matplotlib.pyplot as plt\n",
        "import seaborn as sns"
      ]
    },
    {
      "cell_type": "markdown",
      "source": [
        "# ESSENTIAL FUNCTIONS"
      ],
      "metadata": {
        "id": "2Vg3d1SEwuUm"
      }
    },
    {
      "cell_type": "markdown",
      "source": [
        "## Data readness function"
      ],
      "metadata": {
        "id": "g-I8aCB7xx52"
      }
    },
    {
      "cell_type": "code",
      "source": [
        "def get_ds(data,Xcol,ycol,max_padding,tokenizer,transform_function=None, batch_size=32,test_ratio=0.2):\n",
        "\n",
        "  X = data[Xcol]\n",
        "  y = data[ycol]\n",
        "\n",
        "  X_train, X_test, y_train, y_test = train_test_split(X,y , test_size=test_ratio,random_state=42)\n",
        "  X_test, X_val, y_test, y_val = train_test_split(X_test, y_test, test_size=0.5,random_state=42)\n",
        "\n",
        "  if transform_function != None:\n",
        "    y_train = transform_function(y_train)\n",
        "    y_val = transform_function(y_val)\n",
        "    y_test = transform_function(y_test)\n",
        "  \n",
        "\n",
        "  X_train, y_train = list(X_train), y_train.tolist()\n",
        "  X_eval, y_eval = list(X_val), y_val.tolist()\n",
        "  X_test, y_test = list(X_test), y_test.tolist()\n",
        "\n",
        "\n",
        "  train_encodings = tokenizer(X_train, truncation=True, padding='max_length',max_length=max_padding)\n",
        "  eval_encodings = tokenizer(X_eval, truncation=True, padding='max_length',max_length=max_padding)\n",
        "  test_encodings = tokenizer(X_test, truncation=True, padding='max_length',max_length=max_padding)\n",
        "\n",
        "  train_ds = tf.data.Dataset.from_tensor_slices((\n",
        "      dict(train_encodings),\n",
        "      y_train\n",
        "  ))\n",
        "\n",
        "  eval_ds = tf.data.Dataset.from_tensor_slices((\n",
        "      dict(eval_encodings),\n",
        "      y_eval\n",
        "  ))\n",
        "  \n",
        "  test_ds = tf.data.Dataset.from_tensor_slices((\n",
        "      dict(test_encodings),\n",
        "      y_test\n",
        "  ))\n",
        "\n",
        "  train_ds = train_ds.batch(batch_size)\n",
        "  eval_ds = eval_ds.batch(batch_size)\n",
        "  test_ds = test_ds.batch(batch_size)\n",
        "\n",
        "  return train_ds,eval_ds,test_ds"
      ],
      "metadata": {
        "id": "PXp0bpLrx5yt"
      },
      "execution_count": null,
      "outputs": []
    },
    {
      "cell_type": "markdown",
      "source": [
        "## F-beta-score & Catagorical focal CrossEntropy"
      ],
      "metadata": {
        "id": "I3PJkPldw4iS"
      }
    },
    {
      "cell_type": "code",
      "execution_count": null,
      "metadata": {
        "id": "oZIe2k2H2jQv"
      },
      "outputs": [],
      "source": [
        "def f_beta_score(y_true, y_pred):\n",
        "  beta=1\n",
        "  def recall_m(y_true, y_pred):\n",
        "      TP = K.sum(K.round(K.clip(y_true * y_pred, 0, 1)))\n",
        "      Positives = K.sum(K.round(K.clip(y_true, 0, 1)))\n",
        "\n",
        "      recall = TP / (Positives+K.epsilon())\n",
        "      return recall\n",
        "\n",
        "\n",
        "  def precision_m(y_true, y_pred):\n",
        "      TP = K.sum(K.round(K.clip(y_true * y_pred, 0, 1)))\n",
        "      Pred_Positives = K.sum(K.round(K.clip(y_pred, 0, 1)))\n",
        "\n",
        "      precision = TP / (Pred_Positives+K.epsilon())\n",
        "      return precision\n",
        "\n",
        "  precision, recall = precision_m(y_true, y_pred), recall_m(y_true, y_pred)\n",
        "\n",
        "  return (beta+1)*((precision*recall)/(precision+recall+K.epsilon()))\n",
        "\n",
        "def focal_loss(gamma=2., alpha=0.01):\n",
        "\n",
        "    gamma = float(gamma)\n",
        "    alpha = float(alpha)\n",
        "\n",
        "    def focal_loss_fixed(y_true, y_pred):\n",
        "        \"\"\"Focal loss for multi-classification\n",
        "        FL(p_t)=-alpha(1-p_t)^{gamma}ln(p_t)\n",
        "        Notice: y_pred is probability after softmax\n",
        "        gradient is d(Fl)/d(p_t) not d(Fl)/d(x) as described in paper\n",
        "        d(Fl)/d(p_t) * [p_t(1-p_t)] = d(Fl)/d(x)\n",
        "        Focal Loss for Dense Object Detection\n",
        "        https://arxiv.org/abs/1708.02002\n",
        "\n",
        "        Arguments:\n",
        "            y_true {tensor} -- ground truth labels, shape of [batch_size, num_cls]\n",
        "            y_pred {tensor} -- model's output, shape of [batch_size, num_cls]\n",
        "\n",
        "        Keyword Arguments:\n",
        "            gamma {float} -- (default: {2.0})\n",
        "            alpha {float} -- (default: {4.0})\n",
        "\n",
        "        Returns:\n",
        "            [tensor] -- loss.\n",
        "        \"\"\"\n",
        "        epsilon = 1.e-9\n",
        "        y_true = tf.convert_to_tensor(y_true, tf.float32)\n",
        "        y_pred = tf.convert_to_tensor(y_pred, tf.float32)\n",
        "\n",
        "        model_out = tf.add(y_pred, epsilon)\n",
        "        ce = tf.multiply(y_true, -tf.math.log(model_out))\n",
        "        weight = tf.multiply(y_true, tf.pow(tf.subtract(1., model_out), gamma))\n",
        "        fl = tf.multiply(alpha, tf.multiply(weight, ce))\n",
        "        reduced_fl = tf.reduce_max(fl, axis=1)\n",
        "        return tf.reduce_mean(reduced_fl)\n",
        "    return focal_loss_fixed"
      ]
    },
    {
      "cell_type": "code",
      "source": [
        "def downsample(df:pd.DataFrame, label_col_name:str) -> pd.DataFrame:\n",
        "    # find the number of observations in the smallest group\n",
        "    nmin = df[label_col_name].value_counts().min()\n",
        "    return (df\n",
        "            # split the dataframe per group\n",
        "            .groupby(label_col_name)\n",
        "            # sample nmin observations from each group\n",
        "            .apply(lambda x: x.sample(nmin))\n",
        "            # recombine the dataframes\n",
        "            .reset_index(drop=True)\n",
        "            )"
      ],
      "metadata": {
        "id": "lsGJMdU9XG1j"
      },
      "execution_count": null,
      "outputs": []
    },
    {
      "cell_type": "markdown",
      "source": [
        "## Catagorical corss entropy focal loss"
      ],
      "metadata": {
        "id": "EjYsaPSwxFKn"
      }
    },
    {
      "cell_type": "code",
      "source": [
        "class Catagorecal_Focal_loss(tf.keras.losses.Loss):\n",
        "    def __init__(self):\n",
        "        super().__init__()\n",
        "    def call(self, y_true, y_pred):\n",
        "        sen_loss = tf.keras.losses.CategoricalCrossentropy()(y_true[:,0:3],y_pred[:,0:3])\n",
        "        sa_loss = tf.keras.losses.BinaryFocalCrossentropy(apply_class_balancing=True,alpha = 0.6)(y_true[:,3],y_pred[:,3])\n",
        "        sar_loss = tf.keras.losses.BinaryFocalCrossentropy(apply_class_balancing=True,alpha = 0.6)(y_true[:,4],y_pred[:,4])\n",
        "        con = [sen_loss,sa_loss,sar_loss]\n",
        "        y_p = tf.convert_to_tensor(con, tf.float32)\n",
        "\n",
        "        fl = tf.reduce_mean(y_p)\n",
        "        return fl"
      ],
      "metadata": {
        "id": "lMgbeC7tzhMJ"
      },
      "execution_count": null,
      "outputs": []
    },
    {
      "cell_type": "markdown",
      "source": [
        "# READ DATA"
      ],
      "metadata": {
        "id": "hyh0JzPBxRC2"
      }
    },
    {
      "cell_type": "code",
      "execution_count": null,
      "metadata": {
        "id": "Nedj4Ew28_aK"
      },
      "outputs": [],
      "source": [
        "sentiments = pd.read_csv('/content/drive/MyDrive/MARBERT DATASET/ArSAS/ArSAS..txt',sep='\\t')\n",
        "sarcasm_train = pd.read_csv('/content/drive/MyDrive/MARBERT DATASET/ArSarcasm-master/ArSarcasm-master/dataset/ArSarcasm_train.csv')\n",
        "sarcasm_test = pd.read_csv('/content/drive/MyDrive/MARBERT DATASET/ArSarcasm-master/ArSarcasm-master/dataset/ArSarcasm_test.csv')\n",
        "sarcasm=pd.concat([sarcasm_train,sarcasm_test])"
      ]
    },
    {
      "cell_type": "markdown",
      "source": [
        "# SARCASM\n"
      ],
      "metadata": {
        "id": "-4dT41UMCbpn"
      }
    },
    {
      "cell_type": "markdown",
      "source": [
        "## DATA VISUALIZATION"
      ],
      "metadata": {
        "id": "3VzBLcDKvaIY"
      }
    },
    {
      "cell_type": "code",
      "execution_count": null,
      "metadata": {
        "colab": {
          "base_uri": "https://localhost:8080/"
        },
        "id": "zCuVd9Jn9OXV",
        "outputId": "0b14ad93-7486-4eca-beb7-03c72c1115ad"
      },
      "outputs": [
        {
          "output_type": "execute_result",
          "data": {
            "text/plain": [
              "(10547, 6)"
            ]
          },
          "metadata": {},
          "execution_count": 9
        }
      ],
      "source": [
        "sarcasm.shape"
      ]
    },
    {
      "cell_type": "code",
      "source": [
        "sarcasm.columns"
      ],
      "metadata": {
        "colab": {
          "base_uri": "https://localhost:8080/"
        },
        "id": "G56A5Tiqz5GO",
        "outputId": "20afbade-1f43-4bd6-d0c8-11549380cb3a"
      },
      "execution_count": null,
      "outputs": [
        {
          "output_type": "execute_result",
          "data": {
            "text/plain": [
              "Index(['dialect', 'sarcasm', 'sentiment', 'original_sentiment', 'tweet',\n",
              "       'source'],\n",
              "      dtype='object')"
            ]
          },
          "metadata": {},
          "execution_count": 10
        }
      ]
    },
    {
      "cell_type": "code",
      "source": [
        "sarcasm=sarcasm.reset_index()"
      ],
      "metadata": {
        "id": "vgnD5I_-0Qir"
      },
      "execution_count": null,
      "outputs": []
    },
    {
      "cell_type": "code",
      "source": [
        "sarcasm"
      ],
      "metadata": {
        "colab": {
          "base_uri": "https://localhost:8080/",
          "height": 423
        },
        "id": "4xPff69D4lmi",
        "outputId": "8b7bb5ae-9041-4cc4-e0cb-a987f0b65aca"
      },
      "execution_count": null,
      "outputs": [
        {
          "output_type": "execute_result",
          "data": {
            "text/plain": [
              "       index dialect  sarcasm sentiment original_sentiment  \\\n",
              "0          0    gulf    False  negative           negative   \n",
              "1          1     msa    False   neutral           positive   \n",
              "2          2   egypt    False   neutral            neutral   \n",
              "3          3  levant     True   neutral           negative   \n",
              "4          4     msa    False   neutral           negative   \n",
              "...      ...     ...      ...       ...                ...   \n",
              "10542   2105     msa    False   neutral           positive   \n",
              "10543   2106     msa    False   neutral           negative   \n",
              "10544   2107     msa    False   neutral           positive   \n",
              "10545   2108   egypt    False  positive            neutral   \n",
              "10546   2109   egypt    False  negative           negative   \n",
              "\n",
              "                                                   tweet   source  \n",
              "0      \"نصيحه ما عمرك اتنزل لعبة سوبر ماريو مش زي ما ...  semeval  \n",
              "1      \"#نادين_نسيب_نجيم ❤️❤️❤️مجلة #ماري_كلير 💭#ملكة...  semeval  \n",
              "2                          \"@Alito_NBA اتوقع انه بيستمر\"  semeval  \n",
              "3         \"@KSA24 يعني \"بموافقتنا\" لأن دمشق صايرة موسكو\"  semeval  \n",
              "4      \"RT @alaahmad20: قائد في الحرس يعترف بفقدان ال...  semeval  \n",
              "...                                                  ...      ...  \n",
              "10542  د علاء الأسواني: ما هي آليات التحول الديموقراط...     astd  \n",
              "10543                             #أوقفوا_الفحم في #مصر      astd  \n",
              "10544  #الحب_هو أن تُشْبِعَ حبيبكَ اهتماماً قبل إشباع...     astd  \n",
              "10545  \"RT @H_alsheikh: اللهم كن لإخواننا في سوريا،ست...  semeval  \n",
              "10546  على الاخوان انهم يعرفوا ان الشعب بعد شويه هو ا...     astd  \n",
              "\n",
              "[10547 rows x 7 columns]"
            ],
            "text/html": [
              "\n",
              "  <div id=\"df-04411b33-2f4e-4b93-95af-0c933894868e\">\n",
              "    <div class=\"colab-df-container\">\n",
              "      <div>\n",
              "<style scoped>\n",
              "    .dataframe tbody tr th:only-of-type {\n",
              "        vertical-align: middle;\n",
              "    }\n",
              "\n",
              "    .dataframe tbody tr th {\n",
              "        vertical-align: top;\n",
              "    }\n",
              "\n",
              "    .dataframe thead th {\n",
              "        text-align: right;\n",
              "    }\n",
              "</style>\n",
              "<table border=\"1\" class=\"dataframe\">\n",
              "  <thead>\n",
              "    <tr style=\"text-align: right;\">\n",
              "      <th></th>\n",
              "      <th>index</th>\n",
              "      <th>dialect</th>\n",
              "      <th>sarcasm</th>\n",
              "      <th>sentiment</th>\n",
              "      <th>original_sentiment</th>\n",
              "      <th>tweet</th>\n",
              "      <th>source</th>\n",
              "    </tr>\n",
              "  </thead>\n",
              "  <tbody>\n",
              "    <tr>\n",
              "      <th>0</th>\n",
              "      <td>0</td>\n",
              "      <td>gulf</td>\n",
              "      <td>False</td>\n",
              "      <td>negative</td>\n",
              "      <td>negative</td>\n",
              "      <td>\"نصيحه ما عمرك اتنزل لعبة سوبر ماريو مش زي ما ...</td>\n",
              "      <td>semeval</td>\n",
              "    </tr>\n",
              "    <tr>\n",
              "      <th>1</th>\n",
              "      <td>1</td>\n",
              "      <td>msa</td>\n",
              "      <td>False</td>\n",
              "      <td>neutral</td>\n",
              "      <td>positive</td>\n",
              "      <td>\"#نادين_نسيب_نجيم ❤️❤️❤️مجلة #ماري_كلير 💭#ملكة...</td>\n",
              "      <td>semeval</td>\n",
              "    </tr>\n",
              "    <tr>\n",
              "      <th>2</th>\n",
              "      <td>2</td>\n",
              "      <td>egypt</td>\n",
              "      <td>False</td>\n",
              "      <td>neutral</td>\n",
              "      <td>neutral</td>\n",
              "      <td>\"@Alito_NBA اتوقع انه بيستمر\"</td>\n",
              "      <td>semeval</td>\n",
              "    </tr>\n",
              "    <tr>\n",
              "      <th>3</th>\n",
              "      <td>3</td>\n",
              "      <td>levant</td>\n",
              "      <td>True</td>\n",
              "      <td>neutral</td>\n",
              "      <td>negative</td>\n",
              "      <td>\"@KSA24 يعني \"بموافقتنا\" لأن دمشق صايرة موسكو\"</td>\n",
              "      <td>semeval</td>\n",
              "    </tr>\n",
              "    <tr>\n",
              "      <th>4</th>\n",
              "      <td>4</td>\n",
              "      <td>msa</td>\n",
              "      <td>False</td>\n",
              "      <td>neutral</td>\n",
              "      <td>negative</td>\n",
              "      <td>\"RT @alaahmad20: قائد في الحرس يعترف بفقدان ال...</td>\n",
              "      <td>semeval</td>\n",
              "    </tr>\n",
              "    <tr>\n",
              "      <th>...</th>\n",
              "      <td>...</td>\n",
              "      <td>...</td>\n",
              "      <td>...</td>\n",
              "      <td>...</td>\n",
              "      <td>...</td>\n",
              "      <td>...</td>\n",
              "      <td>...</td>\n",
              "    </tr>\n",
              "    <tr>\n",
              "      <th>10542</th>\n",
              "      <td>2105</td>\n",
              "      <td>msa</td>\n",
              "      <td>False</td>\n",
              "      <td>neutral</td>\n",
              "      <td>positive</td>\n",
              "      <td>د علاء الأسواني: ما هي آليات التحول الديموقراط...</td>\n",
              "      <td>astd</td>\n",
              "    </tr>\n",
              "    <tr>\n",
              "      <th>10543</th>\n",
              "      <td>2106</td>\n",
              "      <td>msa</td>\n",
              "      <td>False</td>\n",
              "      <td>neutral</td>\n",
              "      <td>negative</td>\n",
              "      <td>#أوقفوا_الفحم في #مصر</td>\n",
              "      <td>astd</td>\n",
              "    </tr>\n",
              "    <tr>\n",
              "      <th>10544</th>\n",
              "      <td>2107</td>\n",
              "      <td>msa</td>\n",
              "      <td>False</td>\n",
              "      <td>neutral</td>\n",
              "      <td>positive</td>\n",
              "      <td>#الحب_هو أن تُشْبِعَ حبيبكَ اهتماماً قبل إشباع...</td>\n",
              "      <td>astd</td>\n",
              "    </tr>\n",
              "    <tr>\n",
              "      <th>10545</th>\n",
              "      <td>2108</td>\n",
              "      <td>egypt</td>\n",
              "      <td>False</td>\n",
              "      <td>positive</td>\n",
              "      <td>neutral</td>\n",
              "      <td>\"RT @H_alsheikh: اللهم كن لإخواننا في سوريا،ست...</td>\n",
              "      <td>semeval</td>\n",
              "    </tr>\n",
              "    <tr>\n",
              "      <th>10546</th>\n",
              "      <td>2109</td>\n",
              "      <td>egypt</td>\n",
              "      <td>False</td>\n",
              "      <td>negative</td>\n",
              "      <td>negative</td>\n",
              "      <td>على الاخوان انهم يعرفوا ان الشعب بعد شويه هو ا...</td>\n",
              "      <td>astd</td>\n",
              "    </tr>\n",
              "  </tbody>\n",
              "</table>\n",
              "<p>10547 rows × 7 columns</p>\n",
              "</div>\n",
              "      <button class=\"colab-df-convert\" onclick=\"convertToInteractive('df-04411b33-2f4e-4b93-95af-0c933894868e')\"\n",
              "              title=\"Convert this dataframe to an interactive table.\"\n",
              "              style=\"display:none;\">\n",
              "        \n",
              "  <svg xmlns=\"http://www.w3.org/2000/svg\" height=\"24px\"viewBox=\"0 0 24 24\"\n",
              "       width=\"24px\">\n",
              "    <path d=\"M0 0h24v24H0V0z\" fill=\"none\"/>\n",
              "    <path d=\"M18.56 5.44l.94 2.06.94-2.06 2.06-.94-2.06-.94-.94-2.06-.94 2.06-2.06.94zm-11 1L8.5 8.5l.94-2.06 2.06-.94-2.06-.94L8.5 2.5l-.94 2.06-2.06.94zm10 10l.94 2.06.94-2.06 2.06-.94-2.06-.94-.94-2.06-.94 2.06-2.06.94z\"/><path d=\"M17.41 7.96l-1.37-1.37c-.4-.4-.92-.59-1.43-.59-.52 0-1.04.2-1.43.59L10.3 9.45l-7.72 7.72c-.78.78-.78 2.05 0 2.83L4 21.41c.39.39.9.59 1.41.59.51 0 1.02-.2 1.41-.59l7.78-7.78 2.81-2.81c.8-.78.8-2.07 0-2.86zM5.41 20L4 18.59l7.72-7.72 1.47 1.35L5.41 20z\"/>\n",
              "  </svg>\n",
              "      </button>\n",
              "      \n",
              "  <style>\n",
              "    .colab-df-container {\n",
              "      display:flex;\n",
              "      flex-wrap:wrap;\n",
              "      gap: 12px;\n",
              "    }\n",
              "\n",
              "    .colab-df-convert {\n",
              "      background-color: #E8F0FE;\n",
              "      border: none;\n",
              "      border-radius: 50%;\n",
              "      cursor: pointer;\n",
              "      display: none;\n",
              "      fill: #1967D2;\n",
              "      height: 32px;\n",
              "      padding: 0 0 0 0;\n",
              "      width: 32px;\n",
              "    }\n",
              "\n",
              "    .colab-df-convert:hover {\n",
              "      background-color: #E2EBFA;\n",
              "      box-shadow: 0px 1px 2px rgba(60, 64, 67, 0.3), 0px 1px 3px 1px rgba(60, 64, 67, 0.15);\n",
              "      fill: #174EA6;\n",
              "    }\n",
              "\n",
              "    [theme=dark] .colab-df-convert {\n",
              "      background-color: #3B4455;\n",
              "      fill: #D2E3FC;\n",
              "    }\n",
              "\n",
              "    [theme=dark] .colab-df-convert:hover {\n",
              "      background-color: #434B5C;\n",
              "      box-shadow: 0px 1px 3px 1px rgba(0, 0, 0, 0.15);\n",
              "      filter: drop-shadow(0px 1px 2px rgba(0, 0, 0, 0.3));\n",
              "      fill: #FFFFFF;\n",
              "    }\n",
              "  </style>\n",
              "\n",
              "      <script>\n",
              "        const buttonEl =\n",
              "          document.querySelector('#df-04411b33-2f4e-4b93-95af-0c933894868e button.colab-df-convert');\n",
              "        buttonEl.style.display =\n",
              "          google.colab.kernel.accessAllowed ? 'block' : 'none';\n",
              "\n",
              "        async function convertToInteractive(key) {\n",
              "          const element = document.querySelector('#df-04411b33-2f4e-4b93-95af-0c933894868e');\n",
              "          const dataTable =\n",
              "            await google.colab.kernel.invokeFunction('convertToInteractive',\n",
              "                                                     [key], {});\n",
              "          if (!dataTable) return;\n",
              "\n",
              "          const docLinkHtml = 'Like what you see? Visit the ' +\n",
              "            '<a target=\"_blank\" href=https://colab.research.google.com/notebooks/data_table.ipynb>data table notebook</a>'\n",
              "            + ' to learn more about interactive tables.';\n",
              "          element.innerHTML = '';\n",
              "          dataTable['output_type'] = 'display_data';\n",
              "          await google.colab.output.renderOutput(dataTable, element);\n",
              "          const docLink = document.createElement('div');\n",
              "          docLink.innerHTML = docLinkHtml;\n",
              "          element.appendChild(docLink);\n",
              "        }\n",
              "      </script>\n",
              "    </div>\n",
              "  </div>\n",
              "  "
            ]
          },
          "metadata": {},
          "execution_count": 12
        }
      ]
    },
    {
      "cell_type": "code",
      "source": [
        "sarcasm.info()"
      ],
      "metadata": {
        "colab": {
          "base_uri": "https://localhost:8080/"
        },
        "id": "ZL0kOD6W1LIm",
        "outputId": "3f52d181-eaa6-486f-e76b-57b73bf69c3d"
      },
      "execution_count": null,
      "outputs": [
        {
          "output_type": "stream",
          "name": "stdout",
          "text": [
            "<class 'pandas.core.frame.DataFrame'>\n",
            "RangeIndex: 10547 entries, 0 to 10546\n",
            "Data columns (total 7 columns):\n",
            " #   Column              Non-Null Count  Dtype \n",
            "---  ------              --------------  ----- \n",
            " 0   index               10547 non-null  int64 \n",
            " 1   dialect             10547 non-null  object\n",
            " 2   sarcasm             10547 non-null  bool  \n",
            " 3   sentiment           10547 non-null  object\n",
            " 4   original_sentiment  10547 non-null  object\n",
            " 5   tweet               10547 non-null  object\n",
            " 6   source              10547 non-null  object\n",
            "dtypes: bool(1), int64(1), object(5)\n",
            "memory usage: 504.8+ KB\n"
          ]
        }
      ]
    },
    {
      "cell_type": "code",
      "source": [
        "sarcasm['sarcasm'].value_counts()"
      ],
      "metadata": {
        "colab": {
          "base_uri": "https://localhost:8080/"
        },
        "id": "-P898s_23MqM",
        "outputId": "f8ef6490-06e9-4f56-ce88-f8f3b9ed3c0b"
      },
      "execution_count": null,
      "outputs": [
        {
          "output_type": "execute_result",
          "data": {
            "text/plain": [
              "False    8865\n",
              "True     1682\n",
              "Name: sarcasm, dtype: int64"
            ]
          },
          "metadata": {},
          "execution_count": 14
        }
      ]
    },
    {
      "cell_type": "code",
      "source": [
        "sarcasm['sarcasm']=sarcasm['sarcasm'].astype('int32')"
      ],
      "metadata": {
        "id": "VcS8qUbz1Z1Z"
      },
      "execution_count": null,
      "outputs": []
    },
    {
      "cell_type": "code",
      "source": [
        "sarcasm = downsample(sarcasm, 'sarcasm')"
      ],
      "metadata": {
        "id": "ojJJBZg5XPZL"
      },
      "execution_count": null,
      "outputs": []
    },
    {
      "cell_type": "code",
      "source": [
        "sarcasm['sarcasm'].value_counts()"
      ],
      "metadata": {
        "colab": {
          "base_uri": "https://localhost:8080/"
        },
        "id": "TdFSQK-4XXfH",
        "outputId": "40280b21-7d63-4bdb-9c0b-225e191b913e"
      },
      "execution_count": null,
      "outputs": [
        {
          "output_type": "execute_result",
          "data": {
            "text/plain": [
              "0    1682\n",
              "1    1682\n",
              "Name: sarcasm, dtype: int64"
            ]
          },
          "metadata": {},
          "execution_count": 17
        }
      ]
    },
    {
      "cell_type": "code",
      "source": [
        "sns.histplot(sarcasm,x='sentiment')"
      ],
      "metadata": {
        "colab": {
          "base_uri": "https://localhost:8080/",
          "height": 297
        },
        "id": "jtIV9LRQz39I",
        "outputId": "5d3546df-d840-4f7d-f2fd-e3f49a33dc95"
      },
      "execution_count": null,
      "outputs": [
        {
          "output_type": "execute_result",
          "data": {
            "text/plain": [
              "<matplotlib.axes._subplots.AxesSubplot at 0x7f42dc2ce790>"
            ]
          },
          "metadata": {},
          "execution_count": 49
        },
        {
          "output_type": "display_data",
          "data": {
            "text/plain": [
              "<Figure size 432x288 with 1 Axes>"
            ],
            "image/png": "[encoded data removed]"
          },
          "metadata": {
            "needs_background": "light"
          }
        }
      ]
    },
    {
      "cell_type": "code",
      "source": [
        "sns.histplot(sarcasm,x='original_sentiment')"
      ],
      "metadata": {
        "colab": {
          "base_uri": "https://localhost:8080/",
          "height": 298
        },
        "id": "Ea5u2Bvl4dKE",
        "outputId": "22720f2b-ef57-48ac-a915-48be445995f7"
      },
      "execution_count": null,
      "outputs": [
        {
          "output_type": "execute_result",
          "data": {
            "text/plain": [
              "<matplotlib.axes._subplots.AxesSubplot at 0x7f42dc3e56d0>"
            ]
          },
          "metadata": {},
          "execution_count": 50
        },
        {
          "output_type": "display_data",
          "data": {
            "text/plain": [
              "<Figure size 432x288 with 1 Axes>"
            ],
            "image/png": "[encoded data removed]"
          },
          "metadata": {
            "needs_background": "light"
          }
        }
      ]
    },
    {
      "cell_type": "code",
      "source": [],
      "metadata": {
        "id": "If1QzBr6XNua"
      },
      "execution_count": null,
      "outputs": []
    },
    {
      "cell_type": "markdown",
      "source": [
        "## MODEL"
      ],
      "metadata": {
        "id": "OS_kvzrzviho"
      }
    },
    {
      "cell_type": "code",
      "source": [
        "tokenizer = AutoTokenizer.from_pretrained(\"UBC-NLP/MARBERT\")\n",
        "model_sar = TFAutoModelForSequenceClassification.from_pretrained(\"UBC-NLP/MARBERT\",name='BERT',num_labels=1)"
      ],
      "metadata": {
        "colab": {
          "base_uri": "https://localhost:8080/"
        },
        "id": "nK8K7wU-Cgi2",
        "outputId": "633990fd-2e01-4199-d865-41d0dedbacb5"
      },
      "execution_count": null,
      "outputs": [
        {
          "output_type": "stream",
          "name": "stderr",
          "text": [
            "All model checkpoint layers were used when initializing TFBertForSequenceClassification.\n",
            "\n",
            "Some layers of TFBertForSequenceClassification were not initialized from the model checkpoint at UBC-NLP/MARBERT and are newly initialized: ['classifier']\n",
            "You should probably TRAIN this model on a down-stream task to be able to use it for predictions and inference.\n"
          ]
        }
      ]
    },
    {
      "cell_type": "code",
      "source": [
        "train,eval,test = get_ds(data=sarcasm,Xcol='tweet',ycol='sarcasm',max_padding=256,tokenizer=tokenizer)"
      ],
      "metadata": {
        "id": "1feRYtiQC7qM"
      },
      "execution_count": null,
      "outputs": []
    },
    {
      "cell_type": "code",
      "source": [
        "v=[]\n",
        "for i in range(len(list(eval))):\n",
        "  v=v+list(list(eval)[i][1].numpy())"
      ],
      "metadata": {
        "id": "1qMWRi6sjFuU"
      },
      "execution_count": null,
      "outputs": []
    },
    {
      "cell_type": "code",
      "source": [
        "len(v)"
      ],
      "metadata": {
        "colab": {
          "base_uri": "https://localhost:8080/"
        },
        "id": "vG7jZhZ6jQo6",
        "outputId": "9ae52123-6fba-4adf-971d-3c54e2801254"
      },
      "execution_count": null,
      "outputs": [
        {
          "output_type": "execute_result",
          "data": {
            "text/plain": [
              "337"
            ]
          },
          "metadata": {},
          "execution_count": 26
        }
      ]
    },
    {
      "cell_type": "code",
      "source": [
        "sum(v)"
      ],
      "metadata": {
        "colab": {
          "base_uri": "https://localhost:8080/"
        },
        "id": "nOs9-N3qjUiQ",
        "outputId": "a6f943e3-0b1b-4b4c-f4b4-d75bcc41338f"
      },
      "execution_count": null,
      "outputs": [
        {
          "output_type": "execute_result",
          "data": {
            "text/plain": [
              "161"
            ]
          },
          "metadata": {},
          "execution_count": 27
        }
      ]
    },
    {
      "cell_type": "code",
      "source": [
        "optimizer = tf.keras.optimizers.Adam(learning_rate=2e-05)\n",
        "\n",
        "early_stopping = tf.keras.callbacks.EarlyStopping(monitor='val_loss', patience=3,mode='min')\n",
        "\n",
        "model_sar.compile(optimizer = optimizer,\n",
        "              loss = tf.keras.losses.BinaryCrossentropy(),\n",
        "              metrics = [f_beta_score]\n",
        "              )"
      ],
      "metadata": {
        "id": "1YApCz4HDQhi"
      },
      "execution_count": null,
      "outputs": []
    },
    {
      "cell_type": "code",
      "source": [
        "model_sar.fit(train,validation_data=eval, epochs=10)"
      ],
      "metadata": {
        "colab": {
          "base_uri": "https://localhost:8080/"
        },
        "id": "PNWc93srDXDV",
        "outputId": "7eae9357-5b8d-451d-9b5b-e617885e3b03"
      },
      "execution_count": null,
      "outputs": [
        {
          "output_type": "stream",
          "name": "stdout",
          "text": [
            "Epoch 1/10\n"
          ]
        },
        {
          "output_type": "stream",
          "name": "stderr",
          "text": [
            "WARNING:tensorflow:From /usr/local/lib/python3.8/dist-packages/tensorflow/python/autograph/pyct/static_analysis/liveness.py:83: Analyzer.lamba_check (from tensorflow.python.autograph.pyct.static_analysis.liveness) is deprecated and will be removed after 2023-09-23.\n",
            "Instructions for updating:\n",
            "Lambda fuctions will be no more assumed to be used in the statement where they are used, or at least in the same block. https://github.com/tensorflow/tensorflow/issues/56089\n"
          ]
        },
        {
          "output_type": "stream",
          "name": "stdout",
          "text": [
            "85/85 [==============================] - 202s 2s/step - loss: 0.5926 - f_beta_score: 0.6548 - val_loss: 0.6064 - val_f_beta_score: 0.2067\n",
            "Epoch 2/10\n",
            "85/85 [==============================] - 142s 2s/step - loss: 0.4257 - f_beta_score: 0.7992 - val_loss: 0.6302 - val_f_beta_score: 0.7001\n",
            "Epoch 3/10\n",
            "85/85 [==============================] - 141s 2s/step - loss: 0.4310 - f_beta_score: 0.9044 - val_loss: 1.4331 - val_f_beta_score: 0.8354\n",
            "Epoch 4/10\n",
            "85/85 [==============================] - 145s 2s/step - loss: 0.5073 - f_beta_score: 0.8233 - val_loss: 0.4986 - val_f_beta_score: 0.7438\n",
            "Epoch 5/10\n",
            "85/85 [==============================] - 142s 2s/step - loss: 0.3341 - f_beta_score: 0.9113 - val_loss: 0.9645 - val_f_beta_score: 0.8303\n",
            "Epoch 6/10\n",
            "85/85 [==============================] - 140s 2s/step - loss: 0.2073 - f_beta_score: 0.9654 - val_loss: 1.1939 - val_f_beta_score: 0.8388\n",
            "Epoch 7/10\n",
            "85/85 [==============================] - 143s 2s/step - loss: 0.1762 - f_beta_score: 0.9836 - val_loss: 1.3094 - val_f_beta_score: 0.8165\n",
            "Epoch 8/10\n",
            "85/85 [==============================] - 139s 2s/step - loss: 0.1242 - f_beta_score: 0.9835 - val_loss: 1.8309 - val_f_beta_score: 0.7473\n",
            "Epoch 9/10\n",
            "85/85 [==============================] - 139s 2s/step - loss: 0.1167 - f_beta_score: 0.9869 - val_loss: 2.7921 - val_f_beta_score: 0.6401\n",
            "Epoch 10/10\n",
            "85/85 [==============================] - 139s 2s/step - loss: 0.1273 - f_beta_score: 0.9829 - val_loss: 1.3748 - val_f_beta_score: 0.8513\n"
          ]
        },
        {
          "output_type": "execute_result",
          "data": {
            "text/plain": [
              "<keras.callbacks.History at 0x7f17d27e1580>"
            ]
          },
          "metadata": {},
          "execution_count": 29
        }
      ]
    },
    {
      "cell_type": "code",
      "source": [
        "model_sar.save_pretrained('/content/drive/MyDrive/MARBERT DATASET/MODELS/sarcasmV4')"
      ],
      "metadata": {
        "id": "fwm11Z33LMq6"
      },
      "execution_count": null,
      "outputs": []
    },
    {
      "cell_type": "code",
      "source": [
        "y_pred = model_sar.predict(test)\n"
      ],
      "metadata": {
        "id": "fDi8fZ37DiMm",
        "colab": {
          "base_uri": "https://localhost:8080/"
        },
        "outputId": "39c8da3f-f367-422c-803b-d67a55fafe67"
      },
      "execution_count": null,
      "outputs": [
        {
          "output_type": "stream",
          "name": "stdout",
          "text": [
            "11/11 [==============================] - 9s 559ms/step\n"
          ]
        }
      ]
    },
    {
      "cell_type": "code",
      "source": [
        "y_pred.logits.shape"
      ],
      "metadata": {
        "id": "vYCHc_vPMAgc",
        "colab": {
          "base_uri": "https://localhost:8080/"
        },
        "outputId": "6f0a48b4-f289-480a-db53-e9ba412223f1"
      },
      "execution_count": null,
      "outputs": [
        {
          "output_type": "execute_result",
          "data": {
            "text/plain": [
              "(336, 1)"
            ]
          },
          "metadata": {},
          "execution_count": 31
        }
      ]
    },
    {
      "cell_type": "code",
      "source": [
        "y_pred"
      ],
      "metadata": {
        "id": "YFrZmhQZd0r3"
      },
      "execution_count": null,
      "outputs": []
    },
    {
      "cell_type": "code",
      "source": [
        "y_p=[]\n",
        "for i in y_pred.logits:\n",
        "  if i < 0:\n",
        "    y_p.append(0)\n",
        "  else:\n",
        "    y_p.append(1)"
      ],
      "metadata": {
        "id": "akZey5PZMQPF"
      },
      "execution_count": null,
      "outputs": []
    },
    {
      "cell_type": "code",
      "source": [
        "y_true=[]\n",
        "for i in range(len(list(test))):\n",
        "  y_true=y_true+list(list(test)[i][1].numpy())"
      ],
      "metadata": {
        "id": "kSNcXAQ9MDb6"
      },
      "execution_count": null,
      "outputs": []
    },
    {
      "cell_type": "code",
      "source": [
        "sum(y_true)"
      ],
      "metadata": {
        "id": "0Jul35TkOJUt",
        "colab": {
          "base_uri": "https://localhost:8080/"
        },
        "outputId": "66794e31-66d9-480f-c6a6-2537a13b1a55"
      },
      "execution_count": null,
      "outputs": [
        {
          "output_type": "execute_result",
          "data": {
            "text/plain": [
              "160"
            ]
          },
          "metadata": {},
          "execution_count": 37
        }
      ]
    },
    {
      "cell_type": "code",
      "source": [
        "cm = confusion_matrix(y_true=y_true, y_pred=y_p)\n",
        "print(cm)\n",
        "cm_df = pd.DataFrame(cm,\n",
        "                     index = ['not sarcastic','sarcastic'], \n",
        "                     columns = ['not sarcastic','sarcastic'])"
      ],
      "metadata": {
        "id": "OCrgJTiQDvry",
        "colab": {
          "base_uri": "https://localhost:8080/"
        },
        "outputId": "10198055-4882-4ebf-db8c-4e6653ba4242"
      },
      "execution_count": null,
      "outputs": [
        {
          "output_type": "stream",
          "name": "stdout",
          "text": [
            "[[120  56]\n",
            " [  9 151]]\n"
          ]
        }
      ]
    },
    {
      "cell_type": "code",
      "source": [
        "plt.figure(figsize=(10,10))\n",
        "sns.heatmap(cm_df, annot=True)\n",
        "plt.title('Confusion Matrix')\n",
        "plt.ylabel('Actal Values')\n",
        "plt.xlabel('Predicted Values')\n",
        "plt.savefig('confusion_matrix_heamap.png')\n",
        "plt.show()"
      ],
      "metadata": {
        "id": "H5X3bJ-4NRbV",
        "colab": {
          "base_uri": "https://localhost:8080/",
          "height": 621
        },
        "outputId": "b9e536e2-ff1c-4fdd-c2cb-906de4ba1195"
      },
      "execution_count": null,
      "outputs": [
        {
          "output_type": "display_data",
          "data": {
            "text/plain": [
              "<Figure size 720x720 with 2 Axes>"
            ],
            "image/png": "[encoded data removed]"
          },
          "metadata": {
            "needs_background": "light"
          }
        }
      ]
    },
    {
      "cell_type": "code",
      "source": [
        "print(classification_report(y_true,y_p))"
      ],
      "metadata": {
        "id": "yGogaaKbNdgj",
        "colab": {
          "base_uri": "https://localhost:8080/"
        },
        "outputId": "1765b4d7-bcd8-4483-f1bd-20664db15277"
      },
      "execution_count": null,
      "outputs": [
        {
          "output_type": "stream",
          "name": "stdout",
          "text": [
            "              precision    recall  f1-score   support\n",
            "\n",
            "           0       0.93      0.68      0.79       176\n",
            "           1       0.73      0.94      0.82       160\n",
            "\n",
            "    accuracy                           0.81       336\n",
            "   macro avg       0.83      0.81      0.80       336\n",
            "weighted avg       0.83      0.81      0.80       336\n",
            "\n"
          ]
        }
      ]
    },
    {
      "cell_type": "code",
      "source": [
        "f1_score(y_true,y_p)"
      ],
      "metadata": {
        "id": "oINxn_vcN4hn",
        "colab": {
          "base_uri": "https://localhost:8080/"
        },
        "outputId": "6c681bcc-e26a-4928-9d91-57236dd1cb2d"
      },
      "execution_count": null,
      "outputs": [
        {
          "output_type": "execute_result",
          "data": {
            "text/plain": [
              "0.8228882833787466"
            ]
          },
          "metadata": {},
          "execution_count": 41
        }
      ]
    },
    {
      "cell_type": "markdown",
      "source": [
        "# SPEACH ACT"
      ],
      "metadata": {
        "id": "6i4nk-d9In4J"
      }
    },
    {
      "cell_type": "markdown",
      "source": [
        "## FEATURE ENGINEEERING"
      ],
      "metadata": {
        "id": "aOh1ZOn6z3Of"
      }
    },
    {
      "cell_type": "markdown",
      "source": [
        "## DATA VISUALIZATION"
      ],
      "metadata": {
        "id": "guZyKkOuz9fN"
      }
    },
    {
      "cell_type": "code",
      "execution_count": null,
      "metadata": {
        "colab": {
          "base_uri": "https://localhost:8080/"
        },
        "id": "ppWxnCwF-WKa",
        "outputId": "cefd1ad1-6c74-4cc6-b144-a7e99c3cfa38"
      },
      "outputs": [
        {
          "output_type": "execute_result",
          "data": {
            "text/plain": [
              "(19897, 7)"
            ]
          },
          "metadata": {},
          "execution_count": 9
        }
      ],
      "source": [
        "sentiments.shape"
      ]
    },
    {
      "cell_type": "code",
      "source": [
        "sentiments.columns"
      ],
      "metadata": {
        "colab": {
          "base_uri": "https://localhost:8080/"
        },
        "id": "nMbKMivf5HFl",
        "outputId": "b109770f-7db0-48a6-8205-ef6ec1d7f035"
      },
      "execution_count": null,
      "outputs": [
        {
          "output_type": "execute_result",
          "data": {
            "text/plain": [
              "Index(['#Tweet_ID', 'Tweet_text', 'Topic', 'Sentiment_label',\n",
              "       'Sentiment_label_confidence', 'Speech_act_label',\n",
              "       'Speech_act_label_confidence'],\n",
              "      dtype='object')"
            ]
          },
          "metadata": {},
          "execution_count": 10
        }
      ]
    },
    {
      "cell_type": "code",
      "source": [
        "inx=sentiments[sentiments['Speech_act_label_confidence'] < 0.5].index"
      ],
      "metadata": {
        "id": "QSYly6AZrJBz"
      },
      "execution_count": null,
      "outputs": []
    },
    {
      "cell_type": "code",
      "source": [
        "sentiments=sentiments.drop(index=inx)"
      ],
      "metadata": {
        "id": "TrS7h9ysro8c"
      },
      "execution_count": null,
      "outputs": []
    },
    {
      "cell_type": "code",
      "execution_count": null,
      "metadata": {
        "colab": {
          "base_uri": "https://localhost:8080/"
        },
        "id": "g6-WMlAE3c1b",
        "outputId": "ca521b5f-fea7-4af6-f11b-c98de5d5ffda"
      },
      "outputs": [
        {
          "output_type": "execute_result",
          "data": {
            "text/plain": [
              "array(['Assertion', 'Expression', 'Question', 'Request', 'Recommendation',\n",
              "       'Miscellaneous'], dtype=object)"
            ]
          },
          "metadata": {},
          "execution_count": 13
        }
      ],
      "source": [
        "sentiments['Speech_act_label'].unique()"
      ]
    },
    {
      "cell_type": "code",
      "source": [
        "sentiments['Speech_act_label'].value_counts()"
      ],
      "metadata": {
        "colab": {
          "base_uri": "https://localhost:8080/"
        },
        "id": "GSa0Lzxc9w7O",
        "outputId": "d23d0f0d-b77c-4697-8c31-8f61b5553f0d"
      },
      "execution_count": null,
      "outputs": [
        {
          "output_type": "execute_result",
          "data": {
            "text/plain": [
              "Expression        10925\n",
              "Assertion          7719\n",
              "Question            661\n",
              "Request             134\n",
              "Recommendation       64\n",
              "Miscellaneous        36\n",
              "Name: Speech_act_label, dtype: int64"
            ]
          },
          "metadata": {},
          "execution_count": 14
        }
      ]
    },
    {
      "cell_type": "code",
      "source": [
        "plt.figure(figsize=(10,10))\n",
        "sns.histplot(sentiments,x='Speech_act_label',hue='Sentiment_label')"
      ],
      "metadata": {
        "colab": {
          "base_uri": "https://localhost:8080/",
          "height": 624
        },
        "id": "_HrzsMk77cIt",
        "outputId": "6eafd781-d401-43aa-a5d6-dc799a783f70"
      },
      "execution_count": null,
      "outputs": [
        {
          "output_type": "execute_result",
          "data": {
            "text/plain": [
              "<AxesSubplot:xlabel='Speech_act_label', ylabel='Count'>"
            ]
          },
          "metadata": {},
          "execution_count": 15
        },
        {
          "output_type": "display_data",
          "data": {
            "text/plain": [
              "<Figure size 720x720 with 1 Axes>"
            ],
            "image/png": "[encoded data removed]"
          },
          "metadata": {
            "needs_background": "light"
          }
        }
      ]
    },
    {
      "cell_type": "code",
      "source": [
        "def delete(x):\n",
        "  if x == 'Question' or x == 'Miscellaneous' or x == 'Request' or x == 'Recommendation':\n",
        "    return 'Neither'\n",
        "  else:\n",
        "    return x\n",
        "#sentiments['Speech_act_label'] = sentiments['Speech_act_label'].apply(delete)"
      ],
      "metadata": {
        "id": "zrUPc1nsYpTW"
      },
      "execution_count": null,
      "outputs": []
    },
    {
      "cell_type": "code",
      "source": [
        "inx=sentiments[(sentiments['Speech_act_label'] == 'Question') | (sentiments['Speech_act_label'] == 'Miscellaneous') | (sentiments['Speech_act_label'] == 'Request') | (sentiments['Speech_act_label'] == 'Recommendation') ].index"
      ],
      "metadata": {
        "id": "IeiBOXwterqG"
      },
      "execution_count": null,
      "outputs": []
    },
    {
      "cell_type": "code",
      "source": [
        "sentiments=sentiments.drop(index=inx)"
      ],
      "metadata": {
        "id": "hrb9dWUye71b"
      },
      "execution_count": null,
      "outputs": []
    },
    {
      "cell_type": "code",
      "source": [
        "plt.figure(figsize=(10,10))\n",
        "sns.histplot(sentiments,x='Speech_act_label',hue='Sentiment_label')"
      ],
      "metadata": {
        "colab": {
          "base_uri": "https://localhost:8080/",
          "height": 624
        },
        "id": "kbO3x3TEZkBv",
        "outputId": "85027900-9a13-4792-f7a9-a8cff85f5fea"
      },
      "execution_count": null,
      "outputs": [
        {
          "output_type": "execute_result",
          "data": {
            "text/plain": [
              "<AxesSubplot:xlabel='Speech_act_label', ylabel='Count'>"
            ]
          },
          "metadata": {},
          "execution_count": 19
        },
        {
          "output_type": "display_data",
          "data": {
            "text/plain": [
              "<Figure size 720x720 with 1 Axes>"
            ],
            "image/png": "[encoded data removed]"
          },
          "metadata": {
            "needs_background": "light"
          }
        }
      ]
    },
    {
      "cell_type": "code",
      "source": [
        "sentiments['Speech_act_label'].value_counts()"
      ],
      "metadata": {
        "colab": {
          "base_uri": "https://localhost:8080/"
        },
        "id": "isATLrwQZ-xP",
        "outputId": "4d5dbd17-d8f4-4ac8-8468-544fb07a30f9"
      },
      "execution_count": null,
      "outputs": [
        {
          "output_type": "execute_result",
          "data": {
            "text/plain": [
              "Assertion     7719\n",
              "Expression    7719\n",
              "Name: Speech_act_label, dtype: int64"
            ]
          },
          "metadata": {},
          "execution_count": 22
        }
      ]
    },
    {
      "cell_type": "code",
      "source": [
        "sentiments = downsample(sentiments ,'Speech_act_label' )"
      ],
      "metadata": {
        "id": "KJ0Oo_dYfIhr"
      },
      "execution_count": null,
      "outputs": []
    },
    {
      "cell_type": "code",
      "source": [
        "sa_e ={'Expression':0,'Assertion':1}"
      ],
      "metadata": {
        "id": "FW3ABddIfnTO"
      },
      "execution_count": null,
      "outputs": []
    },
    {
      "cell_type": "code",
      "source": [
        "sentiments['Speech_act_label'] = sentiments['Speech_act_label'].apply(lambda x : sa_e[x])"
      ],
      "metadata": {
        "id": "o3kJzNL6fw9y"
      },
      "execution_count": null,
      "outputs": []
    },
    {
      "cell_type": "code",
      "source": [
        "sns.histplot(sentiments,x='Speech_act_label_confidence')"
      ],
      "metadata": {
        "colab": {
          "base_uri": "https://localhost:8080/",
          "height": 298
        },
        "id": "mQJI-yfh9LU2",
        "outputId": "5af11f17-975f-4517-f2bb-8e724008006c"
      },
      "execution_count": null,
      "outputs": [
        {
          "output_type": "execute_result",
          "data": {
            "text/plain": [
              "<AxesSubplot:xlabel='Speech_act_label_confidence', ylabel='Count'>"
            ]
          },
          "metadata": {},
          "execution_count": 24
        },
        {
          "output_type": "display_data",
          "data": {
            "text/plain": [
              "<Figure size 432x288 with 1 Axes>"
            ],
            "image/png": "[encoded data removed]"
          },
          "metadata": {
            "needs_background": "light"
          }
        }
      ]
    },
    {
      "cell_type": "markdown",
      "source": [
        "## MODEL"
      ],
      "metadata": {
        "id": "hiBMHInh0DPq"
      }
    },
    {
      "cell_type": "code",
      "source": [
        "tokenizer = AutoTokenizer.from_pretrained(\"UBC-NLP/MARBERT\")\n",
        "model_sa = TFAutoModelForSequenceClassification.from_pretrained(\"UBC-NLP/MARBERT\",name='BERT',num_labels=1)"
      ],
      "metadata": {
        "id": "pnwQR3uqI2PF",
        "colab": {
          "base_uri": "https://localhost:8080/",
          "height": 250,
          "referenced_widgets": [
            "26f7088ab77f461281e384ddae0cb672",
            "4ed567ce1e654944a82dbde0cb465274",
            "5bde9ea898a643b5aa74a09b7777815f",
            "d813c4893989498b817b58a6b95fb22f",
            "fda699cb8a13496d95d2475a8d9fa42d",
            "0e2944b6d51740f1bcc33c503b2c1d95",
            "6531e4235e394f38b586ccacbd9f475f",
            "d3960e17c8424326ac6aeb38ed78b094",
            "f75af133ac664300afc877a8b6076dc5",
            "7f27c8ba146b43dbbdf7566751b1a269",
            "e0954ef4dc694d1cb90c89b744beea9b",
            "141fda415d194a748898cf8db178a277",
            "8ea42ca031d04c1d9aa7ee9e4d59d216",
            "63aaa17f6ca24b85a0c4df531e67b6b1",
            "fe7cfe3975c54e738461ee3682b75a0b",
            "572aa04636404a4c87d47b7827d7e860",
            "d2f6e87bf2fe4bc19e1f43b02a41532c",
            "7444c5c713664c1faf8faea8a2c3308b",
            "1d5a98ba4b864ab991f25a47000a332b",
            "3053ebc5bd194df680e443128917f4ad",
            "6562341dff6a48b58807d53aff754656",
            "dbadcc7310da47e8be715aed1a8916b5",
            "d47bf1e2a4fb4c74bad213d21efbd85a",
            "72f7113793aa4790b323d657f211a00b",
            "59c1b5c5811a4298bd91031b1f1df461",
            "fbf168b0463d465eb0ba9341613fda06",
            "bfa167988c2f4d0fb2e993177ba676bb",
            "8a30945d0c64468a8450fa344b74a501",
            "6d5c4297b5fb4007987c513f8d808600",
            "3258565dd05d4a15b4c7c8dde9b62712",
            "252a8268b13d491d9606a6bcf1d05a22",
            "eb7cfdbd1ebe492298e6d309adea1fa1",
            "c7c0758141af499395e11965d328a66d",
            "43e5761122524430ac2d972cdc9396cd",
            "10a8841319fb4d0a85498f5d93bf38ae",
            "9d60af443ee045c6bdfa702813791fa9",
            "8252376391e04b40a3894e10ac1d4808",
            "537160ae2fa84544bc5e44b2b0008e91",
            "5bef46d33691492d96bc484bdf754455",
            "5825a431d7f54c1c944a6b075c3db6b7",
            "46886370aa4a4ab183621d524fc69c82",
            "05117105b16744e3b4608e932a307825",
            "df6dbba7fb5a4621a6e19d691ad26aaf",
            "4c56105efd684eaea0db5c54820f6d0c",
            "9700cda8e4834a5682720502bebb744f",
            "dd39261433b8405999a33907d4ec9a3e",
            "8759cfe117e24485aeac5f6be24126da",
            "14da152db7b547288c49b09ce25e75b0",
            "46517fdaabff4cea900bf127a43c7ccb",
            "615a04045a614c23b29737e7beaed119",
            "72c48d1d35aa4120b64ef0c385d9cf81",
            "79f3d436da9946839d5ce7093675568e",
            "8c4d5ea2048844c8827879c754b6602d",
            "ca60dc8f9fa346309d4e4b864825de8d",
            "8976fbbc88904ebfb4662c5aeb52fc13"
          ]
        },
        "outputId": "c6c41335-e539-46d7-8f3e-1d4660a98d99"
      },
      "execution_count": null,
      "outputs": [
        {
          "output_type": "display_data",
          "data": {
            "text/plain": [
              "Downloading (…)okenizer_config.json:   0%|          | 0.00/376 [00:00<?, ?B/s]"
            ],
            "application/vnd.jupyter.widget-view+json": {
              "version_major": 2,
              "version_minor": 0,
              "model_id": "26f7088ab77f461281e384ddae0cb672"
            }
          },
          "metadata": {}
        },
        {
          "output_type": "display_data",
          "data": {
            "text/plain": [
              "Downloading (…)lve/main/config.json:   0%|          | 0.00/701 [00:00<?, ?B/s]"
            ],
            "application/vnd.jupyter.widget-view+json": {
              "version_major": 2,
              "version_minor": 0,
              "model_id": "141fda415d194a748898cf8db178a277"
            }
          },
          "metadata": {}
        },
        {
          "output_type": "display_data",
          "data": {
            "text/plain": [
              "Downloading (…)solve/main/vocab.txt:   0%|          | 0.00/1.10M [00:00<?, ?B/s]"
            ],
            "application/vnd.jupyter.widget-view+json": {
              "version_major": 2,
              "version_minor": 0,
              "model_id": "d47bf1e2a4fb4c74bad213d21efbd85a"
            }
          },
          "metadata": {}
        },
        {
          "output_type": "display_data",
          "data": {
            "text/plain": [
              "Downloading (…)cial_tokens_map.json:   0%|          | 0.00/112 [00:00<?, ?B/s]"
            ],
            "application/vnd.jupyter.widget-view+json": {
              "version_major": 2,
              "version_minor": 0,
              "model_id": "43e5761122524430ac2d972cdc9396cd"
            }
          },
          "metadata": {}
        },
        {
          "output_type": "display_data",
          "data": {
            "text/plain": [
              "Downloading (…)\"tf_model.h5\";:   0%|          | 0.00/652M [00:00<?, ?B/s]"
            ],
            "application/vnd.jupyter.widget-view+json": {
              "version_major": 2,
              "version_minor": 0,
              "model_id": "9700cda8e4834a5682720502bebb744f"
            }
          },
          "metadata": {}
        },
        {
          "output_type": "stream",
          "name": "stderr",
          "text": [
            "All model checkpoint layers were used when initializing TFBertForSequenceClassification.\n",
            "\n",
            "Some layers of TFBertForSequenceClassification were not initialized from the model checkpoint at UBC-NLP/MARBERT and are newly initialized: ['classifier']\n",
            "You should probably TRAIN this model on a down-stream task to be able to use it for predictions and inference.\n"
          ]
        }
      ]
    },
    {
      "cell_type": "code",
      "source": [
        "train,eval,test = get_ds(data=sentiments,Xcol='Tweet_text',ycol='Speech_act_label',max_padding=256,tokenizer=tokenizer)"
      ],
      "metadata": {
        "id": "gCpT-no2I790"
      },
      "execution_count": null,
      "outputs": []
    },
    {
      "cell_type": "code",
      "source": [
        "optimizer = tf.keras.optimizers.legacy.Adam(learning_rate=2e-05)\n",
        "\n",
        "early_stopping = tf.keras.callbacks.EarlyStopping(monitor='val_loss', patience=3,mode='min')\n",
        "\n",
        "model_sa.compile(optimizer = optimizer,\n",
        "              loss = tf.keras.losses.BinaryCrossentropy(from_logits=True),\n",
        "              metrics = [f_beta_score]\n",
        "              )"
      ],
      "metadata": {
        "id": "lG1zAH7TJE7h"
      },
      "execution_count": null,
      "outputs": []
    },
    {
      "cell_type": "code",
      "source": [
        "model_sa.fit(train,validation_data=eval, epochs=10)"
      ],
      "metadata": {
        "id": "5GjckEBpJNYz",
        "colab": {
          "base_uri": "https://localhost:8080/"
        },
        "outputId": "ea08f942-44f1-4891-b566-bff951c16a3e"
      },
      "execution_count": null,
      "outputs": [
        {
          "output_type": "stream",
          "name": "stdout",
          "text": [
            "Epoch 1/10\n"
          ]
        },
        {
          "output_type": "stream",
          "name": "stderr",
          "text": [
            "WARNING:tensorflow:From /usr/local/lib/python3.8/dist-packages/tensorflow/python/autograph/pyct/static_analysis/liveness.py:83: Analyzer.lamba_check (from tensorflow.python.autograph.pyct.static_analysis.liveness) is deprecated and will be removed after 2023-09-23.\n",
            "Instructions for updating:\n",
            "Lambda fuctions will be no more assumed to be used in the statement where they are used, or at least in the same block. https://github.com/tensorflow/tensorflow/issues/56089\n"
          ]
        },
        {
          "output_type": "stream",
          "name": "stdout",
          "text": [
            "386/386 [==============================] - 102s 211ms/step - loss: 0.2359 - f_beta_score: 0.9052 - val_loss: 0.1878 - val_f_beta_score: 0.9335\n",
            "Epoch 2/10\n",
            "386/386 [==============================] - 78s 203ms/step - loss: 0.1318 - f_beta_score: 0.9475 - val_loss: 0.2378 - val_f_beta_score: 0.9197\n",
            "Epoch 3/10\n",
            "386/386 [==============================] - 78s 203ms/step - loss: 0.0762 - f_beta_score: 0.9717 - val_loss: 0.3158 - val_f_beta_score: 0.9139\n",
            "Epoch 4/10\n",
            "386/386 [==============================] - 79s 203ms/step - loss: 0.0531 - f_beta_score: 0.9824 - val_loss: 0.3587 - val_f_beta_score: 0.9170\n",
            "Epoch 5/10\n",
            "386/386 [==============================] - 78s 203ms/step - loss: 0.0337 - f_beta_score: 0.9878 - val_loss: 0.3997 - val_f_beta_score: 0.9106\n",
            "Epoch 6/10\n",
            "386/386 [==============================] - 78s 203ms/step - loss: 0.0295 - f_beta_score: 0.9897 - val_loss: 0.5695 - val_f_beta_score: 0.8832\n",
            "Epoch 7/10\n",
            "386/386 [==============================] - 78s 203ms/step - loss: 0.0261 - f_beta_score: 0.9916 - val_loss: 0.4278 - val_f_beta_score: 0.9135\n",
            "Epoch 8/10\n",
            "386/386 [==============================] - 78s 203ms/step - loss: 0.0167 - f_beta_score: 0.9941 - val_loss: 0.4059 - val_f_beta_score: 0.9228\n",
            "Epoch 9/10\n",
            "386/386 [==============================] - 78s 203ms/step - loss: 0.0161 - f_beta_score: 0.9944 - val_loss: 0.4928 - val_f_beta_score: 0.9078\n",
            "Epoch 10/10\n",
            "386/386 [==============================] - 78s 203ms/step - loss: 0.0147 - f_beta_score: 0.9951 - val_loss: 0.7746 - val_f_beta_score: 0.8616\n"
          ]
        },
        {
          "output_type": "execute_result",
          "data": {
            "text/plain": [
              "<keras.callbacks.History at 0x7f993033af40>"
            ]
          },
          "metadata": {},
          "execution_count": 28
        }
      ]
    },
    {
      "cell_type": "code",
      "source": [
        "model_sa.save_pretrained('/content/drive/MyDrive/MARBERT DATASET/MODELS/speach_actV5')"
      ],
      "metadata": {
        "id": "fGRWTZ-FJSXh"
      },
      "execution_count": null,
      "outputs": []
    },
    {
      "cell_type": "code",
      "source": [
        "y_pred = model_sa.predict(test)"
      ],
      "metadata": {
        "id": "u9-H3LOXJYcY",
        "colab": {
          "base_uri": "https://localhost:8080/"
        },
        "outputId": "b3171dd8-4ffd-4b71-914a-9d2880ee77b1"
      },
      "execution_count": null,
      "outputs": [
        {
          "output_type": "stream",
          "name": "stdout",
          "text": [
            "49/49 [==============================] - 4s 73ms/step\n"
          ]
        }
      ]
    },
    {
      "cell_type": "code",
      "source": [
        "y_pred.logits"
      ],
      "metadata": {
        "colab": {
          "base_uri": "https://localhost:8080/"
        },
        "id": "TPnG7O5z6qSr",
        "outputId": "e3343e93-bbaf-4330-c880-ddc342690b91"
      },
      "execution_count": null,
      "outputs": [
        {
          "output_type": "execute_result",
          "data": {
            "text/plain": [
              "array([[ 0.12810872],\n",
              "       [-8.394683  ],\n",
              "       [ 8.032023  ],\n",
              "       ...,\n",
              "       [ 8.077981  ],\n",
              "       [ 6.9774036 ],\n",
              "       [-6.203824  ]], dtype=float32)"
            ]
          },
          "metadata": {},
          "execution_count": 52
        }
      ]
    },
    {
      "cell_type": "code",
      "source": [
        "y_p=[]\n",
        "for i in y_pred.logits:\n",
        "    y_p.append(i)"
      ],
      "metadata": {
        "id": "9tMj4vM1JgNv"
      },
      "execution_count": null,
      "outputs": []
    },
    {
      "cell_type": "code",
      "source": [
        "y_p"
      ],
      "metadata": {
        "id": "TpZ2Fb787EEK"
      },
      "execution_count": null,
      "outputs": []
    },
    {
      "cell_type": "code",
      "source": [
        "y_true=[]\n",
        "for i in range(len(list(test))):\n",
        "  y_true=y_true+list(list(test)[i][1].numpy())"
      ],
      "metadata": {
        "id": "Opd_I3oSJkqA"
      },
      "execution_count": null,
      "outputs": []
    },
    {
      "cell_type": "code",
      "source": [
        "fpr, tpr, thresholds = roc_curve(y_true, y_p)\n",
        "roc_auc = auc(fpr, tpr)\n",
        "display = RocCurveDisplay(fpr=fpr, tpr=tpr, roc_auc=roc_auc,estimator_name='marbert')\n",
        "display.plot()\n",
        "plt.show()"
      ],
      "metadata": {
        "colab": {
          "base_uri": "https://localhost:8080/",
          "height": 279
        },
        "id": "uD796jYL75yB",
        "outputId": "5e098af0-5b01-42ba-c9cd-c726333796e9"
      },
      "execution_count": null,
      "outputs": [
        {
          "output_type": "display_data",
          "data": {
            "text/plain": [
              "<Figure size 432x288 with 1 Axes>"
            ],
            "image/png": "[encoded data removed]"
          },
          "metadata": {
            "needs_background": "light"
          }
        }
      ]
    },
    {
      "cell_type": "code",
      "source": [
        "gmean = np.sqrt(tpr * (1 - fpr))\n",
        "index = np.argmax(gmean)\n",
        "threshold = round(thresholds[index], ndigits = 4)\n",
        "threshold"
      ],
      "metadata": {
        "colab": {
          "base_uri": "https://localhost:8080/"
        },
        "id": "agflks_k8QNw",
        "outputId": "3ad74b4c-b0cd-4569-dd79-4107ee0b4930"
      },
      "execution_count": null,
      "outputs": [
        {
          "output_type": "execute_result",
          "data": {
            "text/plain": [
              "6.1703"
            ]
          },
          "metadata": {},
          "execution_count": 57
        }
      ]
    },
    {
      "cell_type": "code",
      "source": [
        "for i,v in enumerate(y_p):\n",
        "  if v <threshold:\n",
        "    y_p[i]=0\n",
        "  else:\n",
        "    y_p[i]=1"
      ],
      "metadata": {
        "id": "JACxSBC18VyI"
      },
      "execution_count": null,
      "outputs": []
    },
    {
      "cell_type": "code",
      "source": [
        "print(len(y_true),' ',len(y_p))"
      ],
      "metadata": {
        "id": "Qx53IocISMWm",
        "colab": {
          "base_uri": "https://localhost:8080/"
        },
        "outputId": "50f64509-96a4-4325-a541-f6984195724a"
      },
      "execution_count": null,
      "outputs": [
        {
          "output_type": "stream",
          "name": "stdout",
          "text": [
            "1544   1544\n"
          ]
        }
      ]
    },
    {
      "cell_type": "code",
      "source": [
        "cm = confusion_matrix(y_true=y_true, y_pred=y_p)\n",
        "print(cm)\n",
        "cm_df = pd.DataFrame(cm,\n",
        "                     index = ['Expression','Assertion'], \n",
        "                     columns = ['Expression','Assertion'])\n",
        "plt.figure(figsize=(10,10))\n",
        "sns.heatmap(cm_df, annot=True)\n",
        "plt.title('Confusion Matrix')\n",
        "plt.ylabel('Actal Values')\n",
        "plt.xlabel('Predicted Values')\n",
        "plt.savefig('confusion_matrix_heamap.png')\n",
        "plt.show()"
      ],
      "metadata": {
        "id": "6oVNs6mgJo0v",
        "colab": {
          "base_uri": "https://localhost:8080/",
          "height": 657
        },
        "outputId": "9f7088f9-e605-4170-cf06-38be83ead2c3"
      },
      "execution_count": null,
      "outputs": [
        {
          "output_type": "stream",
          "name": "stdout",
          "text": [
            "[[683  79]\n",
            " [ 50 732]]\n"
          ]
        },
        {
          "output_type": "display_data",
          "data": {
            "text/plain": [
              "<Figure size 720x720 with 2 Axes>"
            ],
            "image/png": "[encoded data removed]"
          },
          "metadata": {
            "needs_background": "light"
          }
        }
      ]
    },
    {
      "cell_type": "code",
      "source": [
        "print(classification_report(y_true,y_p))"
      ],
      "metadata": {
        "id": "Uo4ynlS2SuYV",
        "colab": {
          "base_uri": "https://localhost:8080/"
        },
        "outputId": "3e675bee-bf04-44f3-a457-6fc878c8f273"
      },
      "execution_count": null,
      "outputs": [
        {
          "output_type": "stream",
          "name": "stdout",
          "text": [
            "              precision    recall  f1-score   support\n",
            "\n",
            "           0       0.93      0.90      0.91       762\n",
            "           1       0.90      0.94      0.92       782\n",
            "\n",
            "    accuracy                           0.92      1544\n",
            "   macro avg       0.92      0.92      0.92      1544\n",
            "weighted avg       0.92      0.92      0.92      1544\n",
            "\n"
          ]
        }
      ]
    },
    {
      "cell_type": "code",
      "source": [
        "f1_score(y_true,y_p,average='weighted')"
      ],
      "metadata": {
        "id": "Z3UT3FUBS1Rh",
        "colab": {
          "base_uri": "https://localhost:8080/"
        },
        "outputId": "20c1f438-2935-498e-a098-48788fdc6041"
      },
      "execution_count": null,
      "outputs": [
        {
          "output_type": "execute_result",
          "data": {
            "text/plain": [
              "0.9164009255536206"
            ]
          },
          "metadata": {},
          "execution_count": 63
        }
      ]
    },
    {
      "cell_type": "markdown",
      "source": [
        "# PREPARE DATA"
      ],
      "metadata": {
        "id": "wdUsoMnJA-TB"
      }
    },
    {
      "cell_type": "code",
      "source": [
        "sentiments.columns"
      ],
      "metadata": {
        "colab": {
          "base_uri": "https://localhost:8080/"
        },
        "id": "p_A6r6nwBDe9",
        "outputId": "77d2396e-239c-41cf-86a6-908c2d3416c8"
      },
      "execution_count": null,
      "outputs": [
        {
          "output_type": "execute_result",
          "data": {
            "text/plain": [
              "Index(['#Tweet_ID', 'Tweet_text', 'Topic', 'Sentiment_label',\n",
              "       'Sentiment_label_confidence', 'Speech_act_label',\n",
              "       'Speech_act_label_confidence'],\n",
              "      dtype='object')"
            ]
          },
          "metadata": {},
          "execution_count": 9
        }
      ]
    },
    {
      "cell_type": "code",
      "source": [
        "inx = sentiments[(sentiments['Speech_act_label_confidence'] < 0.5) | (sentiments['Sentiment_label_confidence'] < 0.5)].index\n",
        "sentiments = sentiments.drop(index=inx)\n",
        "inx=sentiments[(sentiments['Speech_act_label'] == 'Question') | (sentiments['Speech_act_label'] == 'Miscellaneous') | (sentiments['Speech_act_label'] == 'Request') | (sentiments['Speech_act_label'] == 'Recommendation') ].index\n",
        "sentiments=sentiments.drop(index=inx)"
      ],
      "metadata": {
        "id": "geEEWEwPI62_"
      },
      "execution_count": null,
      "outputs": []
    },
    {
      "cell_type": "code",
      "source": [
        "sentiments=sentiments.drop(columns=['#Tweet_ID','Topic','Sentiment_label_confidence','Speech_act_label_confidence'],axis=1)"
      ],
      "metadata": {
        "id": "FFHRcOeqIhWX"
      },
      "execution_count": null,
      "outputs": []
    },
    {
      "cell_type": "code",
      "source": [
        "sentiments.columns"
      ],
      "metadata": {
        "colab": {
          "base_uri": "https://localhost:8080/"
        },
        "id": "2qOwshEu9p8i",
        "outputId": "d153117d-6492-4956-fd11-85391d5e23a1"
      },
      "execution_count": null,
      "outputs": [
        {
          "output_type": "execute_result",
          "data": {
            "text/plain": [
              "Index(['Tweet_text', 'Sentiment_label', 'Speech_act_label'], dtype='object')"
            ]
          },
          "metadata": {},
          "execution_count": 12
        }
      ]
    },
    {
      "cell_type": "code",
      "source": [
        "sentiments.columns = ['tweet','sentiment','speech_act']"
      ],
      "metadata": {
        "id": "eeZuHjUaJUOF"
      },
      "execution_count": null,
      "outputs": []
    },
    {
      "cell_type": "code",
      "source": [
        "sentiments.columns"
      ],
      "metadata": {
        "colab": {
          "base_uri": "https://localhost:8080/"
        },
        "id": "p07ccmW2Jnm9",
        "outputId": "68a85592-e77b-4ab7-e84b-cb38d2971cc9"
      },
      "execution_count": null,
      "outputs": [
        {
          "output_type": "execute_result",
          "data": {
            "text/plain": [
              "Index(['tweet', 'sentiment', 'speech_act'], dtype='object')"
            ]
          },
          "metadata": {},
          "execution_count": 14
        }
      ]
    },
    {
      "cell_type": "code",
      "source": [
        "sarcasm.columns"
      ],
      "metadata": {
        "colab": {
          "base_uri": "https://localhost:8080/"
        },
        "id": "VJS7kbP6IR9c",
        "outputId": "5d59cdcf-fe8e-4ab3-967a-4cd6ada63985"
      },
      "execution_count": null,
      "outputs": [
        {
          "output_type": "execute_result",
          "data": {
            "text/plain": [
              "Index(['dialect', 'sarcasm', 'sentiment', 'original_sentiment', 'tweet',\n",
              "       'source'],\n",
              "      dtype='object')"
            ]
          },
          "metadata": {},
          "execution_count": 15
        }
      ]
    },
    {
      "cell_type": "code",
      "source": [
        "sarcasm = sarcasm.drop(columns=['dialect','original_sentiment','source'])"
      ],
      "metadata": {
        "id": "AxTS6Wk-Jq9V"
      },
      "execution_count": null,
      "outputs": []
    },
    {
      "cell_type": "code",
      "source": [
        "sarcasm.columns"
      ],
      "metadata": {
        "colab": {
          "base_uri": "https://localhost:8080/"
        },
        "id": "CASihRM1J72N",
        "outputId": "75e16633-f7d8-4b1e-a8cb-f6531e7005fe"
      },
      "execution_count": null,
      "outputs": [
        {
          "output_type": "execute_result",
          "data": {
            "text/plain": [
              "Index(['sarcasm', 'sentiment', 'tweet'], dtype='object')"
            ]
          },
          "metadata": {},
          "execution_count": 17
        }
      ]
    },
    {
      "cell_type": "code",
      "source": [
        "sarcasm = sarcasm.loc[:,['tweet','sentiment','sarcasm']]"
      ],
      "metadata": {
        "id": "lyxwhZxOKD3t"
      },
      "execution_count": null,
      "outputs": []
    },
    {
      "cell_type": "code",
      "source": [
        "sarcasm.columns"
      ],
      "metadata": {
        "colab": {
          "base_uri": "https://localhost:8080/"
        },
        "id": "PP1n6he_KoPl",
        "outputId": "af231267-0290-4865-be04-01a948328714"
      },
      "execution_count": null,
      "outputs": [
        {
          "output_type": "execute_result",
          "data": {
            "text/plain": [
              "Index(['tweet', 'sentiment', 'sarcasm'], dtype='object')"
            ]
          },
          "metadata": {},
          "execution_count": 19
        }
      ]
    },
    {
      "cell_type": "code",
      "source": [
        "sarcasm.info()"
      ],
      "metadata": {
        "colab": {
          "base_uri": "https://localhost:8080/"
        },
        "id": "1-PtKSDxOSXd",
        "outputId": "f56ec525-2c90-425f-f257-db16af806c0d"
      },
      "execution_count": null,
      "outputs": [
        {
          "output_type": "stream",
          "name": "stdout",
          "text": [
            "<class 'pandas.core.frame.DataFrame'>\n",
            "Int64Index: 10547 entries, 0 to 2109\n",
            "Data columns (total 3 columns):\n",
            " #   Column     Non-Null Count  Dtype \n",
            "---  ------     --------------  ----- \n",
            " 0   tweet      10547 non-null  object\n",
            " 1   sentiment  10547 non-null  object\n",
            " 2   sarcasm    10547 non-null  bool  \n",
            "dtypes: bool(1), object(2)\n",
            "memory usage: 257.5+ KB\n"
          ]
        }
      ]
    },
    {
      "cell_type": "code",
      "source": [
        "tokenizer = AutoTokenizer.from_pretrained(\"UBC-NLP/MARBERT\")\n",
        "model_sa = TFAutoModelForSequenceClassification.from_pretrained(\"/content/drive/MyDrive/MARBERT DATASET/MODELS/speach_actV5\",name='BERT')\n",
        "model_sn = TFAutoModelForSequenceClassification.from_pretrained(\"/content/drive/MyDrive/MARBERT DATASET/MODELS/sarcasmV4\",name='BERT')"
      ],
      "metadata": {
        "colab": {
          "base_uri": "https://localhost:8080/",
          "height": 329,
          "referenced_widgets": [
            "9ea27c399a224736aaaa2614c9f12182",
            "694964596d0646dd9f8021aa95a668e3",
            "d686edd56f0e4f7483ede3e04e8e6a98",
            "f35158c6523f4492a527ef8bcd5aef3a",
            "f43fdc89b2294d67a14a7a029d613ee4",
            "486bfb93355046f7ac971ef8053f7cf7",
            "0a7298aace9347f4a2b7c52a1de3d595",
            "57ca61f32fec4782b4eb0b69f3be62f9",
            "b51a8e5f5d084b5da9ef6159bb88db3e",
            "7f3025c672524ab79020ba97dfc5ba11",
            "eca01f67c7a74f12b3538ab9e9c5004d",
            "c3a5f279eb5542f6b66740360f65ad38",
            "17c61572197b43c2b2360f36f4fc6b55",
            "8be08f71ce854b64bffd83cf3afe7c43",
            "0c6dff80e86541e7ab416ecf08f10299",
            "761ccffeee414fa38fb14d2769fc4d0e",
            "44b343e301f749e582dbffd9a9d0fdb2",
            "4811a01d6ed4416cbb34ae34de422373",
            "172add5b627b4183a11e478569ae35f9",
            "abda554a50e2491a9f1e2f6977917087",
            "d75e113908da4581980131ba0c864209",
            "e67ed555bccd4826a5671691923479bd",
            "15e0d6d159024c82a0eb2f83d29fc1a8",
            "9607cac230cc44b882b3054b5bea5b4e",
            "f7f2103bd8734eb589c993ca0d5cd2e3",
            "30edd4a95bbc426baeb002aecc8f478a",
            "e6370b30a5644492b6ad3f1cfb25f62b",
            "7af92b0b404140a3b8ea71ceb4f93bd0",
            "ec4d9ffc012e4e14abaf3ba3eed72f51",
            "f4bbe96a283a4f55b7b56cd845311206",
            "2366ad191f244858ae92e8501b020916",
            "de176dd60fd348f1b289b04f501a1b0e",
            "9966e0491379475fae7be1f9702a5e9d",
            "cbafd082516d445c92bec558528ce181",
            "691ed0f69782470bafd4551b11a2776b",
            "23d154f870df4e58bc6f3086a69da07e",
            "0de4e5b3a02d4626b9acfd3ae9b1ecab",
            "4ba83f45ea7c4cdc853c0251762adbaa",
            "1079028d0667492e8a06c44df23f99ac",
            "8f4f0ae224eb43e5add1b2154838dded",
            "8d67417552934d7db09576d397e099e9",
            "6095b436e8ab4306b49c87fdb2d6eb15",
            "087eaacd56af46e38b5ccf83eb1cb98b",
            "ac938f4ccc2e4a1aa31c359c71575c86"
          ]
        },
        "id": "4u64B5gMLbAs",
        "outputId": "f0f1fc04-7148-4a91-bfbb-ec85a4c74f24"
      },
      "execution_count": null,
      "outputs": [
        {
          "output_type": "display_data",
          "data": {
            "text/plain": [
              "Downloading (…)okenizer_config.json:   0%|          | 0.00/376 [00:00<?, ?B/s]"
            ],
            "application/vnd.jupyter.widget-view+json": {
              "version_major": 2,
              "version_minor": 0,
              "model_id": "9ea27c399a224736aaaa2614c9f12182"
            }
          },
          "metadata": {}
        },
        {
          "output_type": "display_data",
          "data": {
            "text/plain": [
              "Downloading (…)lve/main/config.json:   0%|          | 0.00/701 [00:00<?, ?B/s]"
            ],
            "application/vnd.jupyter.widget-view+json": {
              "version_major": 2,
              "version_minor": 0,
              "model_id": "c3a5f279eb5542f6b66740360f65ad38"
            }
          },
          "metadata": {}
        },
        {
          "output_type": "display_data",
          "data": {
            "text/plain": [
              "Downloading (…)solve/main/vocab.txt:   0%|          | 0.00/1.10M [00:00<?, ?B/s]"
            ],
            "application/vnd.jupyter.widget-view+json": {
              "version_major": 2,
              "version_minor": 0,
              "model_id": "15e0d6d159024c82a0eb2f83d29fc1a8"
            }
          },
          "metadata": {}
        },
        {
          "output_type": "display_data",
          "data": {
            "text/plain": [
              "Downloading (…)cial_tokens_map.json:   0%|          | 0.00/112 [00:00<?, ?B/s]"
            ],
            "application/vnd.jupyter.widget-view+json": {
              "version_major": 2,
              "version_minor": 0,
              "model_id": "cbafd082516d445c92bec558528ce181"
            }
          },
          "metadata": {}
        },
        {
          "output_type": "stream",
          "name": "stderr",
          "text": [
            "All model checkpoint layers were used when initializing TFBertForSequenceClassification.\n",
            "\n",
            "All the layers of TFBertForSequenceClassification were initialized from the model checkpoint at /content/drive/MyDrive/MARBERT DATASET/MODELS/speach_actV5.\n",
            "If your task is similar to the task the model of the checkpoint was trained on, you can already use TFBertForSequenceClassification for predictions without further training.\n",
            "Some layers from the model checkpoint at /content/drive/MyDrive/MARBERT DATASET/MODELS/sarcasmV4 were not used when initializing TFBertForSequenceClassification: ['dropout_37']\n",
            "- This IS expected if you are initializing TFBertForSequenceClassification from the checkpoint of a model trained on another task or with another architecture (e.g. initializing a BertForSequenceClassification model from a BertForPreTraining model).\n",
            "- This IS NOT expected if you are initializing TFBertForSequenceClassification from the checkpoint of a model that you expect to be exactly identical (initializing a BertForSequenceClassification model from a BertForSequenceClassification model).\n",
            "All the layers of TFBertForSequenceClassification were initialized from the model checkpoint at /content/drive/MyDrive/MARBERT DATASET/MODELS/sarcasmV4.\n",
            "If your task is similar to the task the model of the checkpoint was trained on, you can already use TFBertForSequenceClassification for predictions without further training.\n"
          ]
        }
      ]
    },
    {
      "cell_type": "code",
      "source": [
        "def get_sarcasm(txt):\n",
        "  tokens = tokenizer(txt,truncation=True, padding='max_length',max_length=256,return_tensors='tf')\n",
        "  p = model_sn.predict(dict(tokens)).logits\n",
        "  return p\n",
        "def get_speach_act(txt):\n",
        "  tokens=tokenizer(txt,truncation=True, padding='max_length',max_length=256,return_tensors='tf')\n",
        "  p = model_sa.predict(dict(tokens)).logits\n",
        "  return p"
      ],
      "metadata": {
        "id": "W5KfkEcuMSt1"
      },
      "execution_count": null,
      "outputs": []
    },
    {
      "cell_type": "code",
      "source": [
        "sa_p = get_speach_act(list(sarcasm['tweet'].values))\n",
        "sar_p = get_sarcasm(list(sentiments['tweet'].values))"
      ],
      "metadata": {
        "id": "U0N5zwf_PCZO",
        "colab": {
          "base_uri": "https://localhost:8080/"
        },
        "outputId": "e99e0a61-a186-4300-f238-81e65ba27db0"
      },
      "execution_count": null,
      "outputs": [
        {
          "output_type": "stream",
          "name": "stdout",
          "text": [
            "330/330 [==============================] - 190s 556ms/step\n",
            "550/550 [==============================] - 311s 561ms/step\n"
          ]
        }
      ]
    },
    {
      "cell_type": "code",
      "source": [
        "sar_p = sar_p > 0\n",
        "sa_p = sa_p > 6.1703"
      ],
      "metadata": {
        "id": "l-UuS8OjERI_"
      },
      "execution_count": null,
      "outputs": []
    },
    {
      "cell_type": "code",
      "source": [
        "sarcasm['speech_act'] = sa_p\n",
        "sentiments['sarcasm'] = sar_p"
      ],
      "metadata": {
        "id": "qMq7uItVDDq3"
      },
      "execution_count": null,
      "outputs": []
    },
    {
      "cell_type": "code",
      "source": [
        "sarcasm = sarcasm.loc[:,['tweet','sentiment','speech_act','sarcasm']]"
      ],
      "metadata": {
        "id": "sQLV-XThDWZf"
      },
      "execution_count": null,
      "outputs": []
    },
    {
      "cell_type": "code",
      "source": [
        "sarcasm.columns"
      ],
      "metadata": {
        "colab": {
          "base_uri": "https://localhost:8080/"
        },
        "id": "inPJnHBmG1-o",
        "outputId": "c6216ad4-e943-4b48-b8b3-fa8f4b4bcb0e"
      },
      "execution_count": null,
      "outputs": [
        {
          "output_type": "execute_result",
          "data": {
            "text/plain": [
              "Index(['tweet', 'sentiment', 'speech_act', 'sarcasm'], dtype='object')"
            ]
          },
          "metadata": {},
          "execution_count": 27
        }
      ]
    },
    {
      "cell_type": "code",
      "source": [
        "sentiments.columns"
      ],
      "metadata": {
        "colab": {
          "base_uri": "https://localhost:8080/"
        },
        "id": "WW2_1edpNVXW",
        "outputId": "7e8b35a1-b92b-4199-ce21-00d96c3a519c"
      },
      "execution_count": null,
      "outputs": [
        {
          "output_type": "execute_result",
          "data": {
            "text/plain": [
              "Index(['tweet', 'sentiment', 'speech_act', 'sarcasm'], dtype='object')"
            ]
          },
          "metadata": {},
          "execution_count": 28
        }
      ]
    },
    {
      "cell_type": "code",
      "source": [
        "sarcasm['speech_act'].unique()"
      ],
      "metadata": {
        "colab": {
          "base_uri": "https://localhost:8080/"
        },
        "id": "cgRohsPsGP9Q",
        "outputId": "a7ee8a57-5969-4428-e197-fdd4abe73cb5"
      },
      "execution_count": null,
      "outputs": [
        {
          "output_type": "execute_result",
          "data": {
            "text/plain": [
              "array([False,  True])"
            ]
          },
          "metadata": {},
          "execution_count": 29
        }
      ]
    },
    {
      "cell_type": "code",
      "source": [
        "df = pd.concat([sarcasm,sentiments],ignore_index=True,axis=0)"
      ],
      "metadata": {
        "id": "DKj0Bh_bDpt_"
      },
      "execution_count": null,
      "outputs": []
    },
    {
      "cell_type": "code",
      "source": [
        "df"
      ],
      "metadata": {
        "colab": {
          "base_uri": "https://localhost:8080/",
          "height": 423
        },
        "id": "KfTHu-7ODvaQ",
        "outputId": "1f0440c0-4e8a-4069-aa01-b2145b2d2201"
      },
      "execution_count": null,
      "outputs": [
        {
          "output_type": "execute_result",
          "data": {
            "text/plain": [
              "                                                   tweet sentiment  \\\n",
              "0      \"نصيحه ما عمرك اتنزل لعبة سوبر ماريو مش زي ما ...  negative   \n",
              "1      \"#نادين_نسيب_نجيم ❤️❤️❤️مجلة #ماري_كلير 💭#ملكة...   neutral   \n",
              "2                          \"@Alito_NBA اتوقع انه بيستمر\"   neutral   \n",
              "3         \"@KSA24 يعني \"بموافقتنا\" لأن دمشق صايرة موسكو\"   neutral   \n",
              "4      \"RT @alaahmad20: قائد في الحرس يعترف بفقدان ال...   neutral   \n",
              "...                                                  ...       ...   \n",
              "28139  ملخص مباراة نيجيريا vs الجزائر تصفيات كأس 🏆 ال...   Neutral   \n",
              "28140  ايطاليا في السان سيرو لعبت 42 مباراة 🇮🇹 31 فوز...  Positive   \n",
              "28141  المُلحق المؤهل لكأس العالم 🇪🇺أوروبا🇪🇺 مباراة ا...   Neutral   \n",
              "28142  رسائل وتوصيات منتدى شباب العالم .. د. عبدالله ...   Neutral   \n",
              "28143  لماذا الحكومات لم تحاسبهم؟ ربما تحريضهم للشباب...  Negative   \n",
              "\n",
              "       speech_act  sarcasm  \n",
              "0           False    False  \n",
              "1            True    False  \n",
              "2           False    False  \n",
              "3           False     True  \n",
              "4            True    False  \n",
              "...           ...      ...  \n",
              "28139   Assertion    False  \n",
              "28140  Expression    False  \n",
              "28141   Assertion    False  \n",
              "28142   Assertion    False  \n",
              "28143  Expression     True  \n",
              "\n",
              "[28144 rows x 4 columns]"
            ],
            "text/html": [
              "\n",
              "  <div id=\"df-b60c485b-26f9-49ec-90e7-a9815c580b11\">\n",
              "    <div class=\"colab-df-container\">\n",
              "      <div>\n",
              "<style scoped>\n",
              "    .dataframe tbody tr th:only-of-type {\n",
              "        vertical-align: middle;\n",
              "    }\n",
              "\n",
              "    .dataframe tbody tr th {\n",
              "        vertical-align: top;\n",
              "    }\n",
              "\n",
              "    .dataframe thead th {\n",
              "        text-align: right;\n",
              "    }\n",
              "</style>\n",
              "<table border=\"1\" class=\"dataframe\">\n",
              "  <thead>\n",
              "    <tr style=\"text-align: right;\">\n",
              "      <th></th>\n",
              "      <th>tweet</th>\n",
              "      <th>sentiment</th>\n",
              "      <th>speech_act</th>\n",
              "      <th>sarcasm</th>\n",
              "    </tr>\n",
              "  </thead>\n",
              "  <tbody>\n",
              "    <tr>\n",
              "      <th>0</th>\n",
              "      <td>\"نصيحه ما عمرك اتنزل لعبة سوبر ماريو مش زي ما ...</td>\n",
              "      <td>negative</td>\n",
              "      <td>False</td>\n",
              "      <td>False</td>\n",
              "    </tr>\n",
              "    <tr>\n",
              "      <th>1</th>\n",
              "      <td>\"#نادين_نسيب_نجيم ❤️❤️❤️مجلة #ماري_كلير 💭#ملكة...</td>\n",
              "      <td>neutral</td>\n",
              "      <td>True</td>\n",
              "      <td>False</td>\n",
              "    </tr>\n",
              "    <tr>\n",
              "      <th>2</th>\n",
              "      <td>\"@Alito_NBA اتوقع انه بيستمر\"</td>\n",
              "      <td>neutral</td>\n",
              "      <td>False</td>\n",
              "      <td>False</td>\n",
              "    </tr>\n",
              "    <tr>\n",
              "      <th>3</th>\n",
              "      <td>\"@KSA24 يعني \"بموافقتنا\" لأن دمشق صايرة موسكو\"</td>\n",
              "      <td>neutral</td>\n",
              "      <td>False</td>\n",
              "      <td>True</td>\n",
              "    </tr>\n",
              "    <tr>\n",
              "      <th>4</th>\n",
              "      <td>\"RT @alaahmad20: قائد في الحرس يعترف بفقدان ال...</td>\n",
              "      <td>neutral</td>\n",
              "      <td>True</td>\n",
              "      <td>False</td>\n",
              "    </tr>\n",
              "    <tr>\n",
              "      <th>...</th>\n",
              "      <td>...</td>\n",
              "      <td>...</td>\n",
              "      <td>...</td>\n",
              "      <td>...</td>\n",
              "    </tr>\n",
              "    <tr>\n",
              "      <th>28139</th>\n",
              "      <td>ملخص مباراة نيجيريا vs الجزائر تصفيات كأس 🏆 ال...</td>\n",
              "      <td>Neutral</td>\n",
              "      <td>Assertion</td>\n",
              "      <td>False</td>\n",
              "    </tr>\n",
              "    <tr>\n",
              "      <th>28140</th>\n",
              "      <td>ايطاليا في السان سيرو لعبت 42 مباراة 🇮🇹 31 فوز...</td>\n",
              "      <td>Positive</td>\n",
              "      <td>Expression</td>\n",
              "      <td>False</td>\n",
              "    </tr>\n",
              "    <tr>\n",
              "      <th>28141</th>\n",
              "      <td>المُلحق المؤهل لكأس العالم 🇪🇺أوروبا🇪🇺 مباراة ا...</td>\n",
              "      <td>Neutral</td>\n",
              "      <td>Assertion</td>\n",
              "      <td>False</td>\n",
              "    </tr>\n",
              "    <tr>\n",
              "      <th>28142</th>\n",
              "      <td>رسائل وتوصيات منتدى شباب العالم .. د. عبدالله ...</td>\n",
              "      <td>Neutral</td>\n",
              "      <td>Assertion</td>\n",
              "      <td>False</td>\n",
              "    </tr>\n",
              "    <tr>\n",
              "      <th>28143</th>\n",
              "      <td>لماذا الحكومات لم تحاسبهم؟ ربما تحريضهم للشباب...</td>\n",
              "      <td>Negative</td>\n",
              "      <td>Expression</td>\n",
              "      <td>True</td>\n",
              "    </tr>\n",
              "  </tbody>\n",
              "</table>\n",
              "<p>28144 rows × 4 columns</p>\n",
              "</div>\n",
              "      <button class=\"colab-df-convert\" onclick=\"convertToInteractive('df-b60c485b-26f9-49ec-90e7-a9815c580b11')\"\n",
              "              title=\"Convert this dataframe to an interactive table.\"\n",
              "              style=\"display:none;\">\n",
              "        \n",
              "  <svg xmlns=\"http://www.w3.org/2000/svg\" height=\"24px\"viewBox=\"0 0 24 24\"\n",
              "       width=\"24px\">\n",
              "    <path d=\"M0 0h24v24H0V0z\" fill=\"none\"/>\n",
              "    <path d=\"M18.56 5.44l.94 2.06.94-2.06 2.06-.94-2.06-.94-.94-2.06-.94 2.06-2.06.94zm-11 1L8.5 8.5l.94-2.06 2.06-.94-2.06-.94L8.5 2.5l-.94 2.06-2.06.94zm10 10l.94 2.06.94-2.06 2.06-.94-2.06-.94-.94-2.06-.94 2.06-2.06.94z\"/><path d=\"M17.41 7.96l-1.37-1.37c-.4-.4-.92-.59-1.43-.59-.52 0-1.04.2-1.43.59L10.3 9.45l-7.72 7.72c-.78.78-.78 2.05 0 2.83L4 21.41c.39.39.9.59 1.41.59.51 0 1.02-.2 1.41-.59l7.78-7.78 2.81-2.81c.8-.78.8-2.07 0-2.86zM5.41 20L4 18.59l7.72-7.72 1.47 1.35L5.41 20z\"/>\n",
              "  </svg>\n",
              "      </button>\n",
              "      \n",
              "  <style>\n",
              "    .colab-df-container {\n",
              "      display:flex;\n",
              "      flex-wrap:wrap;\n",
              "      gap: 12px;\n",
              "    }\n",
              "\n",
              "    .colab-df-convert {\n",
              "      background-color: #E8F0FE;\n",
              "      border: none;\n",
              "      border-radius: 50%;\n",
              "      cursor: pointer;\n",
              "      display: none;\n",
              "      fill: #1967D2;\n",
              "      height: 32px;\n",
              "      padding: 0 0 0 0;\n",
              "      width: 32px;\n",
              "    }\n",
              "\n",
              "    .colab-df-convert:hover {\n",
              "      background-color: #E2EBFA;\n",
              "      box-shadow: 0px 1px 2px rgba(60, 64, 67, 0.3), 0px 1px 3px 1px rgba(60, 64, 67, 0.15);\n",
              "      fill: #174EA6;\n",
              "    }\n",
              "\n",
              "    [theme=dark] .colab-df-convert {\n",
              "      background-color: #3B4455;\n",
              "      fill: #D2E3FC;\n",
              "    }\n",
              "\n",
              "    [theme=dark] .colab-df-convert:hover {\n",
              "      background-color: #434B5C;\n",
              "      box-shadow: 0px 1px 3px 1px rgba(0, 0, 0, 0.15);\n",
              "      filter: drop-shadow(0px 1px 2px rgba(0, 0, 0, 0.3));\n",
              "      fill: #FFFFFF;\n",
              "    }\n",
              "  </style>\n",
              "\n",
              "      <script>\n",
              "        const buttonEl =\n",
              "          document.querySelector('#df-b60c485b-26f9-49ec-90e7-a9815c580b11 button.colab-df-convert');\n",
              "        buttonEl.style.display =\n",
              "          google.colab.kernel.accessAllowed ? 'block' : 'none';\n",
              "\n",
              "        async function convertToInteractive(key) {\n",
              "          const element = document.querySelector('#df-b60c485b-26f9-49ec-90e7-a9815c580b11');\n",
              "          const dataTable =\n",
              "            await google.colab.kernel.invokeFunction('convertToInteractive',\n",
              "                                                     [key], {});\n",
              "          if (!dataTable) return;\n",
              "\n",
              "          const docLinkHtml = 'Like what you see? Visit the ' +\n",
              "            '<a target=\"_blank\" href=https://colab.research.google.com/notebooks/data_table.ipynb>data table notebook</a>'\n",
              "            + ' to learn more about interactive tables.';\n",
              "          element.innerHTML = '';\n",
              "          dataTable['output_type'] = 'display_data';\n",
              "          await google.colab.output.renderOutput(dataTable, element);\n",
              "          const docLink = document.createElement('div');\n",
              "          docLink.innerHTML = docLinkHtml;\n",
              "          element.appendChild(docLink);\n",
              "        }\n",
              "      </script>\n",
              "    </div>\n",
              "  </div>\n",
              "  "
            ]
          },
          "metadata": {},
          "execution_count": 31
        }
      ]
    },
    {
      "cell_type": "code",
      "source": [
        "df.loc[:,'sentiment'][df['sentiment'] == 'neutral']= 'Neutral'\n",
        "df.loc[:,'sentiment'][df['sentiment'] == 'positive'] = 'Positive'\n",
        "df.loc[:,'sentiment'][df['sentiment'] == 'negative'] = 'Negative'"
      ],
      "metadata": {
        "colab": {
          "base_uri": "https://localhost:8080/"
        },
        "id": "JdQp6XJQFhae",
        "outputId": "83207929-6511-4f74-b57a-ec4bd926e6b2"
      },
      "execution_count": null,
      "outputs": [
        {
          "output_type": "stream",
          "name": "stderr",
          "text": [
            "<ipython-input-32-b50184f46ea1>:1: SettingWithCopyWarning: \n",
            "A value is trying to be set on a copy of a slice from a DataFrame\n",
            "\n",
            "See the caveats in the documentation: https://pandas.pydata.org/pandas-docs/stable/user_guide/indexing.html#returning-a-view-versus-a-copy\n",
            "  df.loc[:,'sentiment'][df['sentiment'] == 'neutral']= 'Neutral'\n",
            "<ipython-input-32-b50184f46ea1>:2: SettingWithCopyWarning: \n",
            "A value is trying to be set on a copy of a slice from a DataFrame\n",
            "\n",
            "See the caveats in the documentation: https://pandas.pydata.org/pandas-docs/stable/user_guide/indexing.html#returning-a-view-versus-a-copy\n",
            "  df.loc[:,'sentiment'][df['sentiment'] == 'positive'] = 'Positive'\n",
            "<ipython-input-32-b50184f46ea1>:3: SettingWithCopyWarning: \n",
            "A value is trying to be set on a copy of a slice from a DataFrame\n",
            "\n",
            "See the caveats in the documentation: https://pandas.pydata.org/pandas-docs/stable/user_guide/indexing.html#returning-a-view-versus-a-copy\n",
            "  df.loc[:,'sentiment'][df['sentiment'] == 'negative'] = 'Negative'\n"
          ]
        }
      ]
    },
    {
      "cell_type": "code",
      "source": [
        "df.loc[:,'speech_act'][df['speech_act'] == 'Expression']= False\n",
        "df.loc[:,'speech_act'][df['speech_act'] == 'Assertion'] = True"
      ],
      "metadata": {
        "colab": {
          "base_uri": "https://localhost:8080/"
        },
        "id": "gjwJwKTbCDQ2",
        "outputId": "af68dfb9-16a3-47b5-cd64-b716f30c26ef"
      },
      "execution_count": null,
      "outputs": [
        {
          "output_type": "stream",
          "name": "stderr",
          "text": [
            "<ipython-input-35-28eb150de73a>:1: SettingWithCopyWarning: \n",
            "A value is trying to be set on a copy of a slice from a DataFrame\n",
            "\n",
            "See the caveats in the documentation: https://pandas.pydata.org/pandas-docs/stable/user_guide/indexing.html#returning-a-view-versus-a-copy\n",
            "  df.loc[:,'speech_act'][df['speech_act'] == 'Expression']= False\n",
            "<ipython-input-35-28eb150de73a>:2: SettingWithCopyWarning: \n",
            "A value is trying to be set on a copy of a slice from a DataFrame\n",
            "\n",
            "See the caveats in the documentation: https://pandas.pydata.org/pandas-docs/stable/user_guide/indexing.html#returning-a-view-versus-a-copy\n",
            "  df.loc[:,'speech_act'][df['speech_act'] == 'Assertion'] = True\n"
          ]
        }
      ]
    },
    {
      "cell_type": "code",
      "source": [
        "df['sentiment'].value_counts()"
      ],
      "metadata": {
        "colab": {
          "base_uri": "https://localhost:8080/"
        },
        "id": "qTIXjdbBFVKn",
        "outputId": "1baeb189-6f13-46cf-f0ad-d3996086e054"
      },
      "execution_count": null,
      "outputs": [
        {
          "output_type": "execute_result",
          "data": {
            "text/plain": [
              "Neutral     11684\n",
              "Negative    10041\n",
              "Positive     5583\n",
              "Mixed         836\n",
              "Name: sentiment, dtype: int64"
            ]
          },
          "metadata": {},
          "execution_count": 36
        }
      ]
    },
    {
      "cell_type": "code",
      "source": [
        "df['speech_act'].value_counts()"
      ],
      "metadata": {
        "colab": {
          "base_uri": "https://localhost:8080/"
        },
        "id": "ttA7tfsZF6cW",
        "outputId": "c0516e34-8a32-4795-bc6c-bc6188300b2d"
      },
      "execution_count": null,
      "outputs": [
        {
          "output_type": "execute_result",
          "data": {
            "text/plain": [
              "False    15787\n",
              "True     12357\n",
              "Name: speech_act, dtype: int64"
            ]
          },
          "metadata": {},
          "execution_count": 37
        }
      ]
    },
    {
      "cell_type": "code",
      "source": [
        "df['sarcasm'].value_counts()"
      ],
      "metadata": {
        "colab": {
          "base_uri": "https://localhost:8080/"
        },
        "id": "aMn-V2LtGeZO",
        "outputId": "2fd9eb9e-4f61-4812-e5fd-74900c825e9b"
      },
      "execution_count": null,
      "outputs": [
        {
          "output_type": "execute_result",
          "data": {
            "text/plain": [
              "False    18873\n",
              "True      9271\n",
              "Name: sarcasm, dtype: int64"
            ]
          },
          "metadata": {},
          "execution_count": 38
        }
      ]
    },
    {
      "cell_type": "code",
      "source": [
        "df.to_csv('/content/drive/MyDrive/MARBERT DATASET/final_data2.csv',index=False)"
      ],
      "metadata": {
        "id": "XsuY0Z4dOoh0"
      },
      "execution_count": null,
      "outputs": []
    },
    {
      "cell_type": "markdown",
      "source": [
        "# FINAL MODEL"
      ],
      "metadata": {
        "id": "yGBluPYuCg4A"
      }
    },
    {
      "cell_type": "markdown",
      "source": [
        "## READ DATA"
      ],
      "metadata": {
        "id": "0AmEcXfPK8Fd"
      }
    },
    {
      "cell_type": "code",
      "source": [
        "data = pd.read_csv('/content/drive/MyDrive/MARBERT DATASET/final_data2.csv')"
      ],
      "metadata": {
        "id": "M3MuTFfRUIIh"
      },
      "execution_count": null,
      "outputs": []
    },
    {
      "cell_type": "markdown",
      "source": [
        "## FEATURE ENGINEERING"
      ],
      "metadata": {
        "id": "cLAb30qvK_FV"
      }
    },
    {
      "cell_type": "code",
      "source": [
        "data.columns"
      ],
      "metadata": {
        "colab": {
          "base_uri": "https://localhost:8080/"
        },
        "id": "PYmRwqzwD1gG",
        "outputId": "6634d1b0-e4b9-402c-fd91-2c1ae7d8a2b7"
      },
      "execution_count": null,
      "outputs": [
        {
          "output_type": "execute_result",
          "data": {
            "text/plain": [
              "Index(['tweet', 'sentiment', 'speech_act', 'sarcasm'], dtype='object')"
            ]
          },
          "metadata": {},
          "execution_count": 9
        }
      ]
    },
    {
      "cell_type": "code",
      "source": [
        "ind = data[data['sentiment'] == 'Mixed'].index\n",
        "data = data.drop(index = ind).reset_index(drop = True)"
      ],
      "metadata": {
        "id": "6GGxtug1LTCh"
      },
      "execution_count": null,
      "outputs": []
    },
    {
      "cell_type": "code",
      "source": [
        "print(data['sentiment'].value_counts())\n",
        "print(data['sarcasm'].value_counts())\n",
        "print(data['speech_act'].value_counts())"
      ],
      "metadata": {
        "colab": {
          "base_uri": "https://localhost:8080/"
        },
        "id": "1rG-_g5KL4Fk",
        "outputId": "35eda342-5b05-4b67-e35c-12301b8c9dec"
      },
      "execution_count": null,
      "outputs": [
        {
          "output_type": "stream",
          "name": "stdout",
          "text": [
            "Neutral     11684\n",
            "Negative    10041\n",
            "Positive     5583\n",
            "Name: sentiment, dtype: int64\n",
            "False    18670\n",
            "True      8638\n",
            "Name: sarcasm, dtype: int64\n",
            "False    14992\n",
            "True     12316\n",
            "Name: speech_act, dtype: int64\n"
          ]
        }
      ]
    },
    {
      "cell_type": "code",
      "source": [
        "print(1-(data['sentiment'].value_counts()/data.shape[0]))\n",
        "print(1-(data['sarcasm'].value_counts()/data.shape[0]))\n",
        "print(1-(data['speech_act'].value_counts()/data.shape[0]))"
      ],
      "metadata": {
        "colab": {
          "base_uri": "https://localhost:8080/"
        },
        "id": "sooVJbKrMuXD",
        "outputId": "db5e921b-5342-4e58-de3d-ee312f603b21"
      },
      "execution_count": null,
      "outputs": [
        {
          "output_type": "stream",
          "name": "stdout",
          "text": [
            "Neutral     0.572140\n",
            "Negative    0.632306\n",
            "Positive    0.795554\n",
            "Name: sentiment, dtype: float64\n",
            "False    0.316318\n",
            "True     0.683682\n",
            "Name: sarcasm, dtype: float64\n",
            "False    0.451003\n",
            "True     0.548997\n",
            "Name: speech_act, dtype: float64\n"
          ]
        }
      ]
    },
    {
      "cell_type": "code",
      "source": [
        "speech_act_E = {False:0,True:1}\n",
        "sarcasm_E = {False:0,True:1}\n",
        "sentiment_E = {'Positive':0,'Neutral':1,'Negative':2}"
      ],
      "metadata": {
        "id": "P21_BXIYQRUc"
      },
      "execution_count": null,
      "outputs": []
    },
    {
      "cell_type": "code",
      "source": [
        "data['sentiment']=data['sentiment'].apply(lambda x : sentiment_E[x])\n",
        "data['sarcasm']=data['sarcasm'].apply(lambda x : sarcasm_E[x])\n",
        "data['speech_act']=data['speech_act'].apply(lambda x : speech_act_E[x])"
      ],
      "metadata": {
        "id": "GM3NH3F6QzYa"
      },
      "execution_count": null,
      "outputs": []
    },
    {
      "cell_type": "code",
      "source": [
        "data = downsample(data,'sentiment')"
      ],
      "metadata": {
        "id": "HthJbKSREwXs"
      },
      "execution_count": null,
      "outputs": []
    },
    {
      "cell_type": "code",
      "source": [
        "print(data['sentiment'].value_counts())\n",
        "print(data['sarcasm'].value_counts())\n",
        "print(data['speech_act'].value_counts())"
      ],
      "metadata": {
        "colab": {
          "base_uri": "https://localhost:8080/"
        },
        "id": "t7kBY8YTE4Tt",
        "outputId": "27c1d032-abba-46d2-a0a6-75869d0ef802"
      },
      "execution_count": null,
      "outputs": [
        {
          "output_type": "stream",
          "name": "stdout",
          "text": [
            "0    5583\n",
            "1    5583\n",
            "2    5583\n",
            "Name: sentiment, dtype: int64\n",
            "0    11374\n",
            "1     5375\n",
            "Name: sarcasm, dtype: int64\n",
            "0    10159\n",
            "1     6590\n",
            "Name: speech_act, dtype: int64\n"
          ]
        }
      ]
    },
    {
      "cell_type": "markdown",
      "source": [
        "## MODEL"
      ],
      "metadata": {
        "id": "jCirsTmCXeyh"
      }
    },
    {
      "cell_type": "code",
      "execution_count": null,
      "metadata": {
        "id": "Co-iUspU23H7"
      },
      "outputs": [],
      "source": [
        "def transform_num_labels(arr):\n",
        "  result = np.zeros([arr.shape[0],5])\n",
        "  arr = arr.to_numpy()\n",
        "  result[:,0:3][np.arange(arr.shape[0]), arr[:,0]] = 1\n",
        "  result[:,3] = arr[:,1]\n",
        "  result[:,4] = arr[:,2]\n",
        "  \n",
        "  return result"
      ]
    },
    {
      "cell_type": "code",
      "execution_count": null,
      "metadata": {
        "id": "ZLC_FfMT2LpP"
      },
      "outputs": [],
      "source": [
        "tokenizer = AutoTokenizer.from_pretrained(\"UBC-NLP/MARBERT\")\n",
        "model = TFAutoModelForMaskedLM.from_pretrained(\"UBC-NLP/MARBERT\",name='BERT')\n",
        "Fmodel = TFAutoModelForSequenceClassification.from_pretrained(\"UBC-NLP/MARBERT\",name='BERT',num_labels=5)\n"
      ]
    },
    {
      "cell_type": "code",
      "execution_count": null,
      "metadata": {
        "id": "brr8LR6-3K6s"
      },
      "outputs": [],
      "source": [
        "train,eval,test = get_ds(data=data,Xcol='tweet',ycol=['sentiment','speech_act','sarcasm'],transform_function = transform_num_labels,max_padding=256,tokenizer=tokenizer)"
      ]
    },
    {
      "cell_type": "code",
      "execution_count": null,
      "metadata": {
        "id": "W_HLH0Qq2piu"
      },
      "outputs": [],
      "source": [
        "input_ids = tf.keras.Input(shape=(256, ),dtype='int32',name='input_ids')\n",
        "attention_mask = tf.keras.Input(shape=(256, ), dtype='int32',name='attention_mask')\n",
        "\n",
        "transformer = model([input_ids, attention_mask],output_hidden_states=True)  \n",
        "cls = transformer.hidden_states[-1][:,0,:]\n",
        "drop_out = tf.keras.layers.Dropout(0.75)(cls)\n",
        "\n",
        "sentiment = tf.keras.layers.Dense(32,activation='tanh',name='sentiment_1')(drop_out)\n",
        "sentiment = tf.keras.layers.Dropout(0.5,name='sentiment_2')(sentiment)\n",
        "sentiment = tf.keras.layers.Dense(3,activation='softmax',name='sentiment_out')(sentiment)\n",
        "\n",
        "speech_act = tf.keras.layers.Dense(32,activation='tanh',name='speech_act_1')(drop_out)\n",
        "speech_act = tf.keras.layers.Dropout(0.5,name='speech_act_2')(speech_act)\n",
        "speech_act = tf.keras.layers.Dense(1,activation='sigmoid',name='speech_act_out')(speech_act)\n",
        "\n",
        "sarcasm = tf.keras.layers.Dense(32,activation='tanh',name='sarcasm_1')(drop_out)\n",
        "sarcasm = tf.keras.layers.Dropout(0.5,name='sarcasm_2')(sarcasm)\n",
        "sarcasm = tf.keras.layers.Dense(1,activation='sigmoid',name='sarcasm_out')(sarcasm)\n",
        "\n",
        "output = tf.keras.layers.Concatenate(axis = -1)([sentiment,speech_act,sarcasm])\n",
        "\n",
        "Fmodel = tf.keras.Model(inputs=[input_ids, attention_mask], outputs=output)\n"
      ]
    },
    {
      "cell_type": "code",
      "source": [
        "Fmodel.summary()"
      ],
      "metadata": {
        "id": "JueZJnF2ZoX9",
        "colab": {
          "base_uri": "https://localhost:8080/"
        },
        "outputId": "5a80a9f5-47c1-4320-aa83-c083a7e129f2"
      },
      "execution_count": null,
      "outputs": [
        {
          "output_type": "stream",
          "name": "stdout",
          "text": [
            "Model: \"model\"\n",
            "__________________________________________________________________________________________________\n",
            " Layer (type)                   Output Shape         Param #     Connected to                     \n",
            "==================================================================================================\n",
            " input_ids (InputLayer)         [(None, 256)]        0           []                               \n",
            "                                                                                                  \n",
            " attention_mask (InputLayer)    [(None, 256)]        0           []                               \n",
            "                                                                                                  \n",
            " BERT (TFBertForMaskedLM)       TFMaskedLMOutput(lo  162942880   ['input_ids[0][0]',              \n",
            "                                ss=None, logits=(No               'attention_mask[0][0]']         \n",
            "                                ne, 256, 100000),                                                 \n",
            "                                 hidden_states=((No                                               \n",
            "                                ne, 256, 768),                                                    \n",
            "                                 (None, 256, 768),                                                \n",
            "                                 (None, 256, 768),                                                \n",
            "                                 (None, 256, 768),                                                \n",
            "                                 (None, 256, 768),                                                \n",
            "                                 (None, 256, 768),                                                \n",
            "                                 (None, 256, 768),                                                \n",
            "                                 (None, 256, 768),                                                \n",
            "                                 (None, 256, 768),                                                \n",
            "                                 (None, 256, 768),                                                \n",
            "                                 (None, 256, 768),                                                \n",
            "                                 (None, 256, 768),                                                \n",
            "                                 (None, 256, 768)),                                               \n",
            "                                 attentions=None)                                                 \n",
            "                                                                                                  \n",
            " tf.__operators__.getitem (Slic  (None, 768)         0           ['BERT[0][12]']                  \n",
            " ingOpLambda)                                                                                     \n",
            "                                                                                                  \n",
            " dropout_37 (Dropout)           (None, 768)          0           ['tf.__operators__.getitem[0][0]'\n",
            "                                                                 ]                                \n",
            "                                                                                                  \n",
            " sentiment_1 (Dense)            (None, 32)           24608       ['dropout_37[0][0]']             \n",
            "                                                                                                  \n",
            " speech_act_1 (Dense)           (None, 32)           24608       ['dropout_37[0][0]']             \n",
            "                                                                                                  \n",
            " sarcasm_1 (Dense)              (None, 32)           24608       ['dropout_37[0][0]']             \n",
            "                                                                                                  \n",
            " sentiment_2 (Dropout)          (None, 32)           0           ['sentiment_1[0][0]']            \n",
            "                                                                                                  \n",
            " speech_act_2 (Dropout)         (None, 32)           0           ['speech_act_1[0][0]']           \n",
            "                                                                                                  \n",
            " sarcasm_2 (Dropout)            (None, 32)           0           ['sarcasm_1[0][0]']              \n",
            "                                                                                                  \n",
            " sentiment_out (Dense)          (None, 3)            99          ['sentiment_2[0][0]']            \n",
            "                                                                                                  \n",
            " speech_act_out (Dense)         (None, 1)            33          ['speech_act_2[0][0]']           \n",
            "                                                                                                  \n",
            " sarcasm_out (Dense)            (None, 1)            33          ['sarcasm_2[0][0]']              \n",
            "                                                                                                  \n",
            " concatenate (Concatenate)      (None, 5)            0           ['sentiment_out[0][0]',          \n",
            "                                                                  'speech_act_out[0][0]',         \n",
            "                                                                  'sarcasm_out[0][0]']            \n",
            "                                                                                                  \n",
            "==================================================================================================\n",
            "Total params: 163,016,869\n",
            "Trainable params: 163,016,869\n",
            "Non-trainable params: 0\n",
            "__________________________________________________________________________________________________\n"
          ]
        }
      ]
    },
    {
      "cell_type": "code",
      "source": [
        "tf.keras.utils.plot_model(Fmodel,to_file='model.png', show_shapes=True)"
      ],
      "metadata": {
        "id": "KXRY5qjyZp2C",
        "colab": {
          "base_uri": "https://localhost:8080/",
          "height": 505
        },
        "outputId": "efbe8214-12f6-47af-f243-469b3b3605ad"
      },
      "execution_count": null,
      "outputs": [
        {
          "output_type": "execute_result",
          "data": {
            "image/png": "[encoded data removed]",
            "text/plain": [
              "<IPython.core.display.Image object>"
            ]
          },
          "metadata": {},
          "execution_count": 22
        }
      ]
    },
    {
      "cell_type": "code",
      "execution_count": null,
      "metadata": {
        "id": "piOjCQNa5xyB"
      },
      "outputs": [],
      "source": [
        "optimizer = tf.keras.optimizers.Adam(learning_rate=2e-05)\n",
        "\n",
        "Fmodel.compile(optimizer = optimizer,\n",
        "              loss = Catagorecal_Focal_loss(),\n",
        "              metrics = [f_beta_score]\n",
        "              )\n"
      ]
    },
    {
      "cell_type": "code",
      "source": [
        "cb = tf.keras.callbacks.ModelCheckpoint(\n",
        "    '/content/drive/MyDrive/MARBERT DATASET/MODELS/W',\n",
        "    save_best_only= True\n",
        ")"
      ],
      "metadata": {
        "id": "qsSV4MBRb4vj"
      },
      "execution_count": null,
      "outputs": []
    },
    {
      "cell_type": "code",
      "execution_count": null,
      "metadata": {
        "colab": {
          "base_uri": "https://localhost:8080/"
        },
        "id": "Upt9sUWT5sn4",
        "outputId": "9481c6d2-e971-4ef4-f01e-f4493f35f947"
      },
      "outputs": [
        {
          "output_type": "stream",
          "name": "stdout",
          "text": [
            "Epoch 1/20\n"
          ]
        },
        {
          "output_type": "stream",
          "name": "stderr",
          "text": [
            "/usr/local/lib/python3.8/dist-packages/keras/engine/functional.py:638: UserWarning: Input dict contained keys ['token_type_ids'] which did not match any model input. They will be ignored by the model.\n",
            "  inputs = self._flatten_to_reference_inputs(inputs)\n",
            "WARNING:tensorflow:Gradients do not exist for variables ['BERT/mlm___cls/predictions/bias:0', 'BERT/mlm___cls/predictions/transform/dense/kernel:0', 'BERT/mlm___cls/predictions/transform/dense/bias:0', 'BERT/mlm___cls/predictions/transform/LayerNorm/gamma:0', 'BERT/mlm___cls/predictions/transform/LayerNorm/beta:0'] when minimizing the loss. If you're using `model.compile()`, did you forget to provide a `loss` argument?\n",
            "WARNING:tensorflow:Gradients do not exist for variables ['BERT/mlm___cls/predictions/bias:0', 'BERT/mlm___cls/predictions/transform/dense/kernel:0', 'BERT/mlm___cls/predictions/transform/dense/bias:0', 'BERT/mlm___cls/predictions/transform/LayerNorm/gamma:0', 'BERT/mlm___cls/predictions/transform/LayerNorm/beta:0'] when minimizing the loss. If you're using `model.compile()`, did you forget to provide a `loss` argument?\n",
            "WARNING:tensorflow:From /usr/local/lib/python3.8/dist-packages/tensorflow/python/autograph/pyct/static_analysis/liveness.py:83: Analyzer.lamba_check (from tensorflow.python.autograph.pyct.static_analysis.liveness) is deprecated and will be removed after 2023-09-23.\n",
            "Instructions for updating:\n",
            "Lambda fuctions will be no more assumed to be used in the statement where they are used, or at least in the same block. https://github.com/tensorflow/tensorflow/issues/56089\n",
            "WARNING:tensorflow:Gradients do not exist for variables ['BERT/mlm___cls/predictions/bias:0', 'BERT/mlm___cls/predictions/transform/dense/kernel:0', 'BERT/mlm___cls/predictions/transform/dense/bias:0', 'BERT/mlm___cls/predictions/transform/LayerNorm/gamma:0', 'BERT/mlm___cls/predictions/transform/LayerNorm/beta:0'] when minimizing the loss. If you're using `model.compile()`, did you forget to provide a `loss` argument?\n",
            "WARNING:tensorflow:Gradients do not exist for variables ['BERT/mlm___cls/predictions/bias:0', 'BERT/mlm___cls/predictions/transform/dense/kernel:0', 'BERT/mlm___cls/predictions/transform/dense/bias:0', 'BERT/mlm___cls/predictions/transform/LayerNorm/gamma:0', 'BERT/mlm___cls/predictions/transform/LayerNorm/beta:0'] when minimizing the loss. If you're using `model.compile()`, did you forget to provide a `loss` argument?\n"
          ]
        },
        {
          "output_type": "stream",
          "name": "stdout",
          "text": [
            "419/419 [==============================] - ETA: 0s - loss: 0.3433 - f_beta_score: 0.6741"
          ]
        },
        {
          "output_type": "stream",
          "name": "stderr",
          "text": [
            "WARNING:absl:Found untraced functions such as embeddings_layer_call_fn, embeddings_layer_call_and_return_conditional_losses, encoder_layer_call_fn, encoder_layer_call_and_return_conditional_losses, predictions_layer_call_fn while saving (showing 5 of 424). These functions will not be directly callable after loading.\n"
          ]
        },
        {
          "output_type": "stream",
          "name": "stdout",
          "text": [
            "\b\b\b\b\b\b\b\b\b\b\b\b\b\b\b\b\b\b\b\b\b\b\b\b\b\b\b\b\b\b\b\b\b\b\b\b\b\b\b\b\b\b\b\b\b\b\b\b\b\b\b\b\b\b\b\b\b\b\b\b\b\b\b\b\b\b\b\b\b\b\b\b\b\b\b\b\b\b\b\b\b\b\b\b\b\b\b\b\r419/419 [==============================] - 214s 402ms/step - loss: 0.3433 - f_beta_score: 0.6741 - val_loss: 0.2425 - val_f_beta_score: 0.7832\n",
            "Epoch 2/20\n",
            "419/419 [==============================] - 85s 203ms/step - loss: 0.2262 - f_beta_score: 0.7907 - val_loss: 0.2885 - val_f_beta_score: 0.8115\n",
            "Epoch 3/20\n",
            "419/419 [==============================] - 85s 202ms/step - loss: 0.1706 - f_beta_score: 0.8412 - val_loss: 0.3098 - val_f_beta_score: 0.8106\n",
            "Epoch 4/20\n",
            "419/419 [==============================] - 85s 202ms/step - loss: 0.1284 - f_beta_score: 0.8756 - val_loss: 0.3637 - val_f_beta_score: 0.8105\n",
            "Epoch 5/20\n",
            "419/419 [==============================] - 85s 202ms/step - loss: 0.0988 - f_beta_score: 0.8998 - val_loss: 0.3342 - val_f_beta_score: 0.8115\n",
            "Epoch 6/20\n",
            "419/419 [==============================] - 85s 202ms/step - loss: 0.0788 - f_beta_score: 0.9195 - val_loss: 0.3929 - val_f_beta_score: 0.8097\n",
            "Epoch 7/20\n",
            "419/419 [==============================] - 85s 202ms/step - loss: 0.0650 - f_beta_score: 0.9345 - val_loss: 0.3931 - val_f_beta_score: 0.8028\n",
            "Epoch 8/20\n",
            "419/419 [==============================] - 85s 202ms/step - loss: 0.0588 - f_beta_score: 0.9431 - val_loss: 0.4258 - val_f_beta_score: 0.7943\n",
            "Epoch 9/20\n",
            "419/419 [==============================] - 85s 202ms/step - loss: 0.0464 - f_beta_score: 0.9541 - val_loss: 0.4351 - val_f_beta_score: 0.8094\n",
            "Epoch 10/20\n",
            "419/419 [==============================] - 85s 202ms/step - loss: 0.0481 - f_beta_score: 0.9567 - val_loss: 0.4242 - val_f_beta_score: 0.8036\n",
            "Epoch 11/20\n",
            "419/419 [==============================] - 85s 202ms/step - loss: 0.0437 - f_beta_score: 0.9611 - val_loss: 0.4507 - val_f_beta_score: 0.8078\n",
            "Epoch 12/20\n",
            "419/419 [==============================] - 85s 202ms/step - loss: 0.0309 - f_beta_score: 0.9717 - val_loss: 0.5064 - val_f_beta_score: 0.8016\n",
            "Epoch 13/20\n",
            "419/419 [==============================] - 85s 202ms/step - loss: 0.0301 - f_beta_score: 0.9732 - val_loss: 0.5234 - val_f_beta_score: 0.7928\n",
            "Epoch 14/20\n",
            "419/419 [==============================] - 85s 202ms/step - loss: 0.0245 - f_beta_score: 0.9775 - val_loss: 0.5027 - val_f_beta_score: 0.8062\n",
            "Epoch 15/20\n",
            "419/419 [==============================] - 85s 202ms/step - loss: 0.0243 - f_beta_score: 0.9798 - val_loss: 0.5323 - val_f_beta_score: 0.8075\n",
            "Epoch 16/20\n",
            "419/419 [==============================] - 85s 202ms/step - loss: 0.0214 - f_beta_score: 0.9813 - val_loss: 0.5533 - val_f_beta_score: 0.7957\n",
            "Epoch 17/20\n",
            "419/419 [==============================] - 85s 202ms/step - loss: 0.0215 - f_beta_score: 0.9827 - val_loss: 0.5392 - val_f_beta_score: 0.7983\n",
            "Epoch 18/20\n",
            "419/419 [==============================] - 85s 202ms/step - loss: 0.0245 - f_beta_score: 0.9806 - val_loss: 0.5351 - val_f_beta_score: 0.7928\n",
            "Epoch 19/20\n",
            "419/419 [==============================] - 85s 202ms/step - loss: 0.0188 - f_beta_score: 0.9854 - val_loss: 0.5452 - val_f_beta_score: 0.8015\n",
            "Epoch 20/20\n",
            "419/419 [==============================] - 85s 203ms/step - loss: 0.0162 - f_beta_score: 0.9873 - val_loss: 0.5885 - val_f_beta_score: 0.7993\n"
          ]
        },
        {
          "output_type": "execute_result",
          "data": {
            "text/plain": [
              "<keras.callbacks.History at 0x7f58a6b37700>"
            ]
          },
          "metadata": {},
          "execution_count": 25
        }
      ],
      "source": [
        "Fmodel.fit(train,validation_data=eval, epochs=20, callbacks= [cb])"
      ]
    },
    {
      "cell_type": "code",
      "source": [
        "Fmodel.save('/content/drive/MyDrive/MARBERT DATASET/MODELS/final')"
      ],
      "metadata": {
        "colab": {
          "base_uri": "https://localhost:8080/"
        },
        "id": "xkioG77RWmfC",
        "outputId": "5758374f-3e5f-40e6-bad3-650042792dc1"
      },
      "execution_count": null,
      "outputs": [
        {
          "output_type": "stream",
          "name": "stderr",
          "text": [
            "WARNING:absl:Found untraced functions such as embeddings_layer_call_fn, embeddings_layer_call_and_return_conditional_losses, encoder_layer_call_fn, encoder_layer_call_and_return_conditional_losses, predictions_layer_call_fn while saving (showing 5 of 424). These functions will not be directly callable after loading.\n"
          ]
        }
      ]
    },
    {
      "cell_type": "code",
      "source": [
        "tf.keras.models.save_model(Fmodel,'/content/drive/MyDrive/MARBERT DATASET/MODELS/final2')"
      ],
      "metadata": {
        "colab": {
          "base_uri": "https://localhost:8080/"
        },
        "id": "gkqPr0_lgw4R",
        "outputId": "1bd5ee35-a5b2-4ece-e8b8-14d929972984"
      },
      "execution_count": null,
      "outputs": [
        {
          "output_type": "stream",
          "name": "stderr",
          "text": [
            "WARNING:absl:Found untraced functions such as embeddings_layer_call_fn, embeddings_layer_call_and_return_conditional_losses, encoder_layer_call_fn, encoder_layer_call_and_return_conditional_losses, predictions_layer_call_fn while saving (showing 5 of 424). These functions will not be directly callable after loading.\n"
          ]
        }
      ]
    },
    {
      "cell_type": "code",
      "source": [
        "list(test)[0][1].numpy().shape"
      ],
      "metadata": {
        "colab": {
          "base_uri": "https://localhost:8080/"
        },
        "id": "UQm8BBj0EKgr",
        "outputId": "1de04a58-5387-4896-9b6b-6a1fdfb69341"
      },
      "execution_count": null,
      "outputs": [
        {
          "output_type": "execute_result",
          "data": {
            "text/plain": [
              "(32, 5)"
            ]
          },
          "metadata": {},
          "execution_count": 28
        }
      ]
    },
    {
      "cell_type": "code",
      "execution_count": null,
      "metadata": {
        "id": "nV72M03X84Nz"
      },
      "outputs": [],
      "source": [
        "y_true_1=[]\n",
        "y_true_2=[]\n",
        "y_true_3=[]\n",
        "for i in range(len(list(test))):\n",
        "  y_true_1 = y_true_1 + list(np.argmax(list(test)[i][1].numpy()[:,0:3],axis=1))\n",
        "  y_true_2 = y_true_2 + list(list(test)[i][1].numpy()[:,3])\n",
        "  y_true_3 = y_true_3 + list(list(test)[i][1].numpy()[:,4])"
      ]
    },
    {
      "cell_type": "code",
      "execution_count": null,
      "metadata": {
        "id": "YC5tOsR38-P7",
        "colab": {
          "base_uri": "https://localhost:8080/"
        },
        "outputId": "6350b535-cebf-4ec9-a716-4c30b14e61a8"
      },
      "outputs": [
        {
          "output_type": "stream",
          "name": "stderr",
          "text": [
            "/usr/local/lib/python3.8/dist-packages/keras/engine/functional.py:638: UserWarning: Input dict contained keys ['token_type_ids'] which did not match any model input. They will be ignored by the model.\n",
            "  inputs = self._flatten_to_reference_inputs(inputs)\n"
          ]
        },
        {
          "output_type": "stream",
          "name": "stdout",
          "text": [
            "53/53 [==============================] - 7s 70ms/step\n"
          ]
        }
      ],
      "source": [
        "y_p = Fmodel.predict(test)"
      ]
    },
    {
      "cell_type": "code",
      "execution_count": null,
      "metadata": {
        "id": "nYd_sXi5c6j9",
        "colab": {
          "base_uri": "https://localhost:8080/"
        },
        "outputId": "a1d86ba2-c132-4b9f-e6e0-07831a7f8fe7"
      },
      "outputs": [
        {
          "output_type": "execute_result",
          "data": {
            "text/plain": [
              "(1675, 5)"
            ]
          },
          "metadata": {},
          "execution_count": 31
        }
      ],
      "source": [
        "y_p.shape"
      ]
    },
    {
      "cell_type": "code",
      "execution_count": null,
      "metadata": {
        "id": "t6GvMI8f9NNf"
      },
      "outputs": [],
      "source": [
        "y_pred_1 = np.argmax(y_p[:,0:3],axis=1).tolist()\n",
        "y_pred_2 = y_p[:,3].tolist()\n",
        "y_pred_3 = y_p[:,4].tolist()"
      ]
    },
    {
      "cell_type": "code",
      "source": [
        "fpr, tpr, thresholds = roc_curve(y_true_2, y_pred_2)\n",
        "roc_auc = auc(fpr, tpr)\n",
        "display = RocCurveDisplay(fpr=fpr, tpr=tpr, roc_auc=roc_auc,estimator_name='marbert')\n",
        "display.plot()\n",
        "plt.show()"
      ],
      "metadata": {
        "colab": {
          "base_uri": "https://localhost:8080/",
          "height": 279
        },
        "id": "gTMeuY-vnqx_",
        "outputId": "403be77f-269d-4f59-995c-21a5b1817366"
      },
      "execution_count": null,
      "outputs": [
        {
          "output_type": "display_data",
          "data": {
            "text/plain": [
              "<Figure size 432x288 with 1 Axes>"
            ],
            "image/png": "[encoded data removed]"
          },
          "metadata": {
            "needs_background": "light"
          }
        }
      ]
    },
    {
      "cell_type": "code",
      "source": [
        "gmean = np.sqrt(tpr * (1 - fpr))\n",
        "index = np.argmax(gmean)\n",
        "threshold_2 = round(thresholds[index], ndigits = 4)\n",
        "threshold_2"
      ],
      "metadata": {
        "colab": {
          "base_uri": "https://localhost:8080/"
        },
        "id": "WXFR_SnsnyN5",
        "outputId": "9796ec44-2bd7-4c38-ef27-65f4ee1ee054"
      },
      "execution_count": null,
      "outputs": [
        {
          "output_type": "execute_result",
          "data": {
            "text/plain": [
              "0.664"
            ]
          },
          "metadata": {},
          "execution_count": 60
        }
      ]
    },
    {
      "cell_type": "code",
      "source": [
        "fpr, tpr, thresholds = roc_curve(y_true_3, y_pred_3)\n",
        "roc_auc = auc(fpr, tpr)\n",
        "display = RocCurveDisplay(fpr=fpr, tpr=tpr, roc_auc=roc_auc,estimator_name='marbert')\n",
        "display.plot()\n",
        "plt.show()"
      ],
      "metadata": {
        "colab": {
          "base_uri": "https://localhost:8080/",
          "height": 279
        },
        "id": "WTemZh1aom9v",
        "outputId": "9758b6b7-b194-47c4-93f2-5c5a63b6f692"
      },
      "execution_count": null,
      "outputs": [
        {
          "output_type": "display_data",
          "data": {
            "text/plain": [
              "<Figure size 432x288 with 1 Axes>"
            ],
            "image/png": "[encoded data removed]"
          },
          "metadata": {
            "needs_background": "light"
          }
        }
      ]
    },
    {
      "cell_type": "code",
      "source": [
        "gmean = np.sqrt(tpr * (1 - fpr))\n",
        "index = np.argmax(gmean)\n",
        "threshold_3 = round(thresholds[index], ndigits = 4)\n",
        "threshold_3"
      ],
      "metadata": {
        "colab": {
          "base_uri": "https://localhost:8080/"
        },
        "id": "atvW88jLopyY",
        "outputId": "24f4483c-2c5c-4b34-ea4c-b54fea843dde"
      },
      "execution_count": null,
      "outputs": [
        {
          "output_type": "execute_result",
          "data": {
            "text/plain": [
              "0.0975"
            ]
          },
          "metadata": {},
          "execution_count": 62
        }
      ]
    },
    {
      "cell_type": "code",
      "source": [
        "for i,v in enumerate(y_pred_2):\n",
        "  if v < threshold_2:\n",
        "    y_pred_2[i] = 0\n",
        "  else:\n",
        "    y_pred_2[i] = 1"
      ],
      "metadata": {
        "id": "QJS6R4_Wo4F5"
      },
      "execution_count": null,
      "outputs": []
    },
    {
      "cell_type": "code",
      "source": [
        "for i,v in enumerate(y_pred_3):\n",
        "  if v < threshold_3:\n",
        "    y_pred_3[i] = 0\n",
        "  else:\n",
        "    y_pred_3[i] = 1"
      ],
      "metadata": {
        "id": "ZTjj2xZapOng"
      },
      "execution_count": null,
      "outputs": []
    },
    {
      "cell_type": "code",
      "execution_count": null,
      "metadata": {
        "id": "WPzQHajn9ZiP",
        "colab": {
          "base_uri": "https://localhost:8080/",
          "height": 1000
        },
        "outputId": "f8d355ca-824f-4cad-cf7d-c2185841eeb6"
      },
      "outputs": [
        {
          "output_type": "display_data",
          "data": {
            "text/plain": [
              "<Figure size 720x720 with 2 Axes>"
            ],
            "image/png": "[encoded data removed]"
          },
          "metadata": {
            "needs_background": "light"
          }
        },
        {
          "output_type": "display_data",
          "data": {
            "text/plain": [
              "<Figure size 720x720 with 2 Axes>"
            ],
            "image/png": "[encoded data removed]"
          },
          "metadata": {
            "needs_background": "light"
          }
        },
        {
          "output_type": "display_data",
          "data": {
            "text/plain": [
              "<Figure size 720x720 with 2 Axes>"
            ],
            "image/png": "[encoded data removed]"
          },
          "metadata": {
            "needs_background": "light"
          }
        }
      ],
      "source": [
        "cm = confusion_matrix(y_true=y_true_1, y_pred=y_pred_1)\n",
        "cm_df = pd.DataFrame(cm,\n",
        "                     index = ['Positive','Natural','Negative'], \n",
        "                     columns = ['Positive','Natural','Negative'])\n",
        "  \n",
        "plt.figure(figsize=(10,10))\n",
        "sns.heatmap(cm_df, annot=True)\n",
        "plt.title('Confusion Matrix')\n",
        "plt.ylabel('Actal Values')\n",
        "plt.xlabel('Predicted Values')\n",
        "plt.savefig('confusion_matrix_heamap_sentiment.png')\n",
        "plt.show()\n",
        "\n",
        "cm = confusion_matrix(y_true=y_true_2, y_pred=y_pred_2)\n",
        "cm_df = pd.DataFrame(cm,\n",
        "                     index = ['Expression','Assertion'], \n",
        "                     columns = ['Expression','Assertion'])\n",
        "  \n",
        "plt.figure(figsize=(10,10))\n",
        "sns.heatmap(cm_df, annot=True)\n",
        "plt.title('Confusion Matrix')\n",
        "plt.ylabel('Actal Values')\n",
        "plt.xlabel('Predicted Values')\n",
        "plt.savefig('confusion_matrix_heamap_sentiment.png')\n",
        "plt.show()\n",
        "\n",
        "cm = confusion_matrix(y_true=y_true_3, y_pred=y_pred_3)\n",
        "cm_df = pd.DataFrame(cm,\n",
        "                     index = ['non-sarcastic','sarcastic'], \n",
        "                     columns = ['non-sarcastic','sarcastic'])\n",
        "  \n",
        "plt.figure(figsize=(10,10))\n",
        "sns.heatmap(cm_df, annot=True)\n",
        "plt.title('Confusion Matrix')\n",
        "plt.ylabel('Actal Values')\n",
        "plt.xlabel('Predicted Values')\n",
        "plt.savefig('confusion_matrix_heamap_sentiment.png')\n",
        "plt.show()\n"
      ]
    },
    {
      "cell_type": "code",
      "execution_count": null,
      "metadata": {
        "id": "PSDaClzT9xJQ",
        "colab": {
          "base_uri": "https://localhost:8080/"
        },
        "outputId": "5effc307-4968-4b51-9fe4-fefebdace37c"
      },
      "outputs": [
        {
          "output_type": "stream",
          "name": "stdout",
          "text": [
            "              precision    recall  f1-score   support\n",
            "\n",
            "           0       0.83      0.71      0.77       532\n",
            "           1       0.78      0.77      0.78       590\n",
            "           2       0.78      0.90      0.83       553\n",
            "\n",
            "    accuracy                           0.79      1675\n",
            "   macro avg       0.80      0.79      0.79      1675\n",
            "weighted avg       0.80      0.79      0.79      1675\n",
            "\n",
            "              precision    recall  f1-score   support\n",
            "\n",
            "         0.0       0.95      0.91      0.93       980\n",
            "         1.0       0.88      0.93      0.90       695\n",
            "\n",
            "    accuracy                           0.92      1675\n",
            "   macro avg       0.91      0.92      0.91      1675\n",
            "weighted avg       0.92      0.92      0.92      1675\n",
            "\n",
            "              precision    recall  f1-score   support\n",
            "\n",
            "         0.0       0.94      0.86      0.90      1172\n",
            "         1.0       0.72      0.86      0.79       503\n",
            "\n",
            "    accuracy                           0.86      1675\n",
            "   macro avg       0.83      0.86      0.84      1675\n",
            "weighted avg       0.87      0.86      0.86      1675\n",
            "\n"
          ]
        }
      ],
      "source": [
        "print(classification_report(y_true_1,y_pred_1))\n",
        "print(classification_report(y_true_2,y_pred_2))\n",
        "print(classification_report(y_true_3,y_pred_3))"
      ]
    },
    {
      "cell_type": "code",
      "source": [
        "print(f1_score(y_true_1,y_pred_1,average='weighted'))\n",
        "print(f1_score(y_true_2,y_pred_2))\n",
        "print(f1_score(y_true_3,y_pred_3))"
      ],
      "metadata": {
        "colab": {
          "base_uri": "https://localhost:8080/"
        },
        "id": "uN6UmYbJp5Xj",
        "outputId": "886d894c-3768-4148-bb0c-db503b348bd3"
      },
      "execution_count": null,
      "outputs": [
        {
          "output_type": "stream",
          "name": "stdout",
          "text": [
            "0.791762684051286\n",
            "0.9006993006993007\n",
            "0.7880434782608696\n"
          ]
        }
      ]
    },
    {
      "cell_type": "markdown",
      "source": [
        "# CONVERT MODEL TO TF - LITE"
      ],
      "metadata": {
        "id": "ObJ2HUW9EHi8"
      }
    },
    {
      "cell_type": "code",
      "source": [
        "converter = tf.lite.TFLiteConverter.from_saved_model('/content/drive/MyDrive/MARBERT DATASET/MODELS/final')\n",
        "tflite_model = converter.convert()\n",
        "with open('/content/drive/MyDrive/MARBERT DATASET/MODELS/tf-lite/model.tflite', 'wb') as f:\n",
        "  f.write(tflite_model)"
      ],
      "metadata": {
        "id": "iOqFhj7iyQMD"
      },
      "execution_count": null,
      "outputs": []
    },
    {
      "cell_type": "markdown",
      "source": [
        "# INFERANCE"
      ],
      "metadata": {
        "id": "oPT_qsuWtgrj"
      }
    },
    {
      "cell_type": "code",
      "source": [
        "from transformers import AutoTokenizer\n",
        "import numpy as np\n",
        "import tensorflow as tf"
      ],
      "metadata": {
        "id": "Xkw1bTkIEWfX"
      },
      "execution_count": null,
      "outputs": []
    },
    {
      "cell_type": "code",
      "source": [
        "def get_prediction(text,model,tokenizer):\n",
        "  tokens = tokenizer(text,truncation=True, padding='max_length',max_length=256,return_tensors='tf')\n",
        "\n",
        "  preds = model(input_ids=tokens['input_ids'],attention_mask=tokens['attention_mask'])['concatenate'].flatten()\n",
        "  sentiments_e = {0:'Positive',1:'Natural',2:'Negative'}\n",
        "  speech_ace_e = {0:'Expression',1:'Assertion'}\n",
        "  sarcasm_e = {0:'non-sarcastic',1:'sarcastic'}\n",
        "  thres_1 = 0.664\n",
        "  thres_2 = 0.5\n",
        "  sen = np.argmax(preds[:3])\n",
        "  sa = (preds[3] >= thres_1).astype('int32')\n",
        "  sar = (preds[4] >= thres_2).astype('int32')\n",
        "\n",
        "  sa_cof = (1-preds[3],preds[3])\n",
        "  sar_conf = (1-preds[4],preds[4])\n",
        "\n",
        "  res = {'sentiment': sentiments_e[sen],'sentiment_conf':round(preds[sen],ndigits=2)*100,'speech_act':speech_ace_e[sa],'speech_act_conf':round(sa_cof[sa],ndigits=2)*100,'sarcasm':sarcasm_e[sar],'sarcasm_conf':round(sar_conf[sar],ndigits=2)*100}\n",
        "  return res"
      ],
      "metadata": {
        "id": "Uy_UDb8bt14V"
      },
      "execution_count": null,
      "outputs": []
    },
    {
      "cell_type": "code",
      "source": [
        "tokenizer = AutoTokenizer.from_pretrained('/content/drive/MyDrive/MARBERT DATASET/MODELS/tokenizer')\n",
        "interpreter = tf.lite.Interpreter('/content/drive/MyDrive/MARBERT DATASET/MODELS/tf-lite/model.tflite')\n",
        "model = interpreter.get_signature_runner()"
      ],
      "metadata": {
        "id": "cZb7lU3VtjBr"
      },
      "execution_count": null,
      "outputs": []
    },
    {
      "cell_type": "code",
      "source": [
        "get_prediction('انا حزين ولله ما لقيت داتا سعودية , كنت اتمنى القى داتا سعودية',model,tokenizer)"
      ],
      "metadata": {
        "colab": {
          "base_uri": "https://localhost:8080/"
        },
        "id": "o_IXIPGG2kAf",
        "outputId": "4e9342ed-f813-4dcf-9101-fd9966c05744"
      },
      "execution_count": null,
      "outputs": [
        {
          "output_type": "execute_result",
          "data": {
            "text/plain": [
              "{'sentiment': 'Negative',\n",
              " 'sentiment_conf': 100.0,\n",
              " 'speech_act': 'Expression',\n",
              " 'speech_act_conf': 99.0,\n",
              " 'sarcasm': 'non-sarcastic',\n",
              " 'sarcasm_conf': 99.0}"
            ]
          },
          "metadata": {},
          "execution_count": 16
        }
      ]
    }
  ],
  "metadata": {
    "colab": {
      "provenance": [],
      "collapsed_sections": [
        "2Vg3d1SEwuUm",
        "hyh0JzPBxRC2",
        "-4dT41UMCbpn",
        "6i4nk-d9In4J",
        "wdUsoMnJA-TB",
        "yGBluPYuCg4A"
      ]
    },
    "gpuClass": "premium",
    "kernelspec": {
      "display_name": "Python 3",
      "name": "python3"
    },
    "language_info": {
      "name": "python"
    },
    "widgets": {
      "application/vnd.jupyter.widget-state+json": {
        "26f7088ab77f461281e384ddae0cb672": {
          "model_module": "@jupyter-widgets/controls",
          "model_name": "HBoxModel",
          "model_module_version": "1.5.0",
          "state": {
            "_dom_classes": [],
            "_model_module": "@jupyter-widgets/controls",
            "_model_module_version": "1.5.0",
            "_model_name": "HBoxModel",
            "_view_count": null,
            "_view_module": "@jupyter-widgets/controls",
            "_view_module_version": "1.5.0",
            "_view_name": "HBoxView",
            "box_style": "",
            "children": [
              "IPY_MODEL_4ed567ce1e654944a82dbde0cb465274",
              "IPY_MODEL_5bde9ea898a643b5aa74a09b7777815f",
              "IPY_MODEL_d813c4893989498b817b58a6b95fb22f"
            ],
            "layout": "IPY_MODEL_fda699cb8a13496d95d2475a8d9fa42d"
          }
        },
        "4ed567ce1e654944a82dbde0cb465274": {
          "model_module": "@jupyter-widgets/controls",
          "model_name": "HTMLModel",
          "model_module_version": "1.5.0",
          "state": {
            "_dom_classes": [],
            "_model_module": "@jupyter-widgets/controls",
            "_model_module_version": "1.5.0",
            "_model_name": "HTMLModel",
            "_view_count": null,
            "_view_module": "@jupyter-widgets/controls",
            "_view_module_version": "1.5.0",
            "_view_name": "HTMLView",
            "description": "",
            "description_tooltip": null,
            "layout": "IPY_MODEL_0e2944b6d51740f1bcc33c503b2c1d95",
            "placeholder": "​",
            "style": "IPY_MODEL_6531e4235e394f38b586ccacbd9f475f",
            "value": "Downloading (…)okenizer_config.json: 100%"
          }
        },
        "5bde9ea898a643b5aa74a09b7777815f": {
          "model_module": "@jupyter-widgets/controls",
          "model_name": "FloatProgressModel",
          "model_module_version": "1.5.0",
          "state": {
            "_dom_classes": [],
            "_model_module": "@jupyter-widgets/controls",
            "_model_module_version": "1.5.0",
            "_model_name": "FloatProgressModel",
            "_view_count": null,
            "_view_module": "@jupyter-widgets/controls",
            "_view_module_version": "1.5.0",
            "_view_name": "ProgressView",
            "bar_style": "success",
            "description": "",
            "description_tooltip": null,
            "layout": "IPY_MODEL_d3960e17c8424326ac6aeb38ed78b094",
            "max": 376,
            "min": 0,
            "orientation": "horizontal",
            "style": "IPY_MODEL_f75af133ac664300afc877a8b6076dc5",
            "value": 376
          }
        },
        "d813c4893989498b817b58a6b95fb22f": {
          "model_module": "@jupyter-widgets/controls",
          "model_name": "HTMLModel",
          "model_module_version": "1.5.0",
          "state": {
            "_dom_classes": [],
            "_model_module": "@jupyter-widgets/controls",
            "_model_module_version": "1.5.0",
            "_model_name": "HTMLModel",
            "_view_count": null,
            "_view_module": "@jupyter-widgets/controls",
            "_view_module_version": "1.5.0",
            "_view_name": "HTMLView",
            "description": "",
            "description_tooltip": null,
            "layout": "IPY_MODEL_7f27c8ba146b43dbbdf7566751b1a269",
            "placeholder": "​",
            "style": "IPY_MODEL_e0954ef4dc694d1cb90c89b744beea9b",
            "value": " 376/376 [00:00&lt;00:00, 17.1kB/s]"
          }
        },
        "fda699cb8a13496d95d2475a8d9fa42d": {
          "model_module": "@jupyter-widgets/base",
          "model_name": "LayoutModel",
          "model_module_version": "1.2.0",
          "state": {
            "_model_module": "@jupyter-widgets/base",
            "_model_module_version": "1.2.0",
            "_model_name": "LayoutModel",
            "_view_count": null,
            "_view_module": "@jupyter-widgets/base",
            "_view_module_version": "1.2.0",
            "_view_name": "LayoutView",
            "align_content": null,
            "align_items": null,
            "align_self": null,
            "border": null,
            "bottom": null,
            "display": null,
            "flex": null,
            "flex_flow": null,
            "grid_area": null,
            "grid_auto_columns": null,
            "grid_auto_flow": null,
            "grid_auto_rows": null,
            "grid_column": null,
            "grid_gap": null,
            "grid_row": null,
            "grid_template_areas": null,
            "grid_template_columns": null,
            "grid_template_rows": null,
            "height": null,
            "justify_content": null,
            "justify_items": null,
            "left": null,
            "margin": null,
            "max_height": null,
            "max_width": null,
            "min_height": null,
            "min_width": null,
            "object_fit": null,
            "object_position": null,
            "order": null,
            "overflow": null,
            "overflow_x": null,
            "overflow_y": null,
            "padding": null,
            "right": null,
            "top": null,
            "visibility": null,
            "width": null
          }
        },
        "0e2944b6d51740f1bcc33c503b2c1d95": {
          "model_module": "@jupyter-widgets/base",
          "model_name": "LayoutModel",
          "model_module_version": "1.2.0",
          "state": {
            "_model_module": "@jupyter-widgets/base",
            "_model_module_version": "1.2.0",
            "_model_name": "LayoutModel",
            "_view_count": null,
            "_view_module": "@jupyter-widgets/base",
            "_view_module_version": "1.2.0",
            "_view_name": "LayoutView",
            "align_content": null,
            "align_items": null,
            "align_self": null,
            "border": null,
            "bottom": null,
            "display": null,
            "flex": null,
            "flex_flow": null,
            "grid_area": null,
            "grid_auto_columns": null,
            "grid_auto_flow": null,
            "grid_auto_rows": null,
            "grid_column": null,
            "grid_gap": null,
            "grid_row": null,
            "grid_template_areas": null,
            "grid_template_columns": null,
            "grid_template_rows": null,
            "height": null,
            "justify_content": null,
            "justify_items": null,
            "left": null,
            "margin": null,
            "max_height": null,
            "max_width": null,
            "min_height": null,
            "min_width": null,
            "object_fit": null,
            "object_position": null,
            "order": null,
            "overflow": null,
            "overflow_x": null,
            "overflow_y": null,
            "padding": null,
            "right": null,
            "top": null,
            "visibility": null,
            "width": null
          }
        },
        "6531e4235e394f38b586ccacbd9f475f": {
          "model_module": "@jupyter-widgets/controls",
          "model_name": "DescriptionStyleModel",
          "model_module_version": "1.5.0",
          "state": {
            "_model_module": "@jupyter-widgets/controls",
            "_model_module_version": "1.5.0",
            "_model_name": "DescriptionStyleModel",
            "_view_count": null,
            "_view_module": "@jupyter-widgets/base",
            "_view_module_version": "1.2.0",
            "_view_name": "StyleView",
            "description_width": ""
          }
        },
        "d3960e17c8424326ac6aeb38ed78b094": {
          "model_module": "@jupyter-widgets/base",
          "model_name": "LayoutModel",
          "model_module_version": "1.2.0",
          "state": {
            "_model_module": "@jupyter-widgets/base",
            "_model_module_version": "1.2.0",
            "_model_name": "LayoutModel",
            "_view_count": null,
            "_view_module": "@jupyter-widgets/base",
            "_view_module_version": "1.2.0",
            "_view_name": "LayoutView",
            "align_content": null,
            "align_items": null,
            "align_self": null,
            "border": null,
            "bottom": null,
            "display": null,
            "flex": null,
            "flex_flow": null,
            "grid_area": null,
            "grid_auto_columns": null,
            "grid_auto_flow": null,
            "grid_auto_rows": null,
            "grid_column": null,
            "grid_gap": null,
            "grid_row": null,
            "grid_template_areas": null,
            "grid_template_columns": null,
            "grid_template_rows": null,
            "height": null,
            "justify_content": null,
            "justify_items": null,
            "left": null,
            "margin": null,
            "max_height": null,
            "max_width": null,
            "min_height": null,
            "min_width": null,
            "object_fit": null,
            "object_position": null,
            "order": null,
            "overflow": null,
            "overflow_x": null,
            "overflow_y": null,
            "padding": null,
            "right": null,
            "top": null,
            "visibility": null,
            "width": null
          }
        },
        "f75af133ac664300afc877a8b6076dc5": {
          "model_module": "@jupyter-widgets/controls",
          "model_name": "ProgressStyleModel",
          "model_module_version": "1.5.0",
          "state": {
            "_model_module": "@jupyter-widgets/controls",
            "_model_module_version": "1.5.0",
            "_model_name": "ProgressStyleModel",
            "_view_count": null,
            "_view_module": "@jupyter-widgets/base",
            "_view_module_version": "1.2.0",
            "_view_name": "StyleView",
            "bar_color": null,
            "description_width": ""
          }
        },
        "7f27c8ba146b43dbbdf7566751b1a269": {
          "model_module": "@jupyter-widgets/base",
          "model_name": "LayoutModel",
          "model_module_version": "1.2.0",
          "state": {
            "_model_module": "@jupyter-widgets/base",
            "_model_module_version": "1.2.0",
            "_model_name": "LayoutModel",
            "_view_count": null,
            "_view_module": "@jupyter-widgets/base",
            "_view_module_version": "1.2.0",
            "_view_name": "LayoutView",
            "align_content": null,
            "align_items": null,
            "align_self": null,
            "border": null,
            "bottom": null,
            "display": null,
            "flex": null,
            "flex_flow": null,
            "grid_area": null,
            "grid_auto_columns": null,
            "grid_auto_flow": null,
            "grid_auto_rows": null,
            "grid_column": null,
            "grid_gap": null,
            "grid_row": null,
            "grid_template_areas": null,
            "grid_template_columns": null,
            "grid_template_rows": null,
            "height": null,
            "justify_content": null,
            "justify_items": null,
            "left": null,
            "margin": null,
            "max_height": null,
            "max_width": null,
            "min_height": null,
            "min_width": null,
            "object_fit": null,
            "object_position": null,
            "order": null,
            "overflow": null,
            "overflow_x": null,
            "overflow_y": null,
            "padding": null,
            "right": null,
            "top": null,
            "visibility": null,
            "width": null
          }
        },
        "e0954ef4dc694d1cb90c89b744beea9b": {
          "model_module": "@jupyter-widgets/controls",
          "model_name": "DescriptionStyleModel",
          "model_module_version": "1.5.0",
          "state": {
            "_model_module": "@jupyter-widgets/controls",
            "_model_module_version": "1.5.0",
            "_model_name": "DescriptionStyleModel",
            "_view_count": null,
            "_view_module": "@jupyter-widgets/base",
            "_view_module_version": "1.2.0",
            "_view_name": "StyleView",
            "description_width": ""
          }
        },
        "141fda415d194a748898cf8db178a277": {
          "model_module": "@jupyter-widgets/controls",
          "model_name": "HBoxModel",
          "model_module_version": "1.5.0",
          "state": {
            "_dom_classes": [],
            "_model_module": "@jupyter-widgets/controls",
            "_model_module_version": "1.5.0",
            "_model_name": "HBoxModel",
            "_view_count": null,
            "_view_module": "@jupyter-widgets/controls",
            "_view_module_version": "1.5.0",
            "_view_name": "HBoxView",
            "box_style": "",
            "children": [
              "IPY_MODEL_8ea42ca031d04c1d9aa7ee9e4d59d216",
              "IPY_MODEL_63aaa17f6ca24b85a0c4df531e67b6b1",
              "IPY_MODEL_fe7cfe3975c54e738461ee3682b75a0b"
            ],
            "layout": "IPY_MODEL_572aa04636404a4c87d47b7827d7e860"
          }
        },
        "8ea42ca031d04c1d9aa7ee9e4d59d216": {
          "model_module": "@jupyter-widgets/controls",
          "model_name": "HTMLModel",
          "model_module_version": "1.5.0",
          "state": {
            "_dom_classes": [],
            "_model_module": "@jupyter-widgets/controls",
            "_model_module_version": "1.5.0",
            "_model_name": "HTMLModel",
            "_view_count": null,
            "_view_module": "@jupyter-widgets/controls",
            "_view_module_version": "1.5.0",
            "_view_name": "HTMLView",
            "description": "",
            "description_tooltip": null,
            "layout": "IPY_MODEL_d2f6e87bf2fe4bc19e1f43b02a41532c",
            "placeholder": "​",
            "style": "IPY_MODEL_7444c5c713664c1faf8faea8a2c3308b",
            "value": "Downloading (…)lve/main/config.json: 100%"
          }
        },
        "63aaa17f6ca24b85a0c4df531e67b6b1": {
          "model_module": "@jupyter-widgets/controls",
          "model_name": "FloatProgressModel",
          "model_module_version": "1.5.0",
          "state": {
            "_dom_classes": [],
            "_model_module": "@jupyter-widgets/controls",
            "_model_module_version": "1.5.0",
            "_model_name": "FloatProgressModel",
            "_view_count": null,
            "_view_module": "@jupyter-widgets/controls",
            "_view_module_version": "1.5.0",
            "_view_name": "ProgressView",
            "bar_style": "success",
            "description": "",
            "description_tooltip": null,
            "layout": "IPY_MODEL_1d5a98ba4b864ab991f25a47000a332b",
            "max": 701,
            "min": 0,
            "orientation": "horizontal",
            "style": "IPY_MODEL_3053ebc5bd194df680e443128917f4ad",
            "value": 701
          }
        },
        "fe7cfe3975c54e738461ee3682b75a0b": {
          "model_module": "@jupyter-widgets/controls",
          "model_name": "HTMLModel",
          "model_module_version": "1.5.0",
          "state": {
            "_dom_classes": [],
            "_model_module": "@jupyter-widgets/controls",
            "_model_module_version": "1.5.0",
            "_model_name": "HTMLModel",
            "_view_count": null,
            "_view_module": "@jupyter-widgets/controls",
            "_view_module_version": "1.5.0",
            "_view_name": "HTMLView",
            "description": "",
            "description_tooltip": null,
            "layout": "IPY_MODEL_6562341dff6a48b58807d53aff754656",
            "placeholder": "​",
            "style": "IPY_MODEL_dbadcc7310da47e8be715aed1a8916b5",
            "value": " 701/701 [00:00&lt;00:00, 33.7kB/s]"
          }
        },
        "572aa04636404a4c87d47b7827d7e860": {
          "model_module": "@jupyter-widgets/base",
          "model_name": "LayoutModel",
          "model_module_version": "1.2.0",
          "state": {
            "_model_module": "@jupyter-widgets/base",
            "_model_module_version": "1.2.0",
            "_model_name": "LayoutModel",
            "_view_count": null,
            "_view_module": "@jupyter-widgets/base",
            "_view_module_version": "1.2.0",
            "_view_name": "LayoutView",
            "align_content": null,
            "align_items": null,
            "align_self": null,
            "border": null,
            "bottom": null,
            "display": null,
            "flex": null,
            "flex_flow": null,
            "grid_area": null,
            "grid_auto_columns": null,
            "grid_auto_flow": null,
            "grid_auto_rows": null,
            "grid_column": null,
            "grid_gap": null,
            "grid_row": null,
            "grid_template_areas": null,
            "grid_template_columns": null,
            "grid_template_rows": null,
            "height": null,
            "justify_content": null,
            "justify_items": null,
            "left": null,
            "margin": null,
            "max_height": null,
            "max_width": null,
            "min_height": null,
            "min_width": null,
            "object_fit": null,
            "object_position": null,
            "order": null,
            "overflow": null,
            "overflow_x": null,
            "overflow_y": null,
            "padding": null,
            "right": null,
            "top": null,
            "visibility": null,
            "width": null
          }
        },
        "d2f6e87bf2fe4bc19e1f43b02a41532c": {
          "model_module": "@jupyter-widgets/base",
          "model_name": "LayoutModel",
          "model_module_version": "1.2.0",
          "state": {
            "_model_module": "@jupyter-widgets/base",
            "_model_module_version": "1.2.0",
            "_model_name": "LayoutModel",
            "_view_count": null,
            "_view_module": "@jupyter-widgets/base",
            "_view_module_version": "1.2.0",
            "_view_name": "LayoutView",
            "align_content": null,
            "align_items": null,
            "align_self": null,
            "border": null,
            "bottom": null,
            "display": null,
            "flex": null,
            "flex_flow": null,
            "grid_area": null,
            "grid_auto_columns": null,
            "grid_auto_flow": null,
            "grid_auto_rows": null,
            "grid_column": null,
            "grid_gap": null,
            "grid_row": null,
            "grid_template_areas": null,
            "grid_template_columns": null,
            "grid_template_rows": null,
            "height": null,
            "justify_content": null,
            "justify_items": null,
            "left": null,
            "margin": null,
            "max_height": null,
            "max_width": null,
            "min_height": null,
            "min_width": null,
            "object_fit": null,
            "object_position": null,
            "order": null,
            "overflow": null,
            "overflow_x": null,
            "overflow_y": null,
            "padding": null,
            "right": null,
            "top": null,
            "visibility": null,
            "width": null
          }
        },
        "7444c5c713664c1faf8faea8a2c3308b": {
          "model_module": "@jupyter-widgets/controls",
          "model_name": "DescriptionStyleModel",
          "model_module_version": "1.5.0",
          "state": {
            "_model_module": "@jupyter-widgets/controls",
            "_model_module_version": "1.5.0",
            "_model_name": "DescriptionStyleModel",
            "_view_count": null,
            "_view_module": "@jupyter-widgets/base",
            "_view_module_version": "1.2.0",
            "_view_name": "StyleView",
            "description_width": ""
          }
        },
        "1d5a98ba4b864ab991f25a47000a332b": {
          "model_module": "@jupyter-widgets/base",
          "model_name": "LayoutModel",
          "model_module_version": "1.2.0",
          "state": {
            "_model_module": "@jupyter-widgets/base",
            "_model_module_version": "1.2.0",
            "_model_name": "LayoutModel",
            "_view_count": null,
            "_view_module": "@jupyter-widgets/base",
            "_view_module_version": "1.2.0",
            "_view_name": "LayoutView",
            "align_content": null,
            "align_items": null,
            "align_self": null,
            "border": null,
            "bottom": null,
            "display": null,
            "flex": null,
            "flex_flow": null,
            "grid_area": null,
            "grid_auto_columns": null,
            "grid_auto_flow": null,
            "grid_auto_rows": null,
            "grid_column": null,
            "grid_gap": null,
            "grid_row": null,
            "grid_template_areas": null,
            "grid_template_columns": null,
            "grid_template_rows": null,
            "height": null,
            "justify_content": null,
            "justify_items": null,
            "left": null,
            "margin": null,
            "max_height": null,
            "max_width": null,
            "min_height": null,
            "min_width": null,
            "object_fit": null,
            "object_position": null,
            "order": null,
            "overflow": null,
            "overflow_x": null,
            "overflow_y": null,
            "padding": null,
            "right": null,
            "top": null,
            "visibility": null,
            "width": null
          }
        },
        "3053ebc5bd194df680e443128917f4ad": {
          "model_module": "@jupyter-widgets/controls",
          "model_name": "ProgressStyleModel",
          "model_module_version": "1.5.0",
          "state": {
            "_model_module": "@jupyter-widgets/controls",
            "_model_module_version": "1.5.0",
            "_model_name": "ProgressStyleModel",
            "_view_count": null,
            "_view_module": "@jupyter-widgets/base",
            "_view_module_version": "1.2.0",
            "_view_name": "StyleView",
            "bar_color": null,
            "description_width": ""
          }
        },
        "6562341dff6a48b58807d53aff754656": {
          "model_module": "@jupyter-widgets/base",
          "model_name": "LayoutModel",
          "model_module_version": "1.2.0",
          "state": {
            "_model_module": "@jupyter-widgets/base",
            "_model_module_version": "1.2.0",
            "_model_name": "LayoutModel",
            "_view_count": null,
            "_view_module": "@jupyter-widgets/base",
            "_view_module_version": "1.2.0",
            "_view_name": "LayoutView",
            "align_content": null,
            "align_items": null,
            "align_self": null,
            "border": null,
            "bottom": null,
            "display": null,
            "flex": null,
            "flex_flow": null,
            "grid_area": null,
            "grid_auto_columns": null,
            "grid_auto_flow": null,
            "grid_auto_rows": null,
            "grid_column": null,
            "grid_gap": null,
            "grid_row": null,
            "grid_template_areas": null,
            "grid_template_columns": null,
            "grid_template_rows": null,
            "height": null,
            "justify_content": null,
            "justify_items": null,
            "left": null,
            "margin": null,
            "max_height": null,
            "max_width": null,
            "min_height": null,
            "min_width": null,
            "object_fit": null,
            "object_position": null,
            "order": null,
            "overflow": null,
            "overflow_x": null,
            "overflow_y": null,
            "padding": null,
            "right": null,
            "top": null,
            "visibility": null,
            "width": null
          }
        },
        "dbadcc7310da47e8be715aed1a8916b5": {
          "model_module": "@jupyter-widgets/controls",
          "model_name": "DescriptionStyleModel",
          "model_module_version": "1.5.0",
          "state": {
            "_model_module": "@jupyter-widgets/controls",
            "_model_module_version": "1.5.0",
            "_model_name": "DescriptionStyleModel",
            "_view_count": null,
            "_view_module": "@jupyter-widgets/base",
            "_view_module_version": "1.2.0",
            "_view_name": "StyleView",
            "description_width": ""
          }
        },
        "d47bf1e2a4fb4c74bad213d21efbd85a": {
          "model_module": "@jupyter-widgets/controls",
          "model_name": "HBoxModel",
          "model_module_version": "1.5.0",
          "state": {
            "_dom_classes": [],
            "_model_module": "@jupyter-widgets/controls",
            "_model_module_version": "1.5.0",
            "_model_name": "HBoxModel",
            "_view_count": null,
            "_view_module": "@jupyter-widgets/controls",
            "_view_module_version": "1.5.0",
            "_view_name": "HBoxView",
            "box_style": "",
            "children": [
              "IPY_MODEL_72f7113793aa4790b323d657f211a00b",
              "IPY_MODEL_59c1b5c5811a4298bd91031b1f1df461",
              "IPY_MODEL_fbf168b0463d465eb0ba9341613fda06"
            ],
            "layout": "IPY_MODEL_bfa167988c2f4d0fb2e993177ba676bb"
          }
        },
        "72f7113793aa4790b323d657f211a00b": {
          "model_module": "@jupyter-widgets/controls",
          "model_name": "HTMLModel",
          "model_module_version": "1.5.0",
          "state": {
            "_dom_classes": [],
            "_model_module": "@jupyter-widgets/controls",
            "_model_module_version": "1.5.0",
            "_model_name": "HTMLModel",
            "_view_count": null,
            "_view_module": "@jupyter-widgets/controls",
            "_view_module_version": "1.5.0",
            "_view_name": "HTMLView",
            "description": "",
            "description_tooltip": null,
            "layout": "IPY_MODEL_8a30945d0c64468a8450fa344b74a501",
            "placeholder": "​",
            "style": "IPY_MODEL_6d5c4297b5fb4007987c513f8d808600",
            "value": "Downloading (…)solve/main/vocab.txt: 100%"
          }
        },
        "59c1b5c5811a4298bd91031b1f1df461": {
          "model_module": "@jupyter-widgets/controls",
          "model_name": "FloatProgressModel",
          "model_module_version": "1.5.0",
          "state": {
            "_dom_classes": [],
            "_model_module": "@jupyter-widgets/controls",
            "_model_module_version": "1.5.0",
            "_model_name": "FloatProgressModel",
            "_view_count": null,
            "_view_module": "@jupyter-widgets/controls",
            "_view_module_version": "1.5.0",
            "_view_name": "ProgressView",
            "bar_style": "success",
            "description": "",
            "description_tooltip": null,
            "layout": "IPY_MODEL_3258565dd05d4a15b4c7c8dde9b62712",
            "max": 1099714,
            "min": 0,
            "orientation": "horizontal",
            "style": "IPY_MODEL_252a8268b13d491d9606a6bcf1d05a22",
            "value": 1099714
          }
        },
        "fbf168b0463d465eb0ba9341613fda06": {
          "model_module": "@jupyter-widgets/controls",
          "model_name": "HTMLModel",
          "model_module_version": "1.5.0",
          "state": {
            "_dom_classes": [],
            "_model_module": "@jupyter-widgets/controls",
            "_model_module_version": "1.5.0",
            "_model_name": "HTMLModel",
            "_view_count": null,
            "_view_module": "@jupyter-widgets/controls",
            "_view_module_version": "1.5.0",
            "_view_name": "HTMLView",
            "description": "",
            "description_tooltip": null,
            "layout": "IPY_MODEL_eb7cfdbd1ebe492298e6d309adea1fa1",
            "placeholder": "​",
            "style": "IPY_MODEL_c7c0758141af499395e11965d328a66d",
            "value": " 1.10M/1.10M [00:01&lt;00:00, 816kB/s]"
          }
        },
        "bfa167988c2f4d0fb2e993177ba676bb": {
          "model_module": "@jupyter-widgets/base",
          "model_name": "LayoutModel",
          "model_module_version": "1.2.0",
          "state": {
            "_model_module": "@jupyter-widgets/base",
            "_model_module_version": "1.2.0",
            "_model_name": "LayoutModel",
            "_view_count": null,
            "_view_module": "@jupyter-widgets/base",
            "_view_module_version": "1.2.0",
            "_view_name": "LayoutView",
            "align_content": null,
            "align_items": null,
            "align_self": null,
            "border": null,
            "bottom": null,
            "display": null,
            "flex": null,
            "flex_flow": null,
            "grid_area": null,
            "grid_auto_columns": null,
            "grid_auto_flow": null,
            "grid_auto_rows": null,
            "grid_column": null,
            "grid_gap": null,
            "grid_row": null,
            "grid_template_areas": null,
            "grid_template_columns": null,
            "grid_template_rows": null,
            "height": null,
            "justify_content": null,
            "justify_items": null,
            "left": null,
            "margin": null,
            "max_height": null,
            "max_width": null,
            "min_height": null,
            "min_width": null,
            "object_fit": null,
            "object_position": null,
            "order": null,
            "overflow": null,
            "overflow_x": null,
            "overflow_y": null,
            "padding": null,
            "right": null,
            "top": null,
            "visibility": null,
            "width": null
          }
        },
        "8a30945d0c64468a8450fa344b74a501": {
          "model_module": "@jupyter-widgets/base",
          "model_name": "LayoutModel",
          "model_module_version": "1.2.0",
          "state": {
            "_model_module": "@jupyter-widgets/base",
            "_model_module_version": "1.2.0",
            "_model_name": "LayoutModel",
            "_view_count": null,
            "_view_module": "@jupyter-widgets/base",
            "_view_module_version": "1.2.0",
            "_view_name": "LayoutView",
            "align_content": null,
            "align_items": null,
            "align_self": null,
            "border": null,
            "bottom": null,
            "display": null,
            "flex": null,
            "flex_flow": null,
            "grid_area": null,
            "grid_auto_columns": null,
            "grid_auto_flow": null,
            "grid_auto_rows": null,
            "grid_column": null,
            "grid_gap": null,
            "grid_row": null,
            "grid_template_areas": null,
            "grid_template_columns": null,
            "grid_template_rows": null,
            "height": null,
            "justify_content": null,
            "justify_items": null,
            "left": null,
            "margin": null,
            "max_height": null,
            "max_width": null,
            "min_height": null,
            "min_width": null,
            "object_fit": null,
            "object_position": null,
            "order": null,
            "overflow": null,
            "overflow_x": null,
            "overflow_y": null,
            "padding": null,
            "right": null,
            "top": null,
            "visibility": null,
            "width": null
          }
        },
        "6d5c4297b5fb4007987c513f8d808600": {
          "model_module": "@jupyter-widgets/controls",
          "model_name": "DescriptionStyleModel",
          "model_module_version": "1.5.0",
          "state": {
            "_model_module": "@jupyter-widgets/controls",
            "_model_module_version": "1.5.0",
            "_model_name": "DescriptionStyleModel",
            "_view_count": null,
            "_view_module": "@jupyter-widgets/base",
            "_view_module_version": "1.2.0",
            "_view_name": "StyleView",
            "description_width": ""
          }
        },
        "3258565dd05d4a15b4c7c8dde9b62712": {
          "model_module": "@jupyter-widgets/base",
          "model_name": "LayoutModel",
          "model_module_version": "1.2.0",
          "state": {
            "_model_module": "@jupyter-widgets/base",
            "_model_module_version": "1.2.0",
            "_model_name": "LayoutModel",
            "_view_count": null,
            "_view_module": "@jupyter-widgets/base",
            "_view_module_version": "1.2.0",
            "_view_name": "LayoutView",
            "align_content": null,
            "align_items": null,
            "align_self": null,
            "border": null,
            "bottom": null,
            "display": null,
            "flex": null,
            "flex_flow": null,
            "grid_area": null,
            "grid_auto_columns": null,
            "grid_auto_flow": null,
            "grid_auto_rows": null,
            "grid_column": null,
            "grid_gap": null,
            "grid_row": null,
            "grid_template_areas": null,
            "grid_template_columns": null,
            "grid_template_rows": null,
            "height": null,
            "justify_content": null,
            "justify_items": null,
            "left": null,
            "margin": null,
            "max_height": null,
            "max_width": null,
            "min_height": null,
            "min_width": null,
            "object_fit": null,
            "object_position": null,
            "order": null,
            "overflow": null,
            "overflow_x": null,
            "overflow_y": null,
            "padding": null,
            "right": null,
            "top": null,
            "visibility": null,
            "width": null
          }
        },
        "252a8268b13d491d9606a6bcf1d05a22": {
          "model_module": "@jupyter-widgets/controls",
          "model_name": "ProgressStyleModel",
          "model_module_version": "1.5.0",
          "state": {
            "_model_module": "@jupyter-widgets/controls",
            "_model_module_version": "1.5.0",
            "_model_name": "ProgressStyleModel",
            "_view_count": null,
            "_view_module": "@jupyter-widgets/base",
            "_view_module_version": "1.2.0",
            "_view_name": "StyleView",
            "bar_color": null,
            "description_width": ""
          }
        },
        "eb7cfdbd1ebe492298e6d309adea1fa1": {
          "model_module": "@jupyter-widgets/base",
          "model_name": "LayoutModel",
          "model_module_version": "1.2.0",
          "state": {
            "_model_module": "@jupyter-widgets/base",
            "_model_module_version": "1.2.0",
            "_model_name": "LayoutModel",
            "_view_count": null,
            "_view_module": "@jupyter-widgets/base",
            "_view_module_version": "1.2.0",
            "_view_name": "LayoutView",
            "align_content": null,
            "align_items": null,
            "align_self": null,
            "border": null,
            "bottom": null,
            "display": null,
            "flex": null,
            "flex_flow": null,
            "grid_area": null,
            "grid_auto_columns": null,
            "grid_auto_flow": null,
            "grid_auto_rows": null,
            "grid_column": null,
            "grid_gap": null,
            "grid_row": null,
            "grid_template_areas": null,
            "grid_template_columns": null,
            "grid_template_rows": null,
            "height": null,
            "justify_content": null,
            "justify_items": null,
            "left": null,
            "margin": null,
            "max_height": null,
            "max_width": null,
            "min_height": null,
            "min_width": null,
            "object_fit": null,
            "object_position": null,
            "order": null,
            "overflow": null,
            "overflow_x": null,
            "overflow_y": null,
            "padding": null,
            "right": null,
            "top": null,
            "visibility": null,
            "width": null
          }
        },
        "c7c0758141af499395e11965d328a66d": {
          "model_module": "@jupyter-widgets/controls",
          "model_name": "DescriptionStyleModel",
          "model_module_version": "1.5.0",
          "state": {
            "_model_module": "@jupyter-widgets/controls",
            "_model_module_version": "1.5.0",
            "_model_name": "DescriptionStyleModel",
            "_view_count": null,
            "_view_module": "@jupyter-widgets/base",
            "_view_module_version": "1.2.0",
            "_view_name": "StyleView",
            "description_width": ""
          }
        },
        "43e5761122524430ac2d972cdc9396cd": {
          "model_module": "@jupyter-widgets/controls",
          "model_name": "HBoxModel",
          "model_module_version": "1.5.0",
          "state": {
            "_dom_classes": [],
            "_model_module": "@jupyter-widgets/controls",
            "_model_module_version": "1.5.0",
            "_model_name": "HBoxModel",
            "_view_count": null,
            "_view_module": "@jupyter-widgets/controls",
            "_view_module_version": "1.5.0",
            "_view_name": "HBoxView",
            "box_style": "",
            "children": [
              "IPY_MODEL_10a8841319fb4d0a85498f5d93bf38ae",
              "IPY_MODEL_9d60af443ee045c6bdfa702813791fa9",
              "IPY_MODEL_8252376391e04b40a3894e10ac1d4808"
            ],
            "layout": "IPY_MODEL_537160ae2fa84544bc5e44b2b0008e91"
          }
        },
        "10a8841319fb4d0a85498f5d93bf38ae": {
          "model_module": "@jupyter-widgets/controls",
          "model_name": "HTMLModel",
          "model_module_version": "1.5.0",
          "state": {
            "_dom_classes": [],
            "_model_module": "@jupyter-widgets/controls",
            "_model_module_version": "1.5.0",
            "_model_name": "HTMLModel",
            "_view_count": null,
            "_view_module": "@jupyter-widgets/controls",
            "_view_module_version": "1.5.0",
            "_view_name": "HTMLView",
            "description": "",
            "description_tooltip": null,
            "layout": "IPY_MODEL_5bef46d33691492d96bc484bdf754455",
            "placeholder": "​",
            "style": "IPY_MODEL_5825a431d7f54c1c944a6b075c3db6b7",
            "value": "Downloading (…)cial_tokens_map.json: 100%"
          }
        },
        "9d60af443ee045c6bdfa702813791fa9": {
          "model_module": "@jupyter-widgets/controls",
          "model_name": "FloatProgressModel",
          "model_module_version": "1.5.0",
          "state": {
            "_dom_classes": [],
            "_model_module": "@jupyter-widgets/controls",
            "_model_module_version": "1.5.0",
            "_model_name": "FloatProgressModel",
            "_view_count": null,
            "_view_module": "@jupyter-widgets/controls",
            "_view_module_version": "1.5.0",
            "_view_name": "ProgressView",
            "bar_style": "success",
            "description": "",
            "description_tooltip": null,
            "layout": "IPY_MODEL_46886370aa4a4ab183621d524fc69c82",
            "max": 112,
            "min": 0,
            "orientation": "horizontal",
            "style": "IPY_MODEL_05117105b16744e3b4608e932a307825",
            "value": 112
          }
        },
        "8252376391e04b40a3894e10ac1d4808": {
          "model_module": "@jupyter-widgets/controls",
          "model_name": "HTMLModel",
          "model_module_version": "1.5.0",
          "state": {
            "_dom_classes": [],
            "_model_module": "@jupyter-widgets/controls",
            "_model_module_version": "1.5.0",
            "_model_name": "HTMLModel",
            "_view_count": null,
            "_view_module": "@jupyter-widgets/controls",
            "_view_module_version": "1.5.0",
            "_view_name": "HTMLView",
            "description": "",
            "description_tooltip": null,
            "layout": "IPY_MODEL_df6dbba7fb5a4621a6e19d691ad26aaf",
            "placeholder": "​",
            "style": "IPY_MODEL_4c56105efd684eaea0db5c54820f6d0c",
            "value": " 112/112 [00:00&lt;00:00, 7.88kB/s]"
          }
        },
        "537160ae2fa84544bc5e44b2b0008e91": {
          "model_module": "@jupyter-widgets/base",
          "model_name": "LayoutModel",
          "model_module_version": "1.2.0",
          "state": {
            "_model_module": "@jupyter-widgets/base",
            "_model_module_version": "1.2.0",
            "_model_name": "LayoutModel",
            "_view_count": null,
            "_view_module": "@jupyter-widgets/base",
            "_view_module_version": "1.2.0",
            "_view_name": "LayoutView",
            "align_content": null,
            "align_items": null,
            "align_self": null,
            "border": null,
            "bottom": null,
            "display": null,
            "flex": null,
            "flex_flow": null,
            "grid_area": null,
            "grid_auto_columns": null,
            "grid_auto_flow": null,
            "grid_auto_rows": null,
            "grid_column": null,
            "grid_gap": null,
            "grid_row": null,
            "grid_template_areas": null,
            "grid_template_columns": null,
            "grid_template_rows": null,
            "height": null,
            "justify_content": null,
            "justify_items": null,
            "left": null,
            "margin": null,
            "max_height": null,
            "max_width": null,
            "min_height": null,
            "min_width": null,
            "object_fit": null,
            "object_position": null,
            "order": null,
            "overflow": null,
            "overflow_x": null,
            "overflow_y": null,
            "padding": null,
            "right": null,
            "top": null,
            "visibility": null,
            "width": null
          }
        },
        "5bef46d33691492d96bc484bdf754455": {
          "model_module": "@jupyter-widgets/base",
          "model_name": "LayoutModel",
          "model_module_version": "1.2.0",
          "state": {
            "_model_module": "@jupyter-widgets/base",
            "_model_module_version": "1.2.0",
            "_model_name": "LayoutModel",
            "_view_count": null,
            "_view_module": "@jupyter-widgets/base",
            "_view_module_version": "1.2.0",
            "_view_name": "LayoutView",
            "align_content": null,
            "align_items": null,
            "align_self": null,
            "border": null,
            "bottom": null,
            "display": null,
            "flex": null,
            "flex_flow": null,
            "grid_area": null,
            "grid_auto_columns": null,
            "grid_auto_flow": null,
            "grid_auto_rows": null,
            "grid_column": null,
            "grid_gap": null,
            "grid_row": null,
            "grid_template_areas": null,
            "grid_template_columns": null,
            "grid_template_rows": null,
            "height": null,
            "justify_content": null,
            "justify_items": null,
            "left": null,
            "margin": null,
            "max_height": null,
            "max_width": null,
            "min_height": null,
            "min_width": null,
            "object_fit": null,
            "object_position": null,
            "order": null,
            "overflow": null,
            "overflow_x": null,
            "overflow_y": null,
            "padding": null,
            "right": null,
            "top": null,
            "visibility": null,
            "width": null
          }
        },
        "5825a431d7f54c1c944a6b075c3db6b7": {
          "model_module": "@jupyter-widgets/controls",
          "model_name": "DescriptionStyleModel",
          "model_module_version": "1.5.0",
          "state": {
            "_model_module": "@jupyter-widgets/controls",
            "_model_module_version": "1.5.0",
            "_model_name": "DescriptionStyleModel",
            "_view_count": null,
            "_view_module": "@jupyter-widgets/base",
            "_view_module_version": "1.2.0",
            "_view_name": "StyleView",
            "description_width": ""
          }
        },
        "46886370aa4a4ab183621d524fc69c82": {
          "model_module": "@jupyter-widgets/base",
          "model_name": "LayoutModel",
          "model_module_version": "1.2.0",
          "state": {
            "_model_module": "@jupyter-widgets/base",
            "_model_module_version": "1.2.0",
            "_model_name": "LayoutModel",
            "_view_count": null,
            "_view_module": "@jupyter-widgets/base",
            "_view_module_version": "1.2.0",
            "_view_name": "LayoutView",
            "align_content": null,
            "align_items": null,
            "align_self": null,
            "border": null,
            "bottom": null,
            "display": null,
            "flex": null,
            "flex_flow": null,
            "grid_area": null,
            "grid_auto_columns": null,
            "grid_auto_flow": null,
            "grid_auto_rows": null,
            "grid_column": null,
            "grid_gap": null,
            "grid_row": null,
            "grid_template_areas": null,
            "grid_template_columns": null,
            "grid_template_rows": null,
            "height": null,
            "justify_content": null,
            "justify_items": null,
            "left": null,
            "margin": null,
            "max_height": null,
            "max_width": null,
            "min_height": null,
            "min_width": null,
            "object_fit": null,
            "object_position": null,
            "order": null,
            "overflow": null,
            "overflow_x": null,
            "overflow_y": null,
            "padding": null,
            "right": null,
            "top": null,
            "visibility": null,
            "width": null
          }
        },
        "05117105b16744e3b4608e932a307825": {
          "model_module": "@jupyter-widgets/controls",
          "model_name": "ProgressStyleModel",
          "model_module_version": "1.5.0",
          "state": {
            "_model_module": "@jupyter-widgets/controls",
            "_model_module_version": "1.5.0",
            "_model_name": "ProgressStyleModel",
            "_view_count": null,
            "_view_module": "@jupyter-widgets/base",
            "_view_module_version": "1.2.0",
            "_view_name": "StyleView",
            "bar_color": null,
            "description_width": ""
          }
        },
        "df6dbba7fb5a4621a6e19d691ad26aaf": {
          "model_module": "@jupyter-widgets/base",
          "model_name": "LayoutModel",
          "model_module_version": "1.2.0",
          "state": {
            "_model_module": "@jupyter-widgets/base",
            "_model_module_version": "1.2.0",
            "_model_name": "LayoutModel",
            "_view_count": null,
            "_view_module": "@jupyter-widgets/base",
            "_view_module_version": "1.2.0",
            "_view_name": "LayoutView",
            "align_content": null,
            "align_items": null,
            "align_self": null,
            "border": null,
            "bottom": null,
            "display": null,
            "flex": null,
            "flex_flow": null,
            "grid_area": null,
            "grid_auto_columns": null,
            "grid_auto_flow": null,
            "grid_auto_rows": null,
            "grid_column": null,
            "grid_gap": null,
            "grid_row": null,
            "grid_template_areas": null,
            "grid_template_columns": null,
            "grid_template_rows": null,
            "height": null,
            "justify_content": null,
            "justify_items": null,
            "left": null,
            "margin": null,
            "max_height": null,
            "max_width": null,
            "min_height": null,
            "min_width": null,
            "object_fit": null,
            "object_position": null,
            "order": null,
            "overflow": null,
            "overflow_x": null,
            "overflow_y": null,
            "padding": null,
            "right": null,
            "top": null,
            "visibility": null,
            "width": null
          }
        },
        "4c56105efd684eaea0db5c54820f6d0c": {
          "model_module": "@jupyter-widgets/controls",
          "model_name": "DescriptionStyleModel",
          "model_module_version": "1.5.0",
          "state": {
            "_model_module": "@jupyter-widgets/controls",
            "_model_module_version": "1.5.0",
            "_model_name": "DescriptionStyleModel",
            "_view_count": null,
            "_view_module": "@jupyter-widgets/base",
            "_view_module_version": "1.2.0",
            "_view_name": "StyleView",
            "description_width": ""
          }
        },
        "9700cda8e4834a5682720502bebb744f": {
          "model_module": "@jupyter-widgets/controls",
          "model_name": "HBoxModel",
          "model_module_version": "1.5.0",
          "state": {
            "_dom_classes": [],
            "_model_module": "@jupyter-widgets/controls",
            "_model_module_version": "1.5.0",
            "_model_name": "HBoxModel",
            "_view_count": null,
            "_view_module": "@jupyter-widgets/controls",
            "_view_module_version": "1.5.0",
            "_view_name": "HBoxView",
            "box_style": "",
            "children": [
              "IPY_MODEL_dd39261433b8405999a33907d4ec9a3e",
              "IPY_MODEL_8759cfe117e24485aeac5f6be24126da",
              "IPY_MODEL_14da152db7b547288c49b09ce25e75b0"
            ],
            "layout": "IPY_MODEL_46517fdaabff4cea900bf127a43c7ccb"
          }
        },
        "dd39261433b8405999a33907d4ec9a3e": {
          "model_module": "@jupyter-widgets/controls",
          "model_name": "HTMLModel",
          "model_module_version": "1.5.0",
          "state": {
            "_dom_classes": [],
            "_model_module": "@jupyter-widgets/controls",
            "_model_module_version": "1.5.0",
            "_model_name": "HTMLModel",
            "_view_count": null,
            "_view_module": "@jupyter-widgets/controls",
            "_view_module_version": "1.5.0",
            "_view_name": "HTMLView",
            "description": "",
            "description_tooltip": null,
            "layout": "IPY_MODEL_615a04045a614c23b29737e7beaed119",
            "placeholder": "​",
            "style": "IPY_MODEL_72c48d1d35aa4120b64ef0c385d9cf81",
            "value": "Downloading (…)&quot;tf_model.h5&quot;;: 100%"
          }
        },
        "8759cfe117e24485aeac5f6be24126da": {
          "model_module": "@jupyter-widgets/controls",
          "model_name": "FloatProgressModel",
          "model_module_version": "1.5.0",
          "state": {
            "_dom_classes": [],
            "_model_module": "@jupyter-widgets/controls",
            "_model_module_version": "1.5.0",
            "_model_name": "FloatProgressModel",
            "_view_count": null,
            "_view_module": "@jupyter-widgets/controls",
            "_view_module_version": "1.5.0",
            "_view_name": "ProgressView",
            "bar_style": "success",
            "description": "",
            "description_tooltip": null,
            "layout": "IPY_MODEL_79f3d436da9946839d5ce7093675568e",
            "max": 651627688,
            "min": 0,
            "orientation": "horizontal",
            "style": "IPY_MODEL_8c4d5ea2048844c8827879c754b6602d",
            "value": 651627688
          }
        },
        "14da152db7b547288c49b09ce25e75b0": {
          "model_module": "@jupyter-widgets/controls",
          "model_name": "HTMLModel",
          "model_module_version": "1.5.0",
          "state": {
            "_dom_classes": [],
            "_model_module": "@jupyter-widgets/controls",
            "_model_module_version": "1.5.0",
            "_model_name": "HTMLModel",
            "_view_count": null,
            "_view_module": "@jupyter-widgets/controls",
            "_view_module_version": "1.5.0",
            "_view_name": "HTMLView",
            "description": "",
            "description_tooltip": null,
            "layout": "IPY_MODEL_ca60dc8f9fa346309d4e4b864825de8d",
            "placeholder": "​",
            "style": "IPY_MODEL_8976fbbc88904ebfb4662c5aeb52fc13",
            "value": " 652M/652M [00:36&lt;00:00, 18.8MB/s]"
          }
        },
        "46517fdaabff4cea900bf127a43c7ccb": {
          "model_module": "@jupyter-widgets/base",
          "model_name": "LayoutModel",
          "model_module_version": "1.2.0",
          "state": {
            "_model_module": "@jupyter-widgets/base",
            "_model_module_version": "1.2.0",
            "_model_name": "LayoutModel",
            "_view_count": null,
            "_view_module": "@jupyter-widgets/base",
            "_view_module_version": "1.2.0",
            "_view_name": "LayoutView",
            "align_content": null,
            "align_items": null,
            "align_self": null,
            "border": null,
            "bottom": null,
            "display": null,
            "flex": null,
            "flex_flow": null,
            "grid_area": null,
            "grid_auto_columns": null,
            "grid_auto_flow": null,
            "grid_auto_rows": null,
            "grid_column": null,
            "grid_gap": null,
            "grid_row": null,
            "grid_template_areas": null,
            "grid_template_columns": null,
            "grid_template_rows": null,
            "height": null,
            "justify_content": null,
            "justify_items": null,
            "left": null,
            "margin": null,
            "max_height": null,
            "max_width": null,
            "min_height": null,
            "min_width": null,
            "object_fit": null,
            "object_position": null,
            "order": null,
            "overflow": null,
            "overflow_x": null,
            "overflow_y": null,
            "padding": null,
            "right": null,
            "top": null,
            "visibility": null,
            "width": null
          }
        },
        "615a04045a614c23b29737e7beaed119": {
          "model_module": "@jupyter-widgets/base",
          "model_name": "LayoutModel",
          "model_module_version": "1.2.0",
          "state": {
            "_model_module": "@jupyter-widgets/base",
            "_model_module_version": "1.2.0",
            "_model_name": "LayoutModel",
            "_view_count": null,
            "_view_module": "@jupyter-widgets/base",
            "_view_module_version": "1.2.0",
            "_view_name": "LayoutView",
            "align_content": null,
            "align_items": null,
            "align_self": null,
            "border": null,
            "bottom": null,
            "display": null,
            "flex": null,
            "flex_flow": null,
            "grid_area": null,
            "grid_auto_columns": null,
            "grid_auto_flow": null,
            "grid_auto_rows": null,
            "grid_column": null,
            "grid_gap": null,
            "grid_row": null,
            "grid_template_areas": null,
            "grid_template_columns": null,
            "grid_template_rows": null,
            "height": null,
            "justify_content": null,
            "justify_items": null,
            "left": null,
            "margin": null,
            "max_height": null,
            "max_width": null,
            "min_height": null,
            "min_width": null,
            "object_fit": null,
            "object_position": null,
            "order": null,
            "overflow": null,
            "overflow_x": null,
            "overflow_y": null,
            "padding": null,
            "right": null,
            "top": null,
            "visibility": null,
            "width": null
          }
        },
        "72c48d1d35aa4120b64ef0c385d9cf81": {
          "model_module": "@jupyter-widgets/controls",
          "model_name": "DescriptionStyleModel",
          "model_module_version": "1.5.0",
          "state": {
            "_model_module": "@jupyter-widgets/controls",
            "_model_module_version": "1.5.0",
            "_model_name": "DescriptionStyleModel",
            "_view_count": null,
            "_view_module": "@jupyter-widgets/base",
            "_view_module_version": "1.2.0",
            "_view_name": "StyleView",
            "description_width": ""
          }
        },
        "79f3d436da9946839d5ce7093675568e": {
          "model_module": "@jupyter-widgets/base",
          "model_name": "LayoutModel",
          "model_module_version": "1.2.0",
          "state": {
            "_model_module": "@jupyter-widgets/base",
            "_model_module_version": "1.2.0",
            "_model_name": "LayoutModel",
            "_view_count": null,
            "_view_module": "@jupyter-widgets/base",
            "_view_module_version": "1.2.0",
            "_view_name": "LayoutView",
            "align_content": null,
            "align_items": null,
            "align_self": null,
            "border": null,
            "bottom": null,
            "display": null,
            "flex": null,
            "flex_flow": null,
            "grid_area": null,
            "grid_auto_columns": null,
            "grid_auto_flow": null,
            "grid_auto_rows": null,
            "grid_column": null,
            "grid_gap": null,
            "grid_row": null,
            "grid_template_areas": null,
            "grid_template_columns": null,
            "grid_template_rows": null,
            "height": null,
            "justify_content": null,
            "justify_items": null,
            "left": null,
            "margin": null,
            "max_height": null,
            "max_width": null,
            "min_height": null,
            "min_width": null,
            "object_fit": null,
            "object_position": null,
            "order": null,
            "overflow": null,
            "overflow_x": null,
            "overflow_y": null,
            "padding": null,
            "right": null,
            "top": null,
            "visibility": null,
            "width": null
          }
        },
        "8c4d5ea2048844c8827879c754b6602d": {
          "model_module": "@jupyter-widgets/controls",
          "model_name": "ProgressStyleModel",
          "model_module_version": "1.5.0",
          "state": {
            "_model_module": "@jupyter-widgets/controls",
            "_model_module_version": "1.5.0",
            "_model_name": "ProgressStyleModel",
            "_view_count": null,
            "_view_module": "@jupyter-widgets/base",
            "_view_module_version": "1.2.0",
            "_view_name": "StyleView",
            "bar_color": null,
            "description_width": ""
          }
        },
        "ca60dc8f9fa346309d4e4b864825de8d": {
          "model_module": "@jupyter-widgets/base",
          "model_name": "LayoutModel",
          "model_module_version": "1.2.0",
          "state": {
            "_model_module": "@jupyter-widgets/base",
            "_model_module_version": "1.2.0",
            "_model_name": "LayoutModel",
            "_view_count": null,
            "_view_module": "@jupyter-widgets/base",
            "_view_module_version": "1.2.0",
            "_view_name": "LayoutView",
            "align_content": null,
            "align_items": null,
            "align_self": null,
            "border": null,
            "bottom": null,
            "display": null,
            "flex": null,
            "flex_flow": null,
            "grid_area": null,
            "grid_auto_columns": null,
            "grid_auto_flow": null,
            "grid_auto_rows": null,
            "grid_column": null,
            "grid_gap": null,
            "grid_row": null,
            "grid_template_areas": null,
            "grid_template_columns": null,
            "grid_template_rows": null,
            "height": null,
            "justify_content": null,
            "justify_items": null,
            "left": null,
            "margin": null,
            "max_height": null,
            "max_width": null,
            "min_height": null,
            "min_width": null,
            "object_fit": null,
            "object_position": null,
            "order": null,
            "overflow": null,
            "overflow_x": null,
            "overflow_y": null,
            "padding": null,
            "right": null,
            "top": null,
            "visibility": null,
            "width": null
          }
        },
        "8976fbbc88904ebfb4662c5aeb52fc13": {
          "model_module": "@jupyter-widgets/controls",
          "model_name": "DescriptionStyleModel",
          "model_module_version": "1.5.0",
          "state": {
            "_model_module": "@jupyter-widgets/controls",
            "_model_module_version": "1.5.0",
            "_model_name": "DescriptionStyleModel",
            "_view_count": null,
            "_view_module": "@jupyter-widgets/base",
            "_view_module_version": "1.2.0",
            "_view_name": "StyleView",
            "description_width": ""
          }
        },
        "9ea27c399a224736aaaa2614c9f12182": {
          "model_module": "@jupyter-widgets/controls",
          "model_name": "HBoxModel",
          "model_module_version": "1.5.0",
          "state": {
            "_dom_classes": [],
            "_model_module": "@jupyter-widgets/controls",
            "_model_module_version": "1.5.0",
            "_model_name": "HBoxModel",
            "_view_count": null,
            "_view_module": "@jupyter-widgets/controls",
            "_view_module_version": "1.5.0",
            "_view_name": "HBoxView",
            "box_style": "",
            "children": [
              "IPY_MODEL_694964596d0646dd9f8021aa95a668e3",
              "IPY_MODEL_d686edd56f0e4f7483ede3e04e8e6a98",
              "IPY_MODEL_f35158c6523f4492a527ef8bcd5aef3a"
            ],
            "layout": "IPY_MODEL_f43fdc89b2294d67a14a7a029d613ee4"
          }
        },
        "694964596d0646dd9f8021aa95a668e3": {
          "model_module": "@jupyter-widgets/controls",
          "model_name": "HTMLModel",
          "model_module_version": "1.5.0",
          "state": {
            "_dom_classes": [],
            "_model_module": "@jupyter-widgets/controls",
            "_model_module_version": "1.5.0",
            "_model_name": "HTMLModel",
            "_view_count": null,
            "_view_module": "@jupyter-widgets/controls",
            "_view_module_version": "1.5.0",
            "_view_name": "HTMLView",
            "description": "",
            "description_tooltip": null,
            "layout": "IPY_MODEL_486bfb93355046f7ac971ef8053f7cf7",
            "placeholder": "​",
            "style": "IPY_MODEL_0a7298aace9347f4a2b7c52a1de3d595",
            "value": "Downloading (…)okenizer_config.json: 100%"
          }
        },
        "d686edd56f0e4f7483ede3e04e8e6a98": {
          "model_module": "@jupyter-widgets/controls",
          "model_name": "FloatProgressModel",
          "model_module_version": "1.5.0",
          "state": {
            "_dom_classes": [],
            "_model_module": "@jupyter-widgets/controls",
            "_model_module_version": "1.5.0",
            "_model_name": "FloatProgressModel",
            "_view_count": null,
            "_view_module": "@jupyter-widgets/controls",
            "_view_module_version": "1.5.0",
            "_view_name": "ProgressView",
            "bar_style": "success",
            "description": "",
            "description_tooltip": null,
            "layout": "IPY_MODEL_57ca61f32fec4782b4eb0b69f3be62f9",
            "max": 376,
            "min": 0,
            "orientation": "horizontal",
            "style": "IPY_MODEL_b51a8e5f5d084b5da9ef6159bb88db3e",
            "value": 376
          }
        },
        "f35158c6523f4492a527ef8bcd5aef3a": {
          "model_module": "@jupyter-widgets/controls",
          "model_name": "HTMLModel",
          "model_module_version": "1.5.0",
          "state": {
            "_dom_classes": [],
            "_model_module": "@jupyter-widgets/controls",
            "_model_module_version": "1.5.0",
            "_model_name": "HTMLModel",
            "_view_count": null,
            "_view_module": "@jupyter-widgets/controls",
            "_view_module_version": "1.5.0",
            "_view_name": "HTMLView",
            "description": "",
            "description_tooltip": null,
            "layout": "IPY_MODEL_7f3025c672524ab79020ba97dfc5ba11",
            "placeholder": "​",
            "style": "IPY_MODEL_eca01f67c7a74f12b3538ab9e9c5004d",
            "value": " 376/376 [00:00&lt;00:00, 5.82kB/s]"
          }
        },
        "f43fdc89b2294d67a14a7a029d613ee4": {
          "model_module": "@jupyter-widgets/base",
          "model_name": "LayoutModel",
          "model_module_version": "1.2.0",
          "state": {
            "_model_module": "@jupyter-widgets/base",
            "_model_module_version": "1.2.0",
            "_model_name": "LayoutModel",
            "_view_count": null,
            "_view_module": "@jupyter-widgets/base",
            "_view_module_version": "1.2.0",
            "_view_name": "LayoutView",
            "align_content": null,
            "align_items": null,
            "align_self": null,
            "border": null,
            "bottom": null,
            "display": null,
            "flex": null,
            "flex_flow": null,
            "grid_area": null,
            "grid_auto_columns": null,
            "grid_auto_flow": null,
            "grid_auto_rows": null,
            "grid_column": null,
            "grid_gap": null,
            "grid_row": null,
            "grid_template_areas": null,
            "grid_template_columns": null,
            "grid_template_rows": null,
            "height": null,
            "justify_content": null,
            "justify_items": null,
            "left": null,
            "margin": null,
            "max_height": null,
            "max_width": null,
            "min_height": null,
            "min_width": null,
            "object_fit": null,
            "object_position": null,
            "order": null,
            "overflow": null,
            "overflow_x": null,
            "overflow_y": null,
            "padding": null,
            "right": null,
            "top": null,
            "visibility": null,
            "width": null
          }
        },
        "486bfb93355046f7ac971ef8053f7cf7": {
          "model_module": "@jupyter-widgets/base",
          "model_name": "LayoutModel",
          "model_module_version": "1.2.0",
          "state": {
            "_model_module": "@jupyter-widgets/base",
            "_model_module_version": "1.2.0",
            "_model_name": "LayoutModel",
            "_view_count": null,
            "_view_module": "@jupyter-widgets/base",
            "_view_module_version": "1.2.0",
            "_view_name": "LayoutView",
            "align_content": null,
            "align_items": null,
            "align_self": null,
            "border": null,
            "bottom": null,
            "display": null,
            "flex": null,
            "flex_flow": null,
            "grid_area": null,
            "grid_auto_columns": null,
            "grid_auto_flow": null,
            "grid_auto_rows": null,
            "grid_column": null,
            "grid_gap": null,
            "grid_row": null,
            "grid_template_areas": null,
            "grid_template_columns": null,
            "grid_template_rows": null,
            "height": null,
            "justify_content": null,
            "justify_items": null,
            "left": null,
            "margin": null,
            "max_height": null,
            "max_width": null,
            "min_height": null,
            "min_width": null,
            "object_fit": null,
            "object_position": null,
            "order": null,
            "overflow": null,
            "overflow_x": null,
            "overflow_y": null,
            "padding": null,
            "right": null,
            "top": null,
            "visibility": null,
            "width": null
          }
        },
        "0a7298aace9347f4a2b7c52a1de3d595": {
          "model_module": "@jupyter-widgets/controls",
          "model_name": "DescriptionStyleModel",
          "model_module_version": "1.5.0",
          "state": {
            "_model_module": "@jupyter-widgets/controls",
            "_model_module_version": "1.5.0",
            "_model_name": "DescriptionStyleModel",
            "_view_count": null,
            "_view_module": "@jupyter-widgets/base",
            "_view_module_version": "1.2.0",
            "_view_name": "StyleView",
            "description_width": ""
          }
        },
        "57ca61f32fec4782b4eb0b69f3be62f9": {
          "model_module": "@jupyter-widgets/base",
          "model_name": "LayoutModel",
          "model_module_version": "1.2.0",
          "state": {
            "_model_module": "@jupyter-widgets/base",
            "_model_module_version": "1.2.0",
            "_model_name": "LayoutModel",
            "_view_count": null,
            "_view_module": "@jupyter-widgets/base",
            "_view_module_version": "1.2.0",
            "_view_name": "LayoutView",
            "align_content": null,
            "align_items": null,
            "align_self": null,
            "border": null,
            "bottom": null,
            "display": null,
            "flex": null,
            "flex_flow": null,
            "grid_area": null,
            "grid_auto_columns": null,
            "grid_auto_flow": null,
            "grid_auto_rows": null,
            "grid_column": null,
            "grid_gap": null,
            "grid_row": null,
            "grid_template_areas": null,
            "grid_template_columns": null,
            "grid_template_rows": null,
            "height": null,
            "justify_content": null,
            "justify_items": null,
            "left": null,
            "margin": null,
            "max_height": null,
            "max_width": null,
            "min_height": null,
            "min_width": null,
            "object_fit": null,
            "object_position": null,
            "order": null,
            "overflow": null,
            "overflow_x": null,
            "overflow_y": null,
            "padding": null,
            "right": null,
            "top": null,
            "visibility": null,
            "width": null
          }
        },
        "b51a8e5f5d084b5da9ef6159bb88db3e": {
          "model_module": "@jupyter-widgets/controls",
          "model_name": "ProgressStyleModel",
          "model_module_version": "1.5.0",
          "state": {
            "_model_module": "@jupyter-widgets/controls",
            "_model_module_version": "1.5.0",
            "_model_name": "ProgressStyleModel",
            "_view_count": null,
            "_view_module": "@jupyter-widgets/base",
            "_view_module_version": "1.2.0",
            "_view_name": "StyleView",
            "bar_color": null,
            "description_width": ""
          }
        },
        "7f3025c672524ab79020ba97dfc5ba11": {
          "model_module": "@jupyter-widgets/base",
          "model_name": "LayoutModel",
          "model_module_version": "1.2.0",
          "state": {
            "_model_module": "@jupyter-widgets/base",
            "_model_module_version": "1.2.0",
            "_model_name": "LayoutModel",
            "_view_count": null,
            "_view_module": "@jupyter-widgets/base",
            "_view_module_version": "1.2.0",
            "_view_name": "LayoutView",
            "align_content": null,
            "align_items": null,
            "align_self": null,
            "border": null,
            "bottom": null,
            "display": null,
            "flex": null,
            "flex_flow": null,
            "grid_area": null,
            "grid_auto_columns": null,
            "grid_auto_flow": null,
            "grid_auto_rows": null,
            "grid_column": null,
            "grid_gap": null,
            "grid_row": null,
            "grid_template_areas": null,
            "grid_template_columns": null,
            "grid_template_rows": null,
            "height": null,
            "justify_content": null,
            "justify_items": null,
            "left": null,
            "margin": null,
            "max_height": null,
            "max_width": null,
            "min_height": null,
            "min_width": null,
            "object_fit": null,
            "object_position": null,
            "order": null,
            "overflow": null,
            "overflow_x": null,
            "overflow_y": null,
            "padding": null,
            "right": null,
            "top": null,
            "visibility": null,
            "width": null
          }
        },
        "eca01f67c7a74f12b3538ab9e9c5004d": {
          "model_module": "@jupyter-widgets/controls",
          "model_name": "DescriptionStyleModel",
          "model_module_version": "1.5.0",
          "state": {
            "_model_module": "@jupyter-widgets/controls",
            "_model_module_version": "1.5.0",
            "_model_name": "DescriptionStyleModel",
            "_view_count": null,
            "_view_module": "@jupyter-widgets/base",
            "_view_module_version": "1.2.0",
            "_view_name": "StyleView",
            "description_width": ""
          }
        },
        "c3a5f279eb5542f6b66740360f65ad38": {
          "model_module": "@jupyter-widgets/controls",
          "model_name": "HBoxModel",
          "model_module_version": "1.5.0",
          "state": {
            "_dom_classes": [],
            "_model_module": "@jupyter-widgets/controls",
            "_model_module_version": "1.5.0",
            "_model_name": "HBoxModel",
            "_view_count": null,
            "_view_module": "@jupyter-widgets/controls",
            "_view_module_version": "1.5.0",
            "_view_name": "HBoxView",
            "box_style": "",
            "children": [
              "IPY_MODEL_17c61572197b43c2b2360f36f4fc6b55",
              "IPY_MODEL_8be08f71ce854b64bffd83cf3afe7c43",
              "IPY_MODEL_0c6dff80e86541e7ab416ecf08f10299"
            ],
            "layout": "IPY_MODEL_761ccffeee414fa38fb14d2769fc4d0e"
          }
        },
        "17c61572197b43c2b2360f36f4fc6b55": {
          "model_module": "@jupyter-widgets/controls",
          "model_name": "HTMLModel",
          "model_module_version": "1.5.0",
          "state": {
            "_dom_classes": [],
            "_model_module": "@jupyter-widgets/controls",
            "_model_module_version": "1.5.0",
            "_model_name": "HTMLModel",
            "_view_count": null,
            "_view_module": "@jupyter-widgets/controls",
            "_view_module_version": "1.5.0",
            "_view_name": "HTMLView",
            "description": "",
            "description_tooltip": null,
            "layout": "IPY_MODEL_44b343e301f749e582dbffd9a9d0fdb2",
            "placeholder": "​",
            "style": "IPY_MODEL_4811a01d6ed4416cbb34ae34de422373",
            "value": "Downloading (…)lve/main/config.json: 100%"
          }
        },
        "8be08f71ce854b64bffd83cf3afe7c43": {
          "model_module": "@jupyter-widgets/controls",
          "model_name": "FloatProgressModel",
          "model_module_version": "1.5.0",
          "state": {
            "_dom_classes": [],
            "_model_module": "@jupyter-widgets/controls",
            "_model_module_version": "1.5.0",
            "_model_name": "FloatProgressModel",
            "_view_count": null,
            "_view_module": "@jupyter-widgets/controls",
            "_view_module_version": "1.5.0",
            "_view_name": "ProgressView",
            "bar_style": "success",
            "description": "",
            "description_tooltip": null,
            "layout": "IPY_MODEL_172add5b627b4183a11e478569ae35f9",
            "max": 701,
            "min": 0,
            "orientation": "horizontal",
            "style": "IPY_MODEL_abda554a50e2491a9f1e2f6977917087",
            "value": 701
          }
        },
        "0c6dff80e86541e7ab416ecf08f10299": {
          "model_module": "@jupyter-widgets/controls",
          "model_name": "HTMLModel",
          "model_module_version": "1.5.0",
          "state": {
            "_dom_classes": [],
            "_model_module": "@jupyter-widgets/controls",
            "_model_module_version": "1.5.0",
            "_model_name": "HTMLModel",
            "_view_count": null,
            "_view_module": "@jupyter-widgets/controls",
            "_view_module_version": "1.5.0",
            "_view_name": "HTMLView",
            "description": "",
            "description_tooltip": null,
            "layout": "IPY_MODEL_d75e113908da4581980131ba0c864209",
            "placeholder": "​",
            "style": "IPY_MODEL_e67ed555bccd4826a5671691923479bd",
            "value": " 701/701 [00:00&lt;00:00, 10.4kB/s]"
          }
        },
        "761ccffeee414fa38fb14d2769fc4d0e": {
          "model_module": "@jupyter-widgets/base",
          "model_name": "LayoutModel",
          "model_module_version": "1.2.0",
          "state": {
            "_model_module": "@jupyter-widgets/base",
            "_model_module_version": "1.2.0",
            "_model_name": "LayoutModel",
            "_view_count": null,
            "_view_module": "@jupyter-widgets/base",
            "_view_module_version": "1.2.0",
            "_view_name": "LayoutView",
            "align_content": null,
            "align_items": null,
            "align_self": null,
            "border": null,
            "bottom": null,
            "display": null,
            "flex": null,
            "flex_flow": null,
            "grid_area": null,
            "grid_auto_columns": null,
            "grid_auto_flow": null,
            "grid_auto_rows": null,
            "grid_column": null,
            "grid_gap": null,
            "grid_row": null,
            "grid_template_areas": null,
            "grid_template_columns": null,
            "grid_template_rows": null,
            "height": null,
            "justify_content": null,
            "justify_items": null,
            "left": null,
            "margin": null,
            "max_height": null,
            "max_width": null,
            "min_height": null,
            "min_width": null,
            "object_fit": null,
            "object_position": null,
            "order": null,
            "overflow": null,
            "overflow_x": null,
            "overflow_y": null,
            "padding": null,
            "right": null,
            "top": null,
            "visibility": null,
            "width": null
          }
        },
        "44b343e301f749e582dbffd9a9d0fdb2": {
          "model_module": "@jupyter-widgets/base",
          "model_name": "LayoutModel",
          "model_module_version": "1.2.0",
          "state": {
            "_model_module": "@jupyter-widgets/base",
            "_model_module_version": "1.2.0",
            "_model_name": "LayoutModel",
            "_view_count": null,
            "_view_module": "@jupyter-widgets/base",
            "_view_module_version": "1.2.0",
            "_view_name": "LayoutView",
            "align_content": null,
            "align_items": null,
            "align_self": null,
            "border": null,
            "bottom": null,
            "display": null,
            "flex": null,
            "flex_flow": null,
            "grid_area": null,
            "grid_auto_columns": null,
            "grid_auto_flow": null,
            "grid_auto_rows": null,
            "grid_column": null,
            "grid_gap": null,
            "grid_row": null,
            "grid_template_areas": null,
            "grid_template_columns": null,
            "grid_template_rows": null,
            "height": null,
            "justify_content": null,
            "justify_items": null,
            "left": null,
            "margin": null,
            "max_height": null,
            "max_width": null,
            "min_height": null,
            "min_width": null,
            "object_fit": null,
            "object_position": null,
            "order": null,
            "overflow": null,
            "overflow_x": null,
            "overflow_y": null,
            "padding": null,
            "right": null,
            "top": null,
            "visibility": null,
            "width": null
          }
        },
        "4811a01d6ed4416cbb34ae34de422373": {
          "model_module": "@jupyter-widgets/controls",
          "model_name": "DescriptionStyleModel",
          "model_module_version": "1.5.0",
          "state": {
            "_model_module": "@jupyter-widgets/controls",
            "_model_module_version": "1.5.0",
            "_model_name": "DescriptionStyleModel",
            "_view_count": null,
            "_view_module": "@jupyter-widgets/base",
            "_view_module_version": "1.2.0",
            "_view_name": "StyleView",
            "description_width": ""
          }
        },
        "172add5b627b4183a11e478569ae35f9": {
          "model_module": "@jupyter-widgets/base",
          "model_name": "LayoutModel",
          "model_module_version": "1.2.0",
          "state": {
            "_model_module": "@jupyter-widgets/base",
            "_model_module_version": "1.2.0",
            "_model_name": "LayoutModel",
            "_view_count": null,
            "_view_module": "@jupyter-widgets/base",
            "_view_module_version": "1.2.0",
            "_view_name": "LayoutView",
            "align_content": null,
            "align_items": null,
            "align_self": null,
            "border": null,
            "bottom": null,
            "display": null,
            "flex": null,
            "flex_flow": null,
            "grid_area": null,
            "grid_auto_columns": null,
            "grid_auto_flow": null,
            "grid_auto_rows": null,
            "grid_column": null,
            "grid_gap": null,
            "grid_row": null,
            "grid_template_areas": null,
            "grid_template_columns": null,
            "grid_template_rows": null,
            "height": null,
            "justify_content": null,
            "justify_items": null,
            "left": null,
            "margin": null,
            "max_height": null,
            "max_width": null,
            "min_height": null,
            "min_width": null,
            "object_fit": null,
            "object_position": null,
            "order": null,
            "overflow": null,
            "overflow_x": null,
            "overflow_y": null,
            "padding": null,
            "right": null,
            "top": null,
            "visibility": null,
            "width": null
          }
        },
        "abda554a50e2491a9f1e2f6977917087": {
          "model_module": "@jupyter-widgets/controls",
          "model_name": "ProgressStyleModel",
          "model_module_version": "1.5.0",
          "state": {
            "_model_module": "@jupyter-widgets/controls",
            "_model_module_version": "1.5.0",
            "_model_name": "ProgressStyleModel",
            "_view_count": null,
            "_view_module": "@jupyter-widgets/base",
            "_view_module_version": "1.2.0",
            "_view_name": "StyleView",
            "bar_color": null,
            "description_width": ""
          }
        },
        "d75e113908da4581980131ba0c864209": {
          "model_module": "@jupyter-widgets/base",
          "model_name": "LayoutModel",
          "model_module_version": "1.2.0",
          "state": {
            "_model_module": "@jupyter-widgets/base",
            "_model_module_version": "1.2.0",
            "_model_name": "LayoutModel",
            "_view_count": null,
            "_view_module": "@jupyter-widgets/base",
            "_view_module_version": "1.2.0",
            "_view_name": "LayoutView",
            "align_content": null,
            "align_items": null,
            "align_self": null,
            "border": null,
            "bottom": null,
            "display": null,
            "flex": null,
            "flex_flow": null,
            "grid_area": null,
            "grid_auto_columns": null,
            "grid_auto_flow": null,
            "grid_auto_rows": null,
            "grid_column": null,
            "grid_gap": null,
            "grid_row": null,
            "grid_template_areas": null,
            "grid_template_columns": null,
            "grid_template_rows": null,
            "height": null,
            "justify_content": null,
            "justify_items": null,
            "left": null,
            "margin": null,
            "max_height": null,
            "max_width": null,
            "min_height": null,
            "min_width": null,
            "object_fit": null,
            "object_position": null,
            "order": null,
            "overflow": null,
            "overflow_x": null,
            "overflow_y": null,
            "padding": null,
            "right": null,
            "top": null,
            "visibility": null,
            "width": null
          }
        },
        "e67ed555bccd4826a5671691923479bd": {
          "model_module": "@jupyter-widgets/controls",
          "model_name": "DescriptionStyleModel",
          "model_module_version": "1.5.0",
          "state": {
            "_model_module": "@jupyter-widgets/controls",
            "_model_module_version": "1.5.0",
            "_model_name": "DescriptionStyleModel",
            "_view_count": null,
            "_view_module": "@jupyter-widgets/base",
            "_view_module_version": "1.2.0",
            "_view_name": "StyleView",
            "description_width": ""
          }
        },
        "15e0d6d159024c82a0eb2f83d29fc1a8": {
          "model_module": "@jupyter-widgets/controls",
          "model_name": "HBoxModel",
          "model_module_version": "1.5.0",
          "state": {
            "_dom_classes": [],
            "_model_module": "@jupyter-widgets/controls",
            "_model_module_version": "1.5.0",
            "_model_name": "HBoxModel",
            "_view_count": null,
            "_view_module": "@jupyter-widgets/controls",
            "_view_module_version": "1.5.0",
            "_view_name": "HBoxView",
            "box_style": "",
            "children": [
              "IPY_MODEL_9607cac230cc44b882b3054b5bea5b4e",
              "IPY_MODEL_f7f2103bd8734eb589c993ca0d5cd2e3",
              "IPY_MODEL_30edd4a95bbc426baeb002aecc8f478a"
            ],
            "layout": "IPY_MODEL_e6370b30a5644492b6ad3f1cfb25f62b"
          }
        },
        "9607cac230cc44b882b3054b5bea5b4e": {
          "model_module": "@jupyter-widgets/controls",
          "model_name": "HTMLModel",
          "model_module_version": "1.5.0",
          "state": {
            "_dom_classes": [],
            "_model_module": "@jupyter-widgets/controls",
            "_model_module_version": "1.5.0",
            "_model_name": "HTMLModel",
            "_view_count": null,
            "_view_module": "@jupyter-widgets/controls",
            "_view_module_version": "1.5.0",
            "_view_name": "HTMLView",
            "description": "",
            "description_tooltip": null,
            "layout": "IPY_MODEL_7af92b0b404140a3b8ea71ceb4f93bd0",
            "placeholder": "​",
            "style": "IPY_MODEL_ec4d9ffc012e4e14abaf3ba3eed72f51",
            "value": "Downloading (…)solve/main/vocab.txt: 100%"
          }
        },
        "f7f2103bd8734eb589c993ca0d5cd2e3": {
          "model_module": "@jupyter-widgets/controls",
          "model_name": "FloatProgressModel",
          "model_module_version": "1.5.0",
          "state": {
            "_dom_classes": [],
            "_model_module": "@jupyter-widgets/controls",
            "_model_module_version": "1.5.0",
            "_model_name": "FloatProgressModel",
            "_view_count": null,
            "_view_module": "@jupyter-widgets/controls",
            "_view_module_version": "1.5.0",
            "_view_name": "ProgressView",
            "bar_style": "success",
            "description": "",
            "description_tooltip": null,
            "layout": "IPY_MODEL_f4bbe96a283a4f55b7b56cd845311206",
            "max": 1099714,
            "min": 0,
            "orientation": "horizontal",
            "style": "IPY_MODEL_2366ad191f244858ae92e8501b020916",
            "value": 1099714
          }
        },
        "30edd4a95bbc426baeb002aecc8f478a": {
          "model_module": "@jupyter-widgets/controls",
          "model_name": "HTMLModel",
          "model_module_version": "1.5.0",
          "state": {
            "_dom_classes": [],
            "_model_module": "@jupyter-widgets/controls",
            "_model_module_version": "1.5.0",
            "_model_name": "HTMLModel",
            "_view_count": null,
            "_view_module": "@jupyter-widgets/controls",
            "_view_module_version": "1.5.0",
            "_view_name": "HTMLView",
            "description": "",
            "description_tooltip": null,
            "layout": "IPY_MODEL_de176dd60fd348f1b289b04f501a1b0e",
            "placeholder": "​",
            "style": "IPY_MODEL_9966e0491379475fae7be1f9702a5e9d",
            "value": " 1.10M/1.10M [00:00&lt;00:00, 3.53MB/s]"
          }
        },
        "e6370b30a5644492b6ad3f1cfb25f62b": {
          "model_module": "@jupyter-widgets/base",
          "model_name": "LayoutModel",
          "model_module_version": "1.2.0",
          "state": {
            "_model_module": "@jupyter-widgets/base",
            "_model_module_version": "1.2.0",
            "_model_name": "LayoutModel",
            "_view_count": null,
            "_view_module": "@jupyter-widgets/base",
            "_view_module_version": "1.2.0",
            "_view_name": "LayoutView",
            "align_content": null,
            "align_items": null,
            "align_self": null,
            "border": null,
            "bottom": null,
            "display": null,
            "flex": null,
            "flex_flow": null,
            "grid_area": null,
            "grid_auto_columns": null,
            "grid_auto_flow": null,
            "grid_auto_rows": null,
            "grid_column": null,
            "grid_gap": null,
            "grid_row": null,
            "grid_template_areas": null,
            "grid_template_columns": null,
            "grid_template_rows": null,
            "height": null,
            "justify_content": null,
            "justify_items": null,
            "left": null,
            "margin": null,
            "max_height": null,
            "max_width": null,
            "min_height": null,
            "min_width": null,
            "object_fit": null,
            "object_position": null,
            "order": null,
            "overflow": null,
            "overflow_x": null,
            "overflow_y": null,
            "padding": null,
            "right": null,
            "top": null,
            "visibility": null,
            "width": null
          }
        },
        "7af92b0b404140a3b8ea71ceb4f93bd0": {
          "model_module": "@jupyter-widgets/base",
          "model_name": "LayoutModel",
          "model_module_version": "1.2.0",
          "state": {
            "_model_module": "@jupyter-widgets/base",
            "_model_module_version": "1.2.0",
            "_model_name": "LayoutModel",
            "_view_count": null,
            "_view_module": "@jupyter-widgets/base",
            "_view_module_version": "1.2.0",
            "_view_name": "LayoutView",
            "align_content": null,
            "align_items": null,
            "align_self": null,
            "border": null,
            "bottom": null,
            "display": null,
            "flex": null,
            "flex_flow": null,
            "grid_area": null,
            "grid_auto_columns": null,
            "grid_auto_flow": null,
            "grid_auto_rows": null,
            "grid_column": null,
            "grid_gap": null,
            "grid_row": null,
            "grid_template_areas": null,
            "grid_template_columns": null,
            "grid_template_rows": null,
            "height": null,
            "justify_content": null,
            "justify_items": null,
            "left": null,
            "margin": null,
            "max_height": null,
            "max_width": null,
            "min_height": null,
            "min_width": null,
            "object_fit": null,
            "object_position": null,
            "order": null,
            "overflow": null,
            "overflow_x": null,
            "overflow_y": null,
            "padding": null,
            "right": null,
            "top": null,
            "visibility": null,
            "width": null
          }
        },
        "ec4d9ffc012e4e14abaf3ba3eed72f51": {
          "model_module": "@jupyter-widgets/controls",
          "model_name": "DescriptionStyleModel",
          "model_module_version": "1.5.0",
          "state": {
            "_model_module": "@jupyter-widgets/controls",
            "_model_module_version": "1.5.0",
            "_model_name": "DescriptionStyleModel",
            "_view_count": null,
            "_view_module": "@jupyter-widgets/base",
            "_view_module_version": "1.2.0",
            "_view_name": "StyleView",
            "description_width": ""
          }
        },
        "f4bbe96a283a4f55b7b56cd845311206": {
          "model_module": "@jupyter-widgets/base",
          "model_name": "LayoutModel",
          "model_module_version": "1.2.0",
          "state": {
            "_model_module": "@jupyter-widgets/base",
            "_model_module_version": "1.2.0",
            "_model_name": "LayoutModel",
            "_view_count": null,
            "_view_module": "@jupyter-widgets/base",
            "_view_module_version": "1.2.0",
            "_view_name": "LayoutView",
            "align_content": null,
            "align_items": null,
            "align_self": null,
            "border": null,
            "bottom": null,
            "display": null,
            "flex": null,
            "flex_flow": null,
            "grid_area": null,
            "grid_auto_columns": null,
            "grid_auto_flow": null,
            "grid_auto_rows": null,
            "grid_column": null,
            "grid_gap": null,
            "grid_row": null,
            "grid_template_areas": null,
            "grid_template_columns": null,
            "grid_template_rows": null,
            "height": null,
            "justify_content": null,
            "justify_items": null,
            "left": null,
            "margin": null,
            "max_height": null,
            "max_width": null,
            "min_height": null,
            "min_width": null,
            "object_fit": null,
            "object_position": null,
            "order": null,
            "overflow": null,
            "overflow_x": null,
            "overflow_y": null,
            "padding": null,
            "right": null,
            "top": null,
            "visibility": null,
            "width": null
          }
        },
        "2366ad191f244858ae92e8501b020916": {
          "model_module": "@jupyter-widgets/controls",
          "model_name": "ProgressStyleModel",
          "model_module_version": "1.5.0",
          "state": {
            "_model_module": "@jupyter-widgets/controls",
            "_model_module_version": "1.5.0",
            "_model_name": "ProgressStyleModel",
            "_view_count": null,
            "_view_module": "@jupyter-widgets/base",
            "_view_module_version": "1.2.0",
            "_view_name": "StyleView",
            "bar_color": null,
            "description_width": ""
          }
        },
        "de176dd60fd348f1b289b04f501a1b0e": {
          "model_module": "@jupyter-widgets/base",
          "model_name": "LayoutModel",
          "model_module_version": "1.2.0",
          "state": {
            "_model_module": "@jupyter-widgets/base",
            "_model_module_version": "1.2.0",
            "_model_name": "LayoutModel",
            "_view_count": null,
            "_view_module": "@jupyter-widgets/base",
            "_view_module_version": "1.2.0",
            "_view_name": "LayoutView",
            "align_content": null,
            "align_items": null,
            "align_self": null,
            "border": null,
            "bottom": null,
            "display": null,
            "flex": null,
            "flex_flow": null,
            "grid_area": null,
            "grid_auto_columns": null,
            "grid_auto_flow": null,
            "grid_auto_rows": null,
            "grid_column": null,
            "grid_gap": null,
            "grid_row": null,
            "grid_template_areas": null,
            "grid_template_columns": null,
            "grid_template_rows": null,
            "height": null,
            "justify_content": null,
            "justify_items": null,
            "left": null,
            "margin": null,
            "max_height": null,
            "max_width": null,
            "min_height": null,
            "min_width": null,
            "object_fit": null,
            "object_position": null,
            "order": null,
            "overflow": null,
            "overflow_x": null,
            "overflow_y": null,
            "padding": null,
            "right": null,
            "top": null,
            "visibility": null,
            "width": null
          }
        },
        "9966e0491379475fae7be1f9702a5e9d": {
          "model_module": "@jupyter-widgets/controls",
          "model_name": "DescriptionStyleModel",
          "model_module_version": "1.5.0",
          "state": {
            "_model_module": "@jupyter-widgets/controls",
            "_model_module_version": "1.5.0",
            "_model_name": "DescriptionStyleModel",
            "_view_count": null,
            "_view_module": "@jupyter-widgets/base",
            "_view_module_version": "1.2.0",
            "_view_name": "StyleView",
            "description_width": ""
          }
        },
        "cbafd082516d445c92bec558528ce181": {
          "model_module": "@jupyter-widgets/controls",
          "model_name": "HBoxModel",
          "model_module_version": "1.5.0",
          "state": {
            "_dom_classes": [],
            "_model_module": "@jupyter-widgets/controls",
            "_model_module_version": "1.5.0",
            "_model_name": "HBoxModel",
            "_view_count": null,
            "_view_module": "@jupyter-widgets/controls",
            "_view_module_version": "1.5.0",
            "_view_name": "HBoxView",
            "box_style": "",
            "children": [
              "IPY_MODEL_691ed0f69782470bafd4551b11a2776b",
              "IPY_MODEL_23d154f870df4e58bc6f3086a69da07e",
              "IPY_MODEL_0de4e5b3a02d4626b9acfd3ae9b1ecab"
            ],
            "layout": "IPY_MODEL_4ba83f45ea7c4cdc853c0251762adbaa"
          }
        },
        "691ed0f69782470bafd4551b11a2776b": {
          "model_module": "@jupyter-widgets/controls",
          "model_name": "HTMLModel",
          "model_module_version": "1.5.0",
          "state": {
            "_dom_classes": [],
            "_model_module": "@jupyter-widgets/controls",
            "_model_module_version": "1.5.0",
            "_model_name": "HTMLModel",
            "_view_count": null,
            "_view_module": "@jupyter-widgets/controls",
            "_view_module_version": "1.5.0",
            "_view_name": "HTMLView",
            "description": "",
            "description_tooltip": null,
            "layout": "IPY_MODEL_1079028d0667492e8a06c44df23f99ac",
            "placeholder": "​",
            "style": "IPY_MODEL_8f4f0ae224eb43e5add1b2154838dded",
            "value": "Downloading (…)cial_tokens_map.json: 100%"
          }
        },
        "23d154f870df4e58bc6f3086a69da07e": {
          "model_module": "@jupyter-widgets/controls",
          "model_name": "FloatProgressModel",
          "model_module_version": "1.5.0",
          "state": {
            "_dom_classes": [],
            "_model_module": "@jupyter-widgets/controls",
            "_model_module_version": "1.5.0",
            "_model_name": "FloatProgressModel",
            "_view_count": null,
            "_view_module": "@jupyter-widgets/controls",
            "_view_module_version": "1.5.0",
            "_view_name": "ProgressView",
            "bar_style": "success",
            "description": "",
            "description_tooltip": null,
            "layout": "IPY_MODEL_8d67417552934d7db09576d397e099e9",
            "max": 112,
            "min": 0,
            "orientation": "horizontal",
            "style": "IPY_MODEL_6095b436e8ab4306b49c87fdb2d6eb15",
            "value": 112
          }
        },
        "0de4e5b3a02d4626b9acfd3ae9b1ecab": {
          "model_module": "@jupyter-widgets/controls",
          "model_name": "HTMLModel",
          "model_module_version": "1.5.0",
          "state": {
            "_dom_classes": [],
            "_model_module": "@jupyter-widgets/controls",
            "_model_module_version": "1.5.0",
            "_model_name": "HTMLModel",
            "_view_count": null,
            "_view_module": "@jupyter-widgets/controls",
            "_view_module_version": "1.5.0",
            "_view_name": "HTMLView",
            "description": "",
            "description_tooltip": null,
            "layout": "IPY_MODEL_087eaacd56af46e38b5ccf83eb1cb98b",
            "placeholder": "​",
            "style": "IPY_MODEL_ac938f4ccc2e4a1aa31c359c71575c86",
            "value": " 112/112 [00:00&lt;00:00, 2.67kB/s]"
          }
        },
        "4ba83f45ea7c4cdc853c0251762adbaa": {
          "model_module": "@jupyter-widgets/base",
          "model_name": "LayoutModel",
          "model_module_version": "1.2.0",
          "state": {
            "_model_module": "@jupyter-widgets/base",
            "_model_module_version": "1.2.0",
            "_model_name": "LayoutModel",
            "_view_count": null,
            "_view_module": "@jupyter-widgets/base",
            "_view_module_version": "1.2.0",
            "_view_name": "LayoutView",
            "align_content": null,
            "align_items": null,
            "align_self": null,
            "border": null,
            "bottom": null,
            "display": null,
            "flex": null,
            "flex_flow": null,
            "grid_area": null,
            "grid_auto_columns": null,
            "grid_auto_flow": null,
            "grid_auto_rows": null,
            "grid_column": null,
            "grid_gap": null,
            "grid_row": null,
            "grid_template_areas": null,
            "grid_template_columns": null,
            "grid_template_rows": null,
            "height": null,
            "justify_content": null,
            "justify_items": null,
            "left": null,
            "margin": null,
            "max_height": null,
            "max_width": null,
            "min_height": null,
            "min_width": null,
            "object_fit": null,
            "object_position": null,
            "order": null,
            "overflow": null,
            "overflow_x": null,
            "overflow_y": null,
            "padding": null,
            "right": null,
            "top": null,
            "visibility": null,
            "width": null
          }
        },
        "1079028d0667492e8a06c44df23f99ac": {
          "model_module": "@jupyter-widgets/base",
          "model_name": "LayoutModel",
          "model_module_version": "1.2.0",
          "state": {
            "_model_module": "@jupyter-widgets/base",
            "_model_module_version": "1.2.0",
            "_model_name": "LayoutModel",
            "_view_count": null,
            "_view_module": "@jupyter-widgets/base",
            "_view_module_version": "1.2.0",
            "_view_name": "LayoutView",
            "align_content": null,
            "align_items": null,
            "align_self": null,
            "border": null,
            "bottom": null,
            "display": null,
            "flex": null,
            "flex_flow": null,
            "grid_area": null,
            "grid_auto_columns": null,
            "grid_auto_flow": null,
            "grid_auto_rows": null,
            "grid_column": null,
            "grid_gap": null,
            "grid_row": null,
            "grid_template_areas": null,
            "grid_template_columns": null,
            "grid_template_rows": null,
            "height": null,
            "justify_content": null,
            "justify_items": null,
            "left": null,
            "margin": null,
            "max_height": null,
            "max_width": null,
            "min_height": null,
            "min_width": null,
            "object_fit": null,
            "object_position": null,
            "order": null,
            "overflow": null,
            "overflow_x": null,
            "overflow_y": null,
            "padding": null,
            "right": null,
            "top": null,
            "visibility": null,
            "width": null
          }
        },
        "8f4f0ae224eb43e5add1b2154838dded": {
          "model_module": "@jupyter-widgets/controls",
          "model_name": "DescriptionStyleModel",
          "model_module_version": "1.5.0",
          "state": {
            "_model_module": "@jupyter-widgets/controls",
            "_model_module_version": "1.5.0",
            "_model_name": "DescriptionStyleModel",
            "_view_count": null,
            "_view_module": "@jupyter-widgets/base",
            "_view_module_version": "1.2.0",
            "_view_name": "StyleView",
            "description_width": ""
          }
        },
        "8d67417552934d7db09576d397e099e9": {
          "model_module": "@jupyter-widgets/base",
          "model_name": "LayoutModel",
          "model_module_version": "1.2.0",
          "state": {
            "_model_module": "@jupyter-widgets/base",
            "_model_module_version": "1.2.0",
            "_model_name": "LayoutModel",
            "_view_count": null,
            "_view_module": "@jupyter-widgets/base",
            "_view_module_version": "1.2.0",
            "_view_name": "LayoutView",
            "align_content": null,
            "align_items": null,
            "align_self": null,
            "border": null,
            "bottom": null,
            "display": null,
            "flex": null,
            "flex_flow": null,
            "grid_area": null,
            "grid_auto_columns": null,
            "grid_auto_flow": null,
            "grid_auto_rows": null,
            "grid_column": null,
            "grid_gap": null,
            "grid_row": null,
            "grid_template_areas": null,
            "grid_template_columns": null,
            "grid_template_rows": null,
            "height": null,
            "justify_content": null,
            "justify_items": null,
            "left": null,
            "margin": null,
            "max_height": null,
            "max_width": null,
            "min_height": null,
            "min_width": null,
            "object_fit": null,
            "object_position": null,
            "order": null,
            "overflow": null,
            "overflow_x": null,
            "overflow_y": null,
            "padding": null,
            "right": null,
            "top": null,
            "visibility": null,
            "width": null
          }
        },
        "6095b436e8ab4306b49c87fdb2d6eb15": {
          "model_module": "@jupyter-widgets/controls",
          "model_name": "ProgressStyleModel",
          "model_module_version": "1.5.0",
          "state": {
            "_model_module": "@jupyter-widgets/controls",
            "_model_module_version": "1.5.0",
            "_model_name": "ProgressStyleModel",
            "_view_count": null,
            "_view_module": "@jupyter-widgets/base",
            "_view_module_version": "1.2.0",
            "_view_name": "StyleView",
            "bar_color": null,
            "description_width": ""
          }
        },
        "087eaacd56af46e38b5ccf83eb1cb98b": {
          "model_module": "@jupyter-widgets/base",
          "model_name": "LayoutModel",
          "model_module_version": "1.2.0",
          "state": {
            "_model_module": "@jupyter-widgets/base",
            "_model_module_version": "1.2.0",
            "_model_name": "LayoutModel",
            "_view_count": null,
            "_view_module": "@jupyter-widgets/base",
            "_view_module_version": "1.2.0",
            "_view_name": "LayoutView",
            "align_content": null,
            "align_items": null,
            "align_self": null,
            "border": null,
            "bottom": null,
            "display": null,
            "flex": null,
            "flex_flow": null,
            "grid_area": null,
            "grid_auto_columns": null,
            "grid_auto_flow": null,
            "grid_auto_rows": null,
            "grid_column": null,
            "grid_gap": null,
            "grid_row": null,
            "grid_template_areas": null,
            "grid_template_columns": null,
            "grid_template_rows": null,
            "height": null,
            "justify_content": null,
            "justify_items": null,
            "left": null,
            "margin": null,
            "max_height": null,
            "max_width": null,
            "min_height": null,
            "min_width": null,
            "object_fit": null,
            "object_position": null,
            "order": null,
            "overflow": null,
            "overflow_x": null,
            "overflow_y": null,
            "padding": null,
            "right": null,
            "top": null,
            "visibility": null,
            "width": null
          }
        },
        "ac938f4ccc2e4a1aa31c359c71575c86": {
          "model_module": "@jupyter-widgets/controls",
          "model_name": "DescriptionStyleModel",
          "model_module_version": "1.5.0",
          "state": {
            "_model_module": "@jupyter-widgets/controls",
            "_model_module_version": "1.5.0",
            "_model_name": "DescriptionStyleModel",
            "_view_count": null,
            "_view_module": "@jupyter-widgets/base",
            "_view_module_version": "1.2.0",
            "_view_name": "StyleView",
            "description_width": ""
          }
        }
      }
    }
  },
  "nbformat": 4,
  "nbformat_minor": 0
}